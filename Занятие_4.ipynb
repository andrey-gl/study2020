{
  "nbformat": 4,
  "nbformat_minor": 0,
  "metadata": {
    "colab": {
      "name": "Занятие 4.ipynb",
      "provenance": [],
      "authorship_tag": "ABX9TyMkEXkDCkZWuj/TvNBtdult",
      "include_colab_link": true
    },
    "kernelspec": {
      "name": "python3",
      "display_name": "Python 3"
    }
  },
  "cells": [
    {
      "cell_type": "markdown",
      "metadata": {
        "id": "view-in-github",
        "colab_type": "text"
      },
      "source": [
        "<a href=\"https://colab.research.google.com/github/andrey-gl/study2020/blob/master/%D0%97%D0%B0%D0%BD%D1%8F%D1%82%D0%B8%D0%B5_4.ipynb\" target=\"_parent\"><img src=\"https://colab.research.google.com/assets/colab-badge.svg\" alt=\"Open In Colab\"/></a>"
      ]
    },
    {
      "cell_type": "markdown",
      "metadata": {
        "id": "s2gpADf4IwSD"
      },
      "source": [
        " # Понятие выборки. Эмпирическая функция распределения и гистограмма"
      ]
    },
    {
      "cell_type": "markdown",
      "metadata": {
        "id": "3PpoEilOgBGD"
      },
      "source": [
        "**Определение.** Выборкой $\\mathbf{X} = (X_1, . . . , X_n)$ объёма $n$ из распределения $\\mathcal{F}$ называется набор из $n$ независимых и одинаково распределённых случайных величин, имеющих распределение $\\mathcal{F}$."
      ]
    },
    {
      "cell_type": "markdown",
      "metadata": {
        "id": "Tgpm_0WagEpv"
      },
      "source": [
        "**Определение.** Эмпирической функцией распределения, построенной по выборке $\\mathbf{X} = (X_1, . . . , X_n)$ объёма $n$, называется случайная\n",
        "функция $F^*_n:\\Omega\\times\\mathbb{R}\\rightarrow\\mathbb{R}$: \n",
        "$$F^*_n(y) = \\frac{1}{n}\\sum_{i=1}^nI(X_i<y).$$\n",
        "\n",
        "Если элементы выборки $X_1, . . . , X_n$ упорядочить по возрастанию на каждом элементарном исходе, получится новый набор случайных величин, называемый вариационным рядом:\n",
        "\n",
        "$$X_{(1)} \\leq . . . \\leq X_{(n)}.$$\n",
        "\n",
        "Соответственно, мы можем построить эмпитическую функцию распределения по вариационному ряду (см. пример ниже)."
      ]
    },
    {
      "cell_type": "markdown",
      "metadata": {
        "id": "VKj2ARsZgVTi"
      },
      "source": [
        "Если эмпирическая функция распределения – это аналог функции распределения, то аналогом плотности распределения служит гистограмма.\n",
        "\n",
        "Пусть $A_1, ..., A_n$ – интервалы на прямой, называемые интервалами группировки. Обозначим $v_j$ – чило элементов выборки, попавших в интервал $A_j$:\n",
        "$$v_j = \\sum_{i=1}^n I(X_i \\in A_j),$$\n",
        " где $n$ – размер выборки."
      ]
    },
    {
      "cell_type": "markdown",
      "metadata": {
        "id": "VA6T3sBePYwJ"
      },
      "source": [
        "**Теорема.** Пусть $\\mathbf{X} = (X_1, . . . , X_n)$ – выборка объёма $n$ из распределения $\\mathcal{F}$ с функцией распределения $F$ и пусть $F^*_n$ – эмпирическая функция распределения, построенная по этой выборке. Тогда для любого $y \\in \\mathbb{R}$:\n",
        "1. $F^*_n(y)\\stackrel{{\\sf P}}{\\longrightarrow}F(y)$ для любого $y\\in\\mathbb{R}$ при $n\\rightarrow\\infty$ (состоятельность).\n",
        "2. $EF^*_n(y) = F(y)$ (несмещенность);\n",
        "3. $DF^*_n(y) = \\frac{F(y)(1-F(y))}{n}$;\n",
        "4. $\\sqrt n(F^*_n(y) - F(y))\\Rightarrow N_{(0, F(y)(1-F(y))}$ (ассимптотическая нормальность);\n",
        "5. Величина $nF^*_n(y)$ имеет биноминальное распределение $B_{n, F(y)}$.\n",
        "\n"
      ]
    },
    {
      "cell_type": "markdown",
      "metadata": {
        "id": "nAL72xIvhqoF"
      },
      "source": [
        "**Теорема (Гливенко-Кантелли).** Пусть $\\mathbf{X} = (X_1, . . . , X_n)$ – выборка объёма $n$ из распределения $\\mathcal{F}$ с функцией распределения $F$ и пусть $F^*_n$ – эмпирическая функция распределения, построенная по этой выборке. Тогда $sup_{y\\in\\mathbb{R}}|F^*_n(y) - F(y)|\\stackrel{{\\sf P}}{\\longrightarrow}0$  при $n\\rightarrow\\infty$.\n",
        "\n",
        "Более того, в теореме сходимость имеет место сходимость почти наверное. Кроме того, если функция распредлеения $F$ непрерывна, скорость сходимости к нулю в теореме Гливенко-Кантелли имеет порядок $\\frac{1}{\\sqrt n}$."
      ]
    },
    {
      "cell_type": "markdown",
      "metadata": {
        "id": "ovjWjImuh2AU"
      },
      "source": [
        "\n",
        "**Теорема.** Пусть $\\mathbf{X} = (X_1, . . . , X_n)$ – выборка объёма $n$ из распределения $\\mathcal{F}$ с абсолютно непрерывной функцией распределения $F$. Тогда при $n \\rightarrow \\infty$ для любого $j = 1, ..., k$:\n",
        "\n",
        "$$\\frac{v_j}{n}\\stackrel{\\sf P}{\\longrightarrow}P(X_1\\in A_j).$$"
      ]
    },
    {
      "cell_type": "code",
      "metadata": {
        "id": "O--3-N7CTPIZ",
        "colab": {
          "base_uri": "https://localhost:8080/",
          "height": 265
        },
        "outputId": "410cb9b0-2934-4420-9c48-4d08aa72c240"
      },
      "source": [
        "# Построение эмпирической функции распределения\n",
        "import numpy as np\n",
        "import matplotlib.pyplot as plt\n",
        "from scipy.stats import norm\n",
        "\n",
        "N = 100\n",
        "\n",
        "xs = np.arange(-3, 3, 0.001)\n",
        "plt.plot(xs, norm.cdf(xs))\n",
        "\n",
        "mu, sigma = 0, 1\n",
        "x = np.random.normal(mu, sigma, N)\n",
        "\n",
        "x_var = np.sort(x) # вариационный ряд\n",
        "y = np.arange(1, x.size+1) / x.size \n",
        "\n",
        "plt.scatter(x_var, y, color=\"red\")\n",
        "\n",
        "plt.show()"
      ],
      "execution_count": null,
      "outputs": [
        {
          "output_type": "display_data",
          "data": {
            "image/png": "[encoded data removed]",
            "text/plain": [
              "<Figure size 432x288 with 1 Axes>"
            ]
          },
          "metadata": {
            "tags": [],
            "needs_background": "light"
          }
        }
      ]
    },
    {
      "cell_type": "code",
      "metadata": {
        "id": "12xSp0HHD1Il",
        "colab": {
          "base_uri": "https://localhost:8080/",
          "height": 299
        },
        "outputId": "69540a95-50be-408d-8cea-b17dd88d030f"
      },
      "source": [
        "# Асимптотическая нормальность\n",
        "import numpy as np\n",
        "import matplotlib.pyplot as plt\n",
        "from scipy.stats import expon\n",
        "import math\n",
        "\n",
        "\n",
        "N = 10000\n",
        "M = 1000\n",
        "xs = 1\n",
        "l = 1\n",
        "\n",
        "a = np.array([])\n",
        "\n",
        "for _ in range(M):\n",
        "    x = np.random.exponential(l, N)\n",
        "    t = 0\n",
        "    for x_s in x:\n",
        "        if x_s < xs: t = t + 1\n",
        "    a = np.append(a, (N**0.5)*(t/N - expon.cdf(xs)))\n",
        "\n",
        "plt.hist(a, bins = 20, density=True)\n",
        "\n",
        "\n",
        "print(np.std(a))\n",
        "\n",
        "print((expon.cdf(xs)*(1-expon.cdf(xs)))**0.5)\n",
        "\n",
        "plt.show()\n"
      ],
      "execution_count": null,
      "outputs": [
        {
          "output_type": "stream",
          "text": [
            "0.4722007246923706\n",
            "0.48222832552104367\n"
          ],
          "name": "stdout"
        },
        {
          "output_type": "display_data",
          "data": {
            "image/png": "[encoded data removed]",
            "text/plain": [
              "<Figure size 432x288 with 1 Axes>"
            ]
          },
          "metadata": {
            "tags": [],
            "needs_background": "light"
          }
        }
      ]
    },
    {
      "cell_type": "markdown",
      "metadata": {
        "id": "m0jLUI2YM_BG"
      },
      "source": [
        "#Выборочные моменты"
      ]
    },
    {
      "cell_type": "markdown",
      "metadata": {
        "id": "LSmWAlOwsTaR"
      },
      "source": [
        "Мы рассмотрели выборочные аналоги функци распределения и плотности. Теперь перейдем в выборочным аналогам моментов:\n",
        "\n",
        "**Определение.** Оценки для моментов следующие:\n",
        "1. Выборочным средним называется оценка $\\overline{X}  = \\frac{1}{n} \\sum_{i = 1} ^ n X_i$; \n",
        "2. Выборочная дисперсия $S^2 = \\frac{1}{n} \\sum_{i = 1} ^ n (X_i - \\overline{X})^2$. Несмещенная выборочная дисперсия $S^2 = \\frac{1}{n-1} \\sum_{i = 1} ^ n (X_i - \\overline{X})^2$;\n",
        "3. Выборочный $k$-й момент: $\\overline{X^k}  = \\frac{1}{n} \\sum_{i = 1} ^ n X_i^k$."
      ]
    },
    {
      "cell_type": "markdown",
      "metadata": {
        "id": "oc1_lQHVxavv"
      },
      "source": [
        "**Теорема (свойства выборочного среднего).** Выборочное среднее является состоятельной, несмещенной и ассимптотический нормальной оценкой для математического ожидания:\n",
        "1. Если $E|X_1| < \\infty$, то $\\overline{X} \\stackrel{{\\sf P}}{\\longrightarrow} EX_1$;\n",
        "2. Если $E|X_1| < \\infty$, то $E\\overline{X} = EX_1$;\n",
        "3. Если $DX_1 < \\infty$, то $\\sqrt{n}(\\overline{X} - EX_1) \\Rightarrow N_{0, DX_1}$."
      ]
    },
    {
      "cell_type": "markdown",
      "metadata": {
        "id": "PxpCmDVszdJl"
      },
      "source": [
        "**Теорема (свойства выборочной дисперсии).** Выборочное среднее является состоятельной, несмещенной в случае $S_o^2$ и ассимптотический нормальной оценкой для математического ожидания:\n",
        "1. Если $DX_1 < \\infty$, то $S^2 \\stackrel{{\\sf P}}{\\longrightarrow} DX_1$ и $S_0^2 \\stackrel{{\\sf P}}{\\longrightarrow} DX_1$;\n",
        "2. Если $DX_1 < \\infty$, то $ES_0^2 = DX_1$;\n",
        "3. Если $DX_1 < \\infty$, то $\\sqrt{n}(S^2 - DX_1) \\Rightarrow N_{0, D(X_1-EX_1)^2}$."
      ]
    },
    {
      "cell_type": "code",
      "metadata": {
        "id": "SEoPtQRGTZcU",
        "colab": {
          "base_uri": "https://localhost:8080/",
          "height": 299
        },
        "outputId": "85ccd84d-52e8-4afa-cf41-dde6001af60d"
      },
      "source": [
        "# Асимптотическая нормальность математического ожидания\n",
        "import numpy as np\n",
        "import matplotlib.pyplot as plt\n",
        "from scipy.stats import expon\n",
        "import math\n",
        "\n",
        "\n",
        "N = 500\n",
        "M = 1000\n",
        "xs = 0.2\n",
        "l = 2\n",
        "\n",
        "a = np.array([])\n",
        "\n",
        "for _ in range(M):\n",
        "    x = np.random.exponential(l, N)\n",
        "    a = np.append(a, (N**0.5)*(np.mean(x) - expon.mean(scale = 2)))\n",
        "\n",
        "\n",
        "plt.hist(a, bins = 20, density=True)\n",
        "\n",
        "\n",
        "\n",
        "print(np.std(a))\n",
        "\n",
        "print(expon.std(scale = 2))\n",
        "\n",
        "plt.show()"
      ],
      "execution_count": null,
      "outputs": [
        {
          "output_type": "stream",
          "text": [
            "2.0156637450598214\n",
            "2.0\n"
          ],
          "name": "stdout"
        },
        {
          "output_type": "display_data",
          "data": {
            "image/png": "[encoded data removed]",
            "text/plain": [
              "<Figure size 432x288 with 1 Axes>"
            ]
          },
          "metadata": {
            "tags": [],
            "needs_background": "light"
          }
        }
      ]
    }
  ]
}