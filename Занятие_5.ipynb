{
  "nbformat": 4,
  "nbformat_minor": 0,
  "metadata": {
    "colab": {
      "name": "Занятие 5.ipynb",
      "provenance": [],
      "authorship_tag": "ABX9TyMgWHdjWraCoHEhxlLVNbeq",
      "include_colab_link": true
    },
    "kernelspec": {
      "name": "python3",
      "display_name": "Python 3"
    }
  },
  "cells": [
    {
      "cell_type": "markdown",
      "metadata": {
        "id": "view-in-github",
        "colab_type": "text"
      },
      "source": [
        "<a href=\"https://colab.research.google.com/github/andrey-gl/study2020/blob/master/%D0%97%D0%B0%D0%BD%D1%8F%D1%82%D0%B8%D0%B5_5.ipynb\" target=\"_parent\"><img src=\"https://colab.research.google.com/assets/colab-badge.svg\" alt=\"Open In Colab\"/></a>"
      ]
    },
    {
      "cell_type": "markdown",
      "metadata": {
        "id": "WSV3O5k6Oc2R"
      },
      "source": [
        "#Точечное оценивание"
      ]
    },
    {
      "cell_type": "markdown",
      "metadata": {
        "id": "UmXlFnSK-vqG"
      },
      "source": [
        "Пусть $\\mathbf{X} = (X_1, . . . , X_n)$ - выборка объёма $n$ из распределения $\\mathcal{F}_\\theta$, которая известным образом зависит от некоторого параметра $\\theta \\in \\Theta$.\n",
        "\n",
        "**Определение.** Статистикой называется произвольная борелевская функция $\\theta^* = \\theta^*(X_1, . . . , X_n)$ от элементов выборки."
      ]
    },
    {
      "cell_type": "markdown",
      "metadata": {
        "id": "7K6LariS_F7D"
      },
      "source": [
        "Статистика может быть:\n",
        "1. Состоятельной, если для любого $\\theta \\in \\Theta$: $\\theta^* \\stackrel{{\\sf P}}{\\longrightarrow} \\theta$ при $n\\rightarrow \\infty$.\n",
        "2. Несмещенной, если $E\\theta^* = \\theta$;\n",
        "3. Асимптотически несмещенными, если $E\\theta^* \\stackrel{{\\sf P}}{\\longrightarrow} \\theta$ при $n\\rightarrow \\infty$;\n",
        "4. Асимптотически нормальной с коэффициентом $\\sigma ^ 2(\\theta)$, если для любого $\\theta \\in \\Theta$ при $n \\rightarrow \\infty$ $\\sqrt{n}(\\theta^*-\\theta) \\Rightarrow N_{0, \\sigma ^ 2(\\theta)}$."
      ]
    },
    {
      "cell_type": "markdown",
      "metadata": {
        "id": "scRcDHLfOgYE"
      },
      "source": [
        "**Определение. Метод моментов.** Выберем некоторую функцию $g(y): \\mathbb R \\rightarrow \\mathbb R$ такую, чтобы существовал момент $E(g(X_1)) = h(\\theta)$ и функция $h$ была обратима в области $\\Theta$. Тогда статистика\n",
        "$$\\theta^* = h^{-1}(\\overline{g(X)}) = h^{-1}(\\sum_{i = 1}^ng(X_i))$$\n",
        "называется оценкой метода моментов."
      ]
    },
    {
      "cell_type": "markdown",
      "metadata": {
        "id": "c5n0VjAw_p3b"
      },
      "source": [
        "**Теорема.** Пусть $\\theta^* = h^{-1}(\\overline{g(X)})$ - оценка по методу моментов и функция $h^{-1}$ - непрерына. Тогда оценка $\\theta^*$ - состоятельна."
      ]
    },
    {
      "cell_type": "markdown",
      "metadata": {
        "id": "-waKg5wxfZoL"
      },
      "source": [
        "# Построение доверительных интервалов"
      ]
    },
    {
      "cell_type": "markdown",
      "metadata": {
        "id": "7fRYNiFjgVkx"
      },
      "source": [
        "Пусть $\\mathbf{X} = (X_1, . . . , X_n)$ - выборка объёма $n$ из распределения $\\mathcal{F}_\\theta$ с параметром $\\theta \\in \\Theta$.\n",
        "\n",
        "**Определение.** Пусть $0 < ε < 1$. Интервал со случайными концами $(\\theta−, \\theta+) = (\\theta^−(\\mathbf{X}, ε), \\theta^+(\\mathbf{X}, ε))$ называется доверительным интервалом для параметра $\\theta$ уровня доверия $1−ε$, если для любого $\\theta \\in \\Theta$:\n",
        "$$P(\\theta^− < \\theta < \\theta^+) ⩾ 1 − ε.$$\n",
        "\n",
        "**Определение.** Пусть $0 < ε < 1$. Последовательность интервалов со случайными концами $(\\theta−, \\theta+) = (\\theta_n^−(\\mathbf{X}, ε), \\theta_n^+(\\mathbf{X}, ε))$ называется асимптотическим доверительным интервалом для параметра $\\theta$ уровня доверия $1−ε$, если для любого $\\theta \\in \\Theta$:\n",
        "$$lim_{n\\rightarrow\\infty}inf P(\\theta^− < \\theta < \\theta^+) ⩾ 1 − ε.$$"
      ]
    },
    {
      "cell_type": "code",
      "metadata": {
        "id": "h4Ykgg4fjDEq",
        "colab": {
          "base_uri": "https://localhost:8080/"
        },
        "outputId": "19be8347-929e-455b-f344-7206a1e92651"
      },
      "source": [
        "# Построение точных доверительных интервалов с иллюстрацией точности попадания оцениваемого параметра в доверительный интервал\n",
        "import numpy as np\n",
        "import matplotlib.pyplot as plt\n",
        "from scipy.stats import norm\n",
        "import math\n",
        "\n",
        "N = 100 # размер выборки\n",
        "M = 1000\n",
        "xs = 0.2\n",
        "mu = 2\n",
        "sigma = 10\n",
        "\n",
        "k = 0\n",
        "\n",
        "for _ in range(M):\n",
        "    x = np.random.normal(mu, sigma, N)\n",
        "    mu1 = np.mean(x)-(sigma*norm.ppf(1-0.025))/(N**0.5)\n",
        "    mu2 = np.mean(x)+(sigma*norm.ppf(1-0.025))/(N**0.5)\n",
        "    if ((mu < mu2) and (mu > mu1)): k = k+1\n",
        "\n",
        "k / M"
      ],
      "execution_count": null,
      "outputs": [
        {
          "output_type": "execute_result",
          "data": {
            "text/plain": [
              "0.939"
            ]
          },
          "metadata": {
            "tags": []
          },
          "execution_count": 15
        }
      ]
    },
    {
      "cell_type": "markdown",
      "metadata": {
        "id": "Z_1fcbTkJwET"
      },
      "source": [
        "**Принцип потроения доверительных интервалов.** Пусть случайная величина $G(\\mathbf X, \\theta)$ такова, что ее распределение известно и не зависит от $\\theta$. И пусть $G(\\mathbf X, \\theta)$ строго монотонна (как правило, возрастает) и непрерывна по $\\theta$. Пусть также $g-$ и $g+$ – квантили распределения $G$ такие, что \n",
        "$$1-\\epsilon = P(g- < G(\\mathbf X, \\theta) < g+)$$\n",
        "Разрешив неравенство, получим точный доверительный интервал для $\\theta$."
      ]
    },
    {
      "cell_type": "markdown",
      "metadata": {
        "id": "IFVfE6YBXAiW"
      },
      "source": [
        "**Принцип построения асимптотических доверительных интервалов.** Пусть $\\theta^*(\\mathbf X)$ – асимптотически нормальная оценка $\\theta$ с параметром дисперсии $\\sigma ^ 2(\\theta)$. Пусть также $u_{\\epsilon / 2}$ и $u_{1-\\epsilon / 2}$ - квантили распределения $N(0,1)$. Тогда:\n",
        "\n",
        "$$\\lim_{n \\to \\infty}P(u_{\\epsilon / 2} < \\sqrt{n} \\frac{\\theta^*-\\theta}{\\sigma(\\theta)} < u_{1-\\epsilon / 2}) = 1-\\epsilon$$\n",
        "\n",
        "Если есть возможность разрешить данное неравенство, мы получим точный асимптотический доверительный интервал. Если нет, но функция $\\sigma(\\theta)$ – непрерывна, то:\n",
        "\n",
        "$$\\sqrt{n} \\frac{\\theta^*-\\theta}{\\sigma(\\theta^*)} \\Rightarrow N(0,1)$$\n",
        "\n",
        "и тогда без проблем получаем асимптотически точный доверительный интервал."
      ]
    },
    {
      "cell_type": "markdown",
      "metadata": {
        "id": "U99bPzhrmhYO"
      },
      "source": [
        "#Доверительные интервалы для параметров нормального распределения"
      ]
    },
    {
      "cell_type": "markdown",
      "metadata": {
        "id": "zE8aroBIoNBy"
      },
      "source": [
        "**Определение.** Распределение $Г(1/2, n/2)$ называется распределением хи-квадрат и обозначается $\\chi_n^2$.\n",
        "\n",
        "Распределение $\\chi_n^2$ – распределение суммы квадратов независимых стандартных нормальных случайных величин (легко проверить). "
      ]
    },
    {
      "cell_type": "markdown",
      "metadata": {
        "id": "_SLgCTHCpzbo"
      },
      "source": [
        "**Определение.** Пусть $\\xi \\sim \\chi_m^2, \\mu \\sim \\chi_k^2$. Тогда случайная величина $\\frac{\\xi / m}{\\mu / k}$ имеет распределение Фишера с $m, k$ степенями свободы $F_{m,k}$."
      ]
    },
    {
      "cell_type": "markdown",
      "metadata": {
        "id": "oTdyfqt9rOIn"
      },
      "source": [
        "**Определение.** Пусть $\\xi \\sim N(0,1), \\mu \\sim \\chi_n^2$. Тогда случайная величина $\\frac{\\xi}{\\sqrt{\\mu / n}}$ имеет распределение Стьюдента с $n$ степенями свободы и обозначается $T_n$."
      ]
    },
    {
      "cell_type": "markdown",
      "metadata": {
        "id": "l9oJ8kmkuBTh"
      },
      "source": [
        "**Теорема.** Пусть $\\mathbf{X} = (X_1, . . . , X_n)$ - выборка объёма $n$ из распределения $N(\\mu, \\sigma^2)$. Тогда:\n",
        "1. $\\sqrt{n} \\frac{\\overline{X}-\\mu}{\\sigma} \\sim N(0,1)$ – для $\\mu$ при известном $\\sigma$;\n",
        "2. $\\frac{\\sum_{i=1}^n(X_i-a)^2}{\\sigma^2} \\sim \\chi^2_n$ – для $\\sigma$ при известном $\\mu$;\n",
        "3. $\\sqrt n \\frac{\\overline{X} - \\mu}{\\sqrt{S_0^2}} \\sim T_{n-1}$ – для $\\mu$ при неизвестном $\\sigma$;\n",
        "4. $\\frac{(n-1)S_0^2}{\\sigma^2} \\sim \\chi^2_{n-1}$ – для $\\sigma$ при неизвестном $\\mu$.\n",
        "\n",
        "И на основаниии данных статистик мы можем строить точные доверительные интервалы для параметров нормального распределения для соответствующих случаев."
      ]
    }
  ]
}