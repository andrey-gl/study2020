{
  "nbformat": 4,
  "nbformat_minor": 0,
  "metadata": {
    "colab": {
      "name": "Занятие 1.ipynb",
      "provenance": [],
      "authorship_tag": "ABX9TyNtnjklkvEEYafFAcUb+52m",
      "include_colab_link": true
    },
    "kernelspec": {
      "name": "python3",
      "display_name": "Python 3"
    }
  },
  "cells": [
    {
      "cell_type": "markdown",
      "metadata": {
        "id": "view-in-github",
        "colab_type": "text"
      },
      "source": [
        "<a href=\"https://colab.research.google.com/github/andrey-gl/study2020/blob/master/%D0%97%D0%B0%D0%BD%D1%8F%D1%82%D0%B8%D0%B5_1.ipynb\" target=\"_parent\"><img src=\"https://colab.research.google.com/assets/colab-badge.svg\" alt=\"Open In Colab\"/></a>"
      ]
    },
    {
      "cell_type": "markdown",
      "metadata": {
        "id": "Khfqx6-SlFKA"
      },
      "source": [
        "## Системы множеств. Классическое вероятностное пространство"
      ]
    },
    {
      "cell_type": "markdown",
      "metadata": {
        "id": "m04ViL4lITdJ"
      },
      "source": [
        "Предметами изучения теории вероятностей являются случайные события и их вероятности. Под случайным событием подразумевается набор исходов некоторого эксперимента.\n",
        "\n",
        "Пусть некоторый случайный эксперимент допускает $N$ различных исходов (например, при подбрасывании монетки исходов всего два: орел и решка). Обозначим эти исходы $\\omega_1, \\ldots, \\omega_N.$ Исходы $\\omega_1, \\ldots, \\omega_N$ называются элементарными событиями, а их совокупность $\\Omega = \\{\\omega_1, \\ldots, \\omega_N\\}$ – пространством элементарных событий. Вообще говоря, пространство элементарных событий не обязано быть ни конечным, ни даже счетным. Пусть $\\Omega$ – произвольное множество.\n",
        " \n",
        "**Определение.** Элементы $\\omega\\in\\Omega$ называются *элементарными событиями* (*элементарными исходами*), а их совокупность $\\Omega$  – *пространством элементарных исходов*.\n",
        "\n",
        "Событием же является подмножество $A$ множества $\\Omega$. Говорят, что произошло событие $A$, если эксперимент завершился одним из элементарных исходов, входящих в множество $A$. Далеко не каждое подмножество является событием. Для того, чтобы определить, какие же множества являются событиями, вспомним некоторые определения из теории множеств.\n",
        "\n",
        "[Понятие множеств и операций над ними - википедия](https://ru.wikipedia.org/wiki/%D0%9C%D0%BD%D0%BE%D0%B6%D0%B5%D1%81%D1%82%D0%B2%D0%BE)"
      ]
    },
    {
      "cell_type": "markdown",
      "metadata": {
        "id": "4te8RMMdI2sR"
      },
      "source": [
        "**Определение.** Система множеств $\\cal{A}$ называется *алгеброй*, если выполняются следующие 3 свойства:\n",
        "\n",
        "1. $\\Omega \\in \\cal{A}.$\n",
        "2. Если множество $A\\in \\cal{A},$ то и дополнение к этому множеству $\\overline{A}\\in \\cal{A}.$\n",
        "3.  Если множества $A, B \\in \\cal{A},$ то и их объединение $A\\cup B\\in \\cal{A}.$\n",
        "\n",
        "Очевидно, $\\varnothing \\in \\cal{A}$ (следует из свойств 1 и 2 из определения алгебры). Кроме того, если множества $A, B \\in \\cal{A},$ то и их пересечение $A\\cap B\\in \\cal{A}$ (следует из свойств 2 и 3 при использовании правила Де Моргана $\\overline{\\overline{A}\\cup \\overline{B}} = A\\cap B$).\n",
        "\n",
        "**Определение.** Система множеств $\\cal{F}$ называется *сигма-алгеброй*, если выполняются следующие 3 свойства:\n",
        "1. $\\Omega \\in \\cal{F}.$\n",
        "2. Если множество $A\\in \\cal{F},$ то и дополнение к этому множеству $\\overline{A}\\in \\cal{F}.$\n",
        "3. Если множества $A_1, A_2, \\ldots \\in \\cal{F},$ то и их бесконечное объединение $\\bigcup\\limits_{i=1}^{\\infty} A_i\\in \\cal{F}.$\n",
        "\n",
        "Как легко видеть, алгебра от сигма-алгебры отличается только тем, что сигма-алгебра замкнута относительно счетного объединения множеств. Также очевидно, что любая сигма-алгебра является алгеброй, т.е. пустое множество принадлежит любой сигма-алгебре. Кроме того, из правила Де Моргана следует, что если множества $A_1, A_2, \\ldots \\in \\cal{F},$ то и их бесконечное пересечение $\\bigcap\\limits_{i=1}^{\\infty} A_i\\in \\cal{F}.$"
      ]
    },
    {
      "cell_type": "markdown",
      "metadata": {
        "id": "lKwVmjTsJVrS"
      },
      "source": [
        "Пусть дано пространство элементарных событий $\\Omega$ и сигма-алгебра $\\cal{F}$ на нем.\n",
        "\n",
        "**Определение.** Любое множество $A\\in\\mathcal{F}$ называется *событием*. Функция ${\\sf P}$, действующая из $\\cal{F}$ в пространство действительных чисел $\\mathbb{R},$ называется *вероятностной мерой* (или просто *вероятностью*, если выполнены следующие 3 свойства:\n",
        "1. ${\\sf P}(\\Omega)=1;$\n",
        "2. $\\forall A\\in\\cal{F}$ ${\\sf P}(A)\\geq 0;$\n",
        "3. (Сигма-аддитивность вероятностной меры) Для любого набора событий $\\{A_i\\}_{i=1}^{\\infty},$ $A_i\\in\\cal{F},$ $A_i\\cap A_j=\\varnothing$ при $i\\neq j,$ выполнено ${\\sf P}\\left(\\bigcup\\limits_{i=1} {\\infty}A_i\\right) = \\sum\\limits_{i=1}^{\\infty}{\\sf P}(A_i).$"
      ]
    },
    {
      "cell_type": "markdown",
      "metadata": {
        "id": "LbIKcNgnJeB8"
      },
      "source": [
        "**Свойства вероятности:**\n",
        "\n",
        "1. ${\\sf P}(A)\\leq 1;$ \\\\\n",
        "2. ${\\sf P}(A) = 1-{\\sf P}(\\overline{A});$\n",
        "3. ${\\sf P}(\\varnothing)=0;$\n",
        "4. (Монотонность) Если $A\\subseteq B,$ то ${\\sf P}(A)\\leq {\\sf P}(B);$\n",
        "5. ${\\sf P}(A\\cup B)={\\sf P}(A)+{\\sf P}(B)-{\\sf P}(A\\cap B);$\n",
        "6. (Формула включения-исключения) Для любых событий $A_1, \\ldots, A_n$  выполнено \n",
        "$$ \n",
        "{\\sf P}\\left(\\bigcup_{i=1}^{n} A_i\\right) = \\sum\\limits_{i=1}^{n}{\\sf P}(A_i) - \\sum\\limits_{i<j}{\\sf P}(A_i A_j) + \\sum\\limits_{i<j<k}{\\sf P}(A_i A_jA_k) - \\ldots +(-1)^{n-1}{\\sf P}(A_1A_2\\ldots A_n). \n",
        "$$\n",
        "7. (Свойство непрерывности) Для любых событий $A_1, A_2, \\ldots$ таких, что $A_{i+1} \\subseteq A_i,$ $\\bigcap\\limits_{i=1}^{\\infty}A_i = \\varnothing,$ выполнено $\\lim\\limits_{i\\to\\infty}{\\sf P}(A_i)=0.$"
      ]
    },
    {
      "cell_type": "markdown",
      "metadata": {
        "id": "X5SW8mBszDuW"
      },
      "source": [
        "**Определение.** Тройка $(\\Omega, \\cal{F}, {\\sf P})$ называется *вероятностным пространством*.\n",
        "\n",
        "Предположим теперь, что рассматриваемое нами пространство элементарных исходов является конечным, т.е. $\\Omega = \\{\\omega_1,\\omega_2,\\ldots,\\omega_N\\}.$ Зададим в качестве сигма-алгебры на нем множество всех подмножеств $\\Omega$ (оно обозначается $2^{\\Omega}$). Также будем считать, что вероятности всех элементарных исходов равны, т.е. \n",
        "$$ \\forall i \\in \\{1,\\ldots, N\\}\\;\\; {\\sf P}(\\omega_i) = \\frac{1}{N}. $$ \n",
        "Эксперимент, описываемый таким вероятностным пространством, называется *классической вероятностной моделью*. Подобным экспериментом может служить, к примеру, бросание игральной кости. Здесь $\\Omega = \\{1,2,3,4,5,6\\},$ $\\cal{F}$  $=2^{\\Omega}$ и ${\\sf P}(\\{i\\}) = \\frac{1}{6}.$\n"
      ]
    },
    {
      "cell_type": "markdown",
      "metadata": {
        "id": "rmjacDNKJlef"
      },
      "source": [
        "##Пример. Парадокс дней рождения"
      ]
    },
    {
      "cell_type": "code",
      "metadata": {
        "id": "7IXutdy0MrOq",
        "colab": {
          "base_uri": "https://localhost:8080/",
          "height": 607
        },
        "outputId": "3fe04144-5cd7-4278-f116-e462358cfb58"
      },
      "source": [
        "import numpy as np\n",
        "from numpy import round\n",
        "from numpy.random import uniform\n",
        "import matplotlib.pyplot as plt \n",
        "from functools import reduce\n",
        "from math import factorial\n",
        "\n",
        "# Вычислительный метод\n",
        "def p1(n): # кол-во учеников в классе\n",
        "    k = 1000 # кол-во попыток\n",
        "    t = lambda: len(set(round(uniform(size=n) * 356))) == n\n",
        "    return 1 - sum(int(t()) for _ in range(k)) / float(k)\n",
        "\n",
        "# Формальный метод \"в лоб\"\n",
        "def p2(n): # кол-во учеников в классе\n",
        "    return reduce(lambda res, x: res*x, np.array([(1-i/365) for i in np.arange(1, n)]), 1) \n",
        "\n",
        "# Через классическое определение вероятности и комбинаторику\n",
        "def p3(n): # кол-во учеников в классе\n",
        "    return (1 - factorial(365)/(factorial(365-n) * 365 ** n))\n",
        "\n",
        "x = np.arange(1, 50)\n",
        "y1 = np.array([p1(i) for i in x])\n",
        "y2 = np.array([1-p2(i) for i in x])\n",
        "y3 = np.array([p3(int(i)) for i in x])\n",
        "fig = plt.figure(figsize = (5, 10))\n",
        "\n",
        "ax1 = fig.add_subplot(311)\n",
        "ax2 = fig.add_subplot(312)\n",
        "ax3 = fig.add_subplot(313)\n",
        "ax1.set_title(\"Вероятность одинаковых ДР\")\n",
        "ax1.plot(x, y1)\n",
        "ax2.plot(x, y2)\n",
        "ax3.plot(x, y3)\n",
        "plt.show()\n"
      ],
      "execution_count": 2,
      "outputs": [
        {
          "output_type": "display_data",
          "data": {
            "image/png": "[encoded data removed]",
            "text/plain": [
              "<Figure size 360x720 with 3 Axes>"
            ]
          },
          "metadata": {
            "tags": [],
            "needs_background": "light"
          }
        }
      ]
    },
    {
      "cell_type": "markdown",
      "metadata": {
        "id": "poc-nMSqlf0A"
      },
      "source": [
        "#Условная вероятность. Формула полной вероятности и формула Байеса."
      ]
    },
    {
      "cell_type": "markdown",
      "metadata": {
        "id": "v1BUinU8KNvb"
      },
      "source": [
        "Пусть $(\\Omega, {\\cal A}, {\\sf P})$ – вероятностное пространство (в рассматриваемых в этом разделе задачах, как правило, конечное) и $A\\in\\cal{A}$ - некоторое событие. Часто возникает задача вычислить вероятность события при условии, что выполнено другое событие.\n",
        "\n",
        "**Определение.** *Условной вероятностью $A$ при условии $B$* $(P(B)>0)$ называется $P(A|B) = \\frac{P(AB)}{P(B)}.$"
      ]
    },
    {
      "cell_type": "markdown",
      "metadata": {
        "id": "kCrGD1i0KTqd"
      },
      "source": [
        "**Задача.** Брошено 3 игральных кости. Найти вероятность того, что на всех костях выпала \"шестерка\" при условии, что на первой кости выпала \"шестерка\".\n",
        "\n",
        "**Решение.** Обозначим $A=\\{$на первой кости выпала \"шестерка\"$\\},$ $B = \\{$на всех костях выпала \"шестерка\"$\\}.$ Тогда, очевидно, ${\\sf P}(A) = \\frac{1}{6},$ так как выпадение \"шестерка\" - один из шести равнозначных исходов в эксперименте бросания одного кубика. Событие $B\\subset A,$ поэтому ${\\sf P}(A\\cap B) = {\\sf P}(B) = \\frac{1}{6^3},$ так как выпадение трех \"шестерка\" - один из $6^3$ равнозначных исходов в эксперименте бросания 3 игральных костей. Тем самым, ${\\sf P}(B|A) = \\frac{1/6}{1/6^3} = \\frac{1}{36}. \\; \\Box$"
      ]
    },
    {
      "cell_type": "markdown",
      "metadata": {
        "id": "9Y3lkxz4KimT"
      },
      "source": [
        "При решении задач, в которых вероятность события зависит от различных несовместных условий, используется понятия разбиения и ряд утверждений, с ним связанных.\n",
        "\n",
        "**Определение.** *Разбиением* называется такая система событий $\\{A_1, \\ldots, A_n\\}$ (может быть, счетная), что для любых различных $i,j$ выполнено $A_i\\cap A_j = \\varnothing$ и $\\bigcup\\limits_{i=1}^{n} A_i = \\Omega.$\n",
        "\n",
        "**Теорема (формула полной вероятности).** *Пусть имеется разбиение $\\{A_1, \\ldots, A_n\\}$ (может быть, счетное) c ${\\sf P}(A_i)>0,$ $i=1,\\ldots, n.$ Тогда для любого события $B$ верна\n",
        "следующая формула:* $${\\sf P}(B) = \\sum\\limits_{i=1}^{n} {\\sf P}(B|A_i) {\\sf P}(A_i).$$\n",
        "\n",
        "**Теорема (формула Байеса).** Пусть имеется разбиение $\\{A_1, \\ldots, A_n\\}$ (может быть, счетное) c ${\\sf P}(A_i)>0,$ $i=1,\\ldots, n.$ Тогда для любого события $B$ с ${\\sf P}(B)>0$\n",
        "верна следующая формула:\n",
        "$$\n",
        "{\\sf P}(A_i|B) = \\frac{{\\sf P}(B|A_i){\\sf P}(A_i)}{\\sum\\limits_{i=1}^{n} {\\sf P}(B|A_i) {\\sf P}(A_i)}.\n",
        "$$"
      ]
    },
    {
      "cell_type": "markdown",
      "metadata": {
        "id": "BM94A0nfS43u"
      },
      "source": [
        "\n",
        "\n",
        "**Задача.** Мимо магазина пончиков проходят юноши с частотой 0.6, девушки - с частотой 0.3, преподаватели - с частотой 0.1. Юноши покупают пончик с вероятностью 0.4, девушки - с вероятностью 0.9, преподаватели - с вероятностью 0.2. Известно, что последний человек купил пончик. Найдите условную вероятность того, что пончик приобрел преподаватель.\n",
        "\n",
        "**Решение.** Обозначим события $B=\\{$последний человек купил пончик$\\},$ $A_1 = \\{$этот человек - юноша$\\},$ $A_2 = \\{$этот человек - девушка$\\},$ $A_3 = \\{$этот человек - преподаватель$\\}.$ \n",
        "\n",
        "Тогда, по условию задачи, ${\\sf P}(A_1) = 0.6, \\; {\\sf P}(A_2) = 0.3, \\; {\\sf P}(A_3) = 0.1, \\; {\\sf P}(B|A_1) = 0.4, \\; {\\sf P}(B|A_2) = 0.9, \\; {\\sf P}(B|A_3) = 0.2.$ \n",
        "По формуле Байеса \n",
        "$$\n",
        "{\\sf P}(A_3|B) = \\frac{{\\sf P}(B|A_3){\\sf P}(A_3)}{ {\\sf P}(B|A_1) {\\sf P}(A_1)+{\\sf P}(B|A_2) {\\sf P}(A_2)+{\\sf P}(B|A_3) {\\sf P}(A_3)} = $$ $$=\\frac{0.1\\cdot 0.2}{0.6\\cdot0.4+0.3\\cdot0.9+0.1\\cdot0.2} = \\frac{0.02}{0.53} \\approx 0.038. \\; \\Box\n",
        "$$\n"
      ]
    },
    {
      "cell_type": "markdown",
      "metadata": {
        "id": "WHGXEQl5lne9"
      },
      "source": [
        "#Понятие независимости. Схема Бернулли.\n"
      ]
    },
    {
      "cell_type": "markdown",
      "metadata": {
        "id": "9DRgo-Y3LSTw"
      },
      "source": [
        "Будем говорить, что событие $B$ не зависит от события $A,$ если условная вероятность $B$ при условии $A$ равна вероятности $B$: ${\\sf P}(B|A) = {\\sf P}(B).$ Расписывая по определению условную вероятность, получаем $\\frac{{\\sf P}(B\\cap A)}{{\\sf P}(A)} = {\\sf P}(B),$ или ${\\sf P}(A\\cap B) = {\\sf P}(A){\\sf P}(B).$ Отсюда видим, что если $B$ не зависит от $A,$ то и $A$ не зависит от $B.$\n",
        "\n",
        "**Определение.** События $A$ и $B$ *независимы*, если ${\\sf P}(A\\cap B)={\\sf P}(A){\\sf P}(B).$\n",
        "\n",
        "**Свойство.** Если события $A$ и $B$ независимы, то независимы также пары событий $\\{A, \\overline{B}\\},$ $\\{\\overline{A}, B\\}$ и $\\{\\overline{A}, \\overline{B}\\}.$\n",
        "\n",
        "Пусть имеется множество событий $A_1, \\ldots, A_n.$\n",
        "\n",
        "**Определение.** События $A_1, \\ldots, A_n$ называются *попарно независимыми*, если $\\forall i \\neq j,\\; i,j \\in \\{1,\\ldots, n\\},$ выполнено ${\\sf P}(A_i\\cap A_j) = {\\sf P}(A_i){\\sf P}(A_j).$\n",
        "\n",
        "**Определение.** События $A_1, \\ldots, A_n$ называются *независимыми в совокупности*, если для любого набора индексов $1\\leq i_1<i_2<\\ldots<i_k\\leq n$ выполнено ${\\sf P}(A_{i_1} \\cap A_{i_2}\\cap\\ldots\\cap A_{i_k}) = {\\sf P}(A_{i_1}){\\sf P}(A_{i_2})\\ldots {\\sf P}(A_{i_k}).$\n",
        "\n",
        "Легко видеть, что из независимости в совокупности следует попарная независимость. Обратное, как показывает следующий пример, неверно."
      ]
    },
    {
      "cell_type": "markdown",
      "metadata": {
        "id": "YsVDi6v9Lu9Q"
      },
      "source": [
        "**Задача.** (пример Бернштейна) Привести пример таких событий, что они независимы попарно, но не являются независимыми в совокупности.\n",
        "\n",
        "**Решение.** Рассмотрим тетраэдр $ACDE.$ Вершину $A$ покрасим в красный цвет, вершину $C$ – в зеленый, $D$ – в синий, а $E$   сразу в три этих цвета. Рассмотрим эксперимент с\n",
        "равновероятным выбором вершины тетраэдра. Введем события $R = \\{$выбранная вершина покрашена в красный цвет$\\},$ $G = \\{$выбранная вершина покрашена в зеленый цвет$\\}$ и $B = \\{$выбранная вершина покрашена в синий цвет$\\}.$ Тогда ${\\sf P}(B)={\\sf P}(G)={\\sf P}(R)=\\frac{1}{2},$ а вероятности пересечений ${\\sf P}(B\\cap G)={\\sf P}(G\\cap R)={\\sf P}(B\\cap R)=\\frac{1}{4},$ т.е. события $B,$ $G$ и $R$ являются попарно независимыми. Но ${\\sf P}(B\\cap G\\cap R)=\\frac{1}{4}\\neq\\frac{1}{8} = {\\sf P}(B){\\sf P}(G){\\sf P}(R),$ т.е. события не являются независимыми в совокупности. $\\Box$"
      ]
    },
    {
      "cell_type": "markdown",
      "metadata": {
        "id": "mMfH5lJiMA8M"
      },
      "source": [
        "Введем теперь так называемую *схему Бернулли*. Рассмотрим серию идентичных, независимых в совокупности экспериментов, которые имеют 2 исхода (например, многократное подбрасывание монетки). Один из этих исходов назовем успехом (обозначим его $\\{1\\}$), а другой - неудачей (обозначим его $\\{0\\}$). Известно, что вероятность успеха в одном эксперименте равна ${\\sf P}(\\{1\\})=p,$ а неудачи - ${\\sf P}(\\{0\\}) = 1-p = q.$ Тогда пространство элементарных исходов есть все двоичные последовательности длины $n:$\n",
        "$$\n",
        "\\Omega = \\{\\omega=(\\varepsilon_1, \\ldots, \\varepsilon_n), \\; \\varepsilon_1, \\ldots, \\varepsilon_n \\in \\{0,\\;1\\}\\},\n",
        "$$\n",
        "а вероятность каждого исхода равна\n",
        "$$\n",
        "{\\sf P}(\\omega) = p^{\\sum\\limits_{i=1}^{n}\\varepsilon_i} q^{n-\\sum\\limits_{i=1}^{n}\\varepsilon_i}.\n",
        "$$\n",
        "Легко убедиться, что сумма вероятностей всех исходов в таком случае равна 1. Часто требуется найти вероятность того, что в схеме из $n$ испытаний Бернулли произошло $k$ успехов – эта вероятность равна $${\\sf P}(A_k) = C_n^k p^k q^{n-k}.$$"
      ]
    },
    {
      "cell_type": "markdown",
      "metadata": {
        "id": "t8E1XfPYMoYj"
      },
      "source": [
        "**Задача.** Два игрока проводят бесконечную серию независимых испытаний. В каждом испытании игрок $A$ подбрасывает 3 игральные кости, а игрок $B$ – 2 кости одновременно с игроком $A$ и независимо от него. Эти испытания они проводят последовательно до первого выпадения \"шестерки\" хотя бы на одной из костей. Найдите вероятность того, что впервые \"шестерка\" выпала у игрока $A,$ а не у $B.$\n",
        "\n",
        "**Решение.** Рассмотрим событие, заключающееся в том, что \"шестерка\" выпала впервые при $k$-ом испытании. Обозначим $A_k = \\{$\"шестерка\" выпала при $k$-ом испытании у хотя бы одного из игроков$\\}.$ Таким образом, рассматривается событие $\\overline{A_1}\\cap\\overline{A_2}\\cap\\ldots\\cap\\overline{A_{k-1}}\\cap %A_k.$\n",
        "Пусть\n",
        "$$\n",
        "D_k=\\bigcap\\limits_{i=1}^{k-1} \\overline{A_i},\n",
        "$$\n",
        "$B_k = \\{$у игрока $A$ выпала \"шестерка\" при $k$-ом испытании$\\},$ $C_k = \\{$у игрока $B$ выпала \"шестерк\" при $k$-ом испытании$\\}.$ Успехом при $k$-ом испытании будем называть событие заключающееся в том, что при $k$-ом испытании у игрока $A$ выпала \"шестерка\", а у $B$ – не выпала. Эта вероятность равна\n",
        "$$\n",
        "{\\sf P}(B_k\\cap\\overline{C_k}) = {\\sf P}(B_k){\\sf P}(\\overline{C_k}) = \\left(1-\\left(\\frac{5}{6}\\right)^2\\right)\\left(\\frac{5}{6}\\right)^3 = \\frac{11\\cdot 125}{6^5}.\n",
        "$$\n",
        "Так как $B_k$ и $C_k$ не зависят между собой и от $D_k$ по\n",
        "условию, то искомая вероятность равна\n",
        "$$\n",
        "\\sum_{k=1}^n {\\sf P}(B_k\\cap\\overline{C_k}|D_k){\\sf P}(D_k)=\\sum_{k=1}^n {\\sf P}(B_k\\cap\\overline{C_k}){\\sf P}(D_k)=\\frac{25\\cdot 91}{6^5} \\sum_{k=1}^{\\infty} {\\sf P}(D_k)=\n",
        "$$\n",
        "$$\n",
        "\\frac{25\\cdot 91}{6^5}\\left(1+\\left(\\frac{5}{6}\\right)^5+\\left(\\frac{5}{6}\\right)^{10}+\\ldots\\right)=\\frac{25\\cdot 91}{6^5-5^5},\n",
        "$$\n",
        "где $D_1=\\Omega$.\\$\\Box$"
      ]
    },
    {
      "cell_type": "markdown",
      "metadata": {
        "id": "1zpwKx_6iqai"
      },
      "source": [
        "**Задача.** Найти вероятность того, что в $2n$ испытаниях схемы Бернулли с вероятностью успеха $p$ и неудачи $q = 1-p$ появится $m+n$ успехов и все испытания с четными номерами закончатся успехом.\n",
        "\n",
        "**Решение.** Чтобы выполнялось событие, вероятность которого надо найти, при условии, что $n$ испытаний с четными номерами закончились успехом (вероятность этого события, очевидно, $p^n$), необходимо и достаточно, чтобы закончились успехом $m$ испытаний с нечетными номерами. Поскольку испытания с четными и нечетными номерами независимы, то искомая вероятность равна $p^nC_n^m p^m q^{n-m} = C_n^m p^{n+m} q^{n-m}.$ $\\Box$\n"
      ]
    },
    {
      "cell_type": "code",
      "metadata": {
        "id": "fss5jY0aDhbx",
        "colab": {
          "base_uri": "https://localhost:8080/",
          "height": 265
        },
        "outputId": "a1bfa8d2-4f3d-4458-97d7-1b16ffe00aad"
      },
      "source": [
        "# Пример со схемой бернуллии - соответствие частотностей и вероятности\n",
        "\n",
        "import numpy as np\n",
        "from numpy.random import uniform\n",
        "import matplotlib.pyplot as plt\n",
        "from math import factorial\n",
        "\n",
        "\n",
        "def bin(p): return int(uniform() < p)\n",
        "def bern(p, n): return np.array([bin(p) for i in range(0, n)]).sum()\n",
        "def freq(p, n, k): return sum(np.array([bern(p, n) for i in range(0, 1000)]) == k)/1000\n",
        "def prob(p, n, k): return factorial(n)/(factorial(k)*factorial(n-k))*(p**k)*((1-p)**(n-k))\n",
        "\n",
        "x = np.arange(1, 20)\n",
        "\n",
        "y1 = np.array([prob(0.6, 20, i) for i in x])\n",
        "y2 = np.array([freq(0.6, 20, i) for i in x])\n",
        "\n",
        "plt.plot(x, y1)\n",
        "plt.plot(x, y2)\n",
        "plt.show()\n",
        "\n"
      ],
      "execution_count": 7,
      "outputs": [
        {
          "output_type": "display_data",
          "data": {
            "image/png": "[encoded data removed]",
            "text/plain": [
              "<Figure size 432x288 with 1 Axes>"
            ]
          },
          "metadata": {
            "tags": [],
            "needs_background": "light"
          }
        }
      ]
    }
  ]
}