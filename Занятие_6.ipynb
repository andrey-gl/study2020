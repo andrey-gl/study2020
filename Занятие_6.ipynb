{
  "nbformat": 4,
  "nbformat_minor": 0,
  "metadata": {
    "colab": {
      "name": "Занятие 6.ipynb",
      "provenance": [],
      "toc_visible": true,
      "authorship_tag": "ABX9TyPj+pXDigexW2kq5crArgnP",
      "include_colab_link": true
    },
    "kernelspec": {
      "name": "python3",
      "display_name": "Python 3"
    }
  },
  "cells": [
    {
      "cell_type": "markdown",
      "metadata": {
        "id": "view-in-github",
        "colab_type": "text"
      },
      "source": [
        "<a href=\"https://colab.research.google.com/github/andrey-gl/study2020/blob/master/%D0%97%D0%B0%D0%BD%D1%8F%D1%82%D0%B8%D0%B5_6.ipynb\" target=\"_parent\"><img src=\"https://colab.research.google.com/assets/colab-badge.svg\" alt=\"Open In Colab\"/></a>"
      ]
    },
    {
      "cell_type": "markdown",
      "metadata": {
        "id": "YTm8GACOBcT_"
      },
      "source": [
        "# Проверка статистичеких гипотез (теория)"
      ]
    },
    {
      "cell_type": "markdown",
      "metadata": {
        "id": "8CYJptHZBgWB"
      },
      "source": [
        "Наиболее популярные задачи проверки статистических гипотез:\n",
        "1. Гипотеза согласия. Пусть $\\mathbf{X} = (X_1, . . . , X_n)$ - выборка объёма $n$ из распределения $\\mathcal{F}_\\mathbf{X}$ и $\\mathcal{F}$ - некоторая функция распределения. Гипотеза: функции распределения совпадают: $\\mathcal{F}_\\mathbf{X} = \\mathcal{F}$. Привет - гипотеза о нормальности распределения, гипотеза об экспоненциальном распределении.\n",
        "2. Гипотеза однородности. Пусть $\\mathbf{X} = (X_1, . . . , X_n)$ и $\\mathbf{Y} = (Y_1, . . . , Y_m)$ - выборки объема $n$ и $m$ соответственно. Гипотеза: функции распределения совпадают: $\\mathcal{F}_\\mathbf{X} = \\mathcal{F}_\\mathbf{Y}$.\n",
        "3. Гипотеза независимости. Гипотеза: Выборки $\\mathbf{X}$ и $\\mathbf{Y}$ независимы.\n",
        "4. Гипотеза о параметре распределения. Пусть $\\mathbf{X} = (X_1, . . . , X_n)$ - выборка объёма $n$ из распределения $\\mathcal{F}_\\theta(\\mathbf{X})$. Гипотеза: $\\theta(\\mathbf{X}) = \\theta$."
      ]
    },
    {
      "cell_type": "markdown",
      "metadata": {
        "id": "Z54mixAcBaR8"
      },
      "source": [
        "**Определение:** Гипотезой ($H$) называется любое предположение о распределении наблюдений. \n",
        "\n",
        "Как правило, рассматриваются две гипотезы:\n",
        "1. $H_0$ - основная или нулевая гипотеза\n",
        "2. $H_1$ - алтернативная гипотеза\n",
        "\n",
        "Пусть дана выборка $\\mathbf{X} = (X_1, . . . , X_n)$. Статитикой критерия называется функция от выборки $T(\\mathbf{X})$, которая позволяет определить, насколько наши данные согласуются с нашии гипотезами (неточное определение).\n",
        "\n",
        "**Определение:** Ошибкой первого рода - отвергаем основную гипотезу, когда она верна. Ошибка второго рода - отвергаем альтернативную гипотезу, когда она верна.\n",
        "\n",
        "1. $P_{H_0}(T(\\mathbf{X}) > T_\\alpha) \\leq \\alpha$.\n",
        "2. $P_{H_1}(T(\\mathbf{X}) < T_\\alpha) \\rightarrow 0$.\n",
        "\n",
        "Здесь $P_{H_0}(T(\\mathbf{X}) > T_\\alpha)$ - ошибка первого рода, $P_{H_1}(T(\\mathbf{X}) < T_\\alpha)$ - ошибка второго рода, $\\alpha$ - уровень значимости."
      ]
    },
    {
      "cell_type": "markdown",
      "metadata": {
        "id": "JxJWOX1DNdqV"
      },
      "source": [
        "**Проверка на нормальность**\n",
        "\n",
        "Тест Шапиро-Уилка - проверка на нормальность.\n",
        "Когда распределение не является нормальным:\n",
        "1. Выборосы\n",
        "2. Ассиметрия\n",
        "3. Отклонение от формы\n",
        "\n",
        "Альтернативные способ проверки центра распределения - медианы. Критерий Манна-Уитни.\n",
        "\n",
        "**Гипотезы о равенстве математических ожиданий двух выборок.**\n",
        "1. Если выборки парные, используется парный t-критерий Стьюдента\n",
        "2. Если выборни независимые, используется t-критерий для двух независимых выборок.\n",
        "\n",
        "Вопрос о равенствен дисперсий. F-тест Фишера или критерий Флигнера-Килена.\n",
        "\n",
        "Если отклонение от нормальности существенно:\n",
        "1. Игнорировать при больших объемах данных.\n",
        "2. Использовать медиану вместо матожидания.\n",
        "3. Преобразование данных."
      ]
    },
    {
      "cell_type": "markdown",
      "metadata": {
        "id": "LRe6WwBLeJM0"
      },
      "source": [
        "# Проверка статистичеких гипотез (Практика)"
      ]
    },
    {
      "cell_type": "markdown",
      "metadata": {
        "id": "SN73O05UeMgT"
      },
      "source": [
        "##Пример. Проверка на нормальность\n"
      ]
    },
    {
      "cell_type": "code",
      "metadata": {
        "colab": {
          "base_uri": "https://localhost:8080/",
          "height": 265
        },
        "id": "bXcip0ynSakD",
        "outputId": "dc884457-3a16-4cd7-f44c-d85fc3db7351"
      },
      "source": [
        "import pandas as pd\n",
        "import numpy as np\n",
        "import matplotlib\n",
        "import matplotlib.pyplot as plt\n",
        "from scipy import stats\n",
        "matplotlib.style.use('ggplot')\n",
        "\n",
        "df = pd.read_csv('sample_data/town_1959_2.csv', encoding='cp1251')\n",
        "df = df.set_index(u'номер')\n",
        "\n",
        "plt.hist(np.log10(df[u'население']))\n",
        "\n",
        "plt.show()"
      ],
      "execution_count": 38,
      "outputs": [
        {
          "output_type": "display_data",
          "data": {
            "image/png": "[encoded data removed]",
            "text/plain": [
              "<Figure size 432x288 with 1 Axes>"
            ]
          },
          "metadata": {
            "tags": []
          }
        }
      ]
    },
    {
      "cell_type": "code",
      "metadata": {
        "colab": {
          "base_uri": "https://localhost:8080/"
        },
        "id": "kD6C2__5SxKW",
        "outputId": "2e03f9c8-711c-427a-fe26-19c61b9d6f8d"
      },
      "source": [
        "res = stats.shapiro(np.log10(df[u'население']))\n",
        "print('p-value: ', res[1])"
      ],
      "execution_count": 9,
      "outputs": [
        {
          "output_type": "stream",
          "text": [
            "p-value:  3.1486824866172602e-12\n"
          ],
          "name": "stdout"
        }
      ]
    },
    {
      "cell_type": "code",
      "metadata": {
        "colab": {
          "base_uri": "https://localhost:8080/",
          "height": 265
        },
        "id": "533FWh4CS69N",
        "outputId": "33dba555-93be-4aef-bb50-940937dff44e"
      },
      "source": [
        "# отклоняем гипотезу о нормальности. Почему?\n",
        "plt.hist(np.log10(df[u'население']), bins=50);"
      ],
      "execution_count": 6,
      "outputs": [
        {
          "output_type": "display_data",
          "data": {
            "image/png": "[encoded data removed]",
            "text/plain": [
              "<Figure size 432x288 with 1 Axes>"
            ]
          },
          "metadata": {
            "tags": [],
            "needs_background": "light"
          }
        }
      ]
    },
    {
      "cell_type": "code",
      "metadata": {
        "colab": {
          "base_uri": "https://localhost:8080/",
          "height": 204
        },
        "id": "rleRA8_zS_gk",
        "outputId": "2478bb03-5eb4-4c9a-a571-a96c8c903e5e"
      },
      "source": [
        "df = pd.read_csv('sample_data/Albuquerque Home Prices_data.txt', sep='\\t')\n",
        "df.head()"
      ],
      "execution_count": 10,
      "outputs": [
        {
          "output_type": "execute_result",
          "data": {
            "text/html": [
              "<div>\n",
              "<style scoped>\n",
              "    .dataframe tbody tr th:only-of-type {\n",
              "        vertical-align: middle;\n",
              "    }\n",
              "\n",
              "    .dataframe tbody tr th {\n",
              "        vertical-align: top;\n",
              "    }\n",
              "\n",
              "    .dataframe thead th {\n",
              "        text-align: right;\n",
              "    }\n",
              "</style>\n",
              "<table border=\"1\" class=\"dataframe\">\n",
              "  <thead>\n",
              "    <tr style=\"text-align: right;\">\n",
              "      <th></th>\n",
              "      <th>PRICE</th>\n",
              "      <th>SQFT</th>\n",
              "      <th>AGE</th>\n",
              "      <th>FEATS</th>\n",
              "      <th>NE</th>\n",
              "      <th>CUST</th>\n",
              "      <th>COR</th>\n",
              "      <th>TAX</th>\n",
              "    </tr>\n",
              "  </thead>\n",
              "  <tbody>\n",
              "    <tr>\n",
              "      <th>0</th>\n",
              "      <td>2050</td>\n",
              "      <td>2650</td>\n",
              "      <td>13</td>\n",
              "      <td>7</td>\n",
              "      <td>1</td>\n",
              "      <td>1</td>\n",
              "      <td>0</td>\n",
              "      <td>1639</td>\n",
              "    </tr>\n",
              "    <tr>\n",
              "      <th>1</th>\n",
              "      <td>2080</td>\n",
              "      <td>2600</td>\n",
              "      <td>-9999</td>\n",
              "      <td>4</td>\n",
              "      <td>1</td>\n",
              "      <td>1</td>\n",
              "      <td>0</td>\n",
              "      <td>1088</td>\n",
              "    </tr>\n",
              "    <tr>\n",
              "      <th>2</th>\n",
              "      <td>2150</td>\n",
              "      <td>2664</td>\n",
              "      <td>6</td>\n",
              "      <td>5</td>\n",
              "      <td>1</td>\n",
              "      <td>1</td>\n",
              "      <td>0</td>\n",
              "      <td>1193</td>\n",
              "    </tr>\n",
              "    <tr>\n",
              "      <th>3</th>\n",
              "      <td>2150</td>\n",
              "      <td>2921</td>\n",
              "      <td>3</td>\n",
              "      <td>6</td>\n",
              "      <td>1</td>\n",
              "      <td>1</td>\n",
              "      <td>0</td>\n",
              "      <td>1635</td>\n",
              "    </tr>\n",
              "    <tr>\n",
              "      <th>4</th>\n",
              "      <td>1999</td>\n",
              "      <td>2580</td>\n",
              "      <td>4</td>\n",
              "      <td>4</td>\n",
              "      <td>1</td>\n",
              "      <td>1</td>\n",
              "      <td>0</td>\n",
              "      <td>1732</td>\n",
              "    </tr>\n",
              "  </tbody>\n",
              "</table>\n",
              "</div>"
            ],
            "text/plain": [
              "   PRICE  SQFT   AGE  FEATS  NE  CUST  COR   TAX\n",
              "0   2050  2650    13      7   1     1    0  1639\n",
              "1   2080  2600 -9999      4   1     1    0  1088\n",
              "2   2150  2664     6      5   1     1    0  1193\n",
              "3   2150  2921     3      6   1     1    0  1635\n",
              "4   1999  2580     4      4   1     1    0  1732"
            ]
          },
          "metadata": {
            "tags": []
          },
          "execution_count": 10
        }
      ]
    },
    {
      "cell_type": "markdown",
      "metadata": {
        "id": "iLEiua1feSyc"
      },
      "source": [
        "## Пример. Критерий Манна-Уитни.\n"
      ]
    },
    {
      "cell_type": "code",
      "metadata": {
        "colab": {
          "base_uri": "https://localhost:8080/",
          "height": 204
        },
        "id": "wbJs9NomUpWh",
        "outputId": "0ba911b6-af9a-4933-fa7f-d2abcae7adc2"
      },
      "source": [
        "df = df.replace(-9999, np.nan)\n",
        "df.head()"
      ],
      "execution_count": 11,
      "outputs": [
        {
          "output_type": "execute_result",
          "data": {
            "text/html": [
              "<div>\n",
              "<style scoped>\n",
              "    .dataframe tbody tr th:only-of-type {\n",
              "        vertical-align: middle;\n",
              "    }\n",
              "\n",
              "    .dataframe tbody tr th {\n",
              "        vertical-align: top;\n",
              "    }\n",
              "\n",
              "    .dataframe thead th {\n",
              "        text-align: right;\n",
              "    }\n",
              "</style>\n",
              "<table border=\"1\" class=\"dataframe\">\n",
              "  <thead>\n",
              "    <tr style=\"text-align: right;\">\n",
              "      <th></th>\n",
              "      <th>PRICE</th>\n",
              "      <th>SQFT</th>\n",
              "      <th>AGE</th>\n",
              "      <th>FEATS</th>\n",
              "      <th>NE</th>\n",
              "      <th>CUST</th>\n",
              "      <th>COR</th>\n",
              "      <th>TAX</th>\n",
              "    </tr>\n",
              "  </thead>\n",
              "  <tbody>\n",
              "    <tr>\n",
              "      <th>0</th>\n",
              "      <td>2050</td>\n",
              "      <td>2650</td>\n",
              "      <td>13.0</td>\n",
              "      <td>7</td>\n",
              "      <td>1</td>\n",
              "      <td>1</td>\n",
              "      <td>0</td>\n",
              "      <td>1639.0</td>\n",
              "    </tr>\n",
              "    <tr>\n",
              "      <th>1</th>\n",
              "      <td>2080</td>\n",
              "      <td>2600</td>\n",
              "      <td>NaN</td>\n",
              "      <td>4</td>\n",
              "      <td>1</td>\n",
              "      <td>1</td>\n",
              "      <td>0</td>\n",
              "      <td>1088.0</td>\n",
              "    </tr>\n",
              "    <tr>\n",
              "      <th>2</th>\n",
              "      <td>2150</td>\n",
              "      <td>2664</td>\n",
              "      <td>6.0</td>\n",
              "      <td>5</td>\n",
              "      <td>1</td>\n",
              "      <td>1</td>\n",
              "      <td>0</td>\n",
              "      <td>1193.0</td>\n",
              "    </tr>\n",
              "    <tr>\n",
              "      <th>3</th>\n",
              "      <td>2150</td>\n",
              "      <td>2921</td>\n",
              "      <td>3.0</td>\n",
              "      <td>6</td>\n",
              "      <td>1</td>\n",
              "      <td>1</td>\n",
              "      <td>0</td>\n",
              "      <td>1635.0</td>\n",
              "    </tr>\n",
              "    <tr>\n",
              "      <th>4</th>\n",
              "      <td>1999</td>\n",
              "      <td>2580</td>\n",
              "      <td>4.0</td>\n",
              "      <td>4</td>\n",
              "      <td>1</td>\n",
              "      <td>1</td>\n",
              "      <td>0</td>\n",
              "      <td>1732.0</td>\n",
              "    </tr>\n",
              "  </tbody>\n",
              "</table>\n",
              "</div>"
            ],
            "text/plain": [
              "   PRICE  SQFT   AGE  FEATS  NE  CUST  COR     TAX\n",
              "0   2050  2650  13.0      7   1     1    0  1639.0\n",
              "1   2080  2600   NaN      4   1     1    0  1088.0\n",
              "2   2150  2664   6.0      5   1     1    0  1193.0\n",
              "3   2150  2921   3.0      6   1     1    0  1635.0\n",
              "4   1999  2580   4.0      4   1     1    0  1732.0"
            ]
          },
          "metadata": {
            "tags": []
          },
          "execution_count": 11
        }
      ]
    },
    {
      "cell_type": "code",
      "metadata": {
        "id": "gQi93q0sUuRP"
      },
      "source": [
        "x = df[df['COR'] == 1]['PRICE']\n",
        "y = df[df['COR'] == 0]['PRICE']\n",
        "x.name, y.name = 'corner', 'not corner'"
      ],
      "execution_count": 12,
      "outputs": []
    },
    {
      "cell_type": "code",
      "metadata": {
        "id": "7NhRMKG1Uxkh"
      },
      "source": [
        "# Функции определяются так.\n",
        "def two_histograms(x, y):\n",
        "# После определения функции полезно бывает добавить её описание в таком стиле.\n",
        "# Тройные кавычки -- для обрамления многострочных строковых литералов.\n",
        "    \"\"\"\n",
        "    Функция, которая построит две гистограммы на одной картинке.\n",
        "    Дополнительно пунктирными линиями указываются средние значения выборок.\n",
        "    x: вектор pd.Series,\n",
        "    y: вектор pd.Series\n",
        "    \"\"\"\n",
        "    x.hist(alpha=0.5, weights=[1./len(x)]*len(x))\n",
        "    y.hist(alpha=0.5, weights=[1./len(y)]*len(y))\n",
        "    plt.axvline(x.mean(), color='red', alpha=0.8, linestyle='dashed')\n",
        "    plt.axvline(y.mean(), color='blue', alpha=0.8, linestyle='dashed')\n",
        "    plt.legend([x.name, y.name])"
      ],
      "execution_count": 13,
      "outputs": []
    },
    {
      "cell_type": "code",
      "metadata": {
        "colab": {
          "base_uri": "https://localhost:8080/",
          "height": 265
        },
        "id": "s_Ec11vxU2-b",
        "outputId": "fe05f626-6728-4c0a-b07f-370b364d8524"
      },
      "source": [
        "two_histograms(x, y)"
      ],
      "execution_count": 14,
      "outputs": [
        {
          "output_type": "display_data",
          "data": {
            "image/png": "[encoded data removed]",
            "text/plain": [
              "<Figure size 432x288 with 1 Axes>"
            ]
          },
          "metadata": {
            "tags": []
          }
        }
      ]
    },
    {
      "cell_type": "code",
      "metadata": {
        "colab": {
          "base_uri": "https://localhost:8080/"
        },
        "id": "sx9YFoJGU4_B",
        "outputId": "274a998d-cea8-4a40-9374-a0a57819508e"
      },
      "source": [
        "res = stats.mannwhitneyu(x, y)\n",
        "print('p-value:', res[1])"
      ],
      "execution_count": 15,
      "outputs": [
        {
          "output_type": "stream",
          "text": [
            "p-value: 0.40220407862126695\n"
          ],
          "name": "stdout"
        }
      ]
    },
    {
      "cell_type": "markdown",
      "metadata": {
        "id": "OX8Ezn4tfoUt"
      },
      "source": [
        "##Пример. T-критерий стьюдента "
      ]
    },
    {
      "cell_type": "code",
      "metadata": {
        "colab": {
          "base_uri": "https://localhost:8080/",
          "height": 204
        },
        "id": "4lsflWeFVR2y",
        "outputId": "079ae9a1-73d1-41b3-9424-904b02f7f5d0"
      },
      "source": [
        "df = pd.read_csv('sample_data/interference.csv')\n",
        "df.head()"
      ],
      "execution_count": 21,
      "outputs": [
        {
          "output_type": "execute_result",
          "data": {
            "text/html": [
              "<div>\n",
              "<style scoped>\n",
              "    .dataframe tbody tr th:only-of-type {\n",
              "        vertical-align: middle;\n",
              "    }\n",
              "\n",
              "    .dataframe tbody tr th {\n",
              "        vertical-align: top;\n",
              "    }\n",
              "\n",
              "    .dataframe thead th {\n",
              "        text-align: right;\n",
              "    }\n",
              "</style>\n",
              "<table border=\"1\" class=\"dataframe\">\n",
              "  <thead>\n",
              "    <tr style=\"text-align: right;\">\n",
              "      <th></th>\n",
              "      <th>Subj</th>\n",
              "      <th>DiffCol</th>\n",
              "      <th>Black</th>\n",
              "    </tr>\n",
              "  </thead>\n",
              "  <tbody>\n",
              "    <tr>\n",
              "      <th>0</th>\n",
              "      <td>1</td>\n",
              "      <td>39.64</td>\n",
              "      <td>37.53</td>\n",
              "    </tr>\n",
              "    <tr>\n",
              "      <th>1</th>\n",
              "      <td>2</td>\n",
              "      <td>44.26</td>\n",
              "      <td>42.02</td>\n",
              "    </tr>\n",
              "    <tr>\n",
              "      <th>2</th>\n",
              "      <td>3</td>\n",
              "      <td>33.84</td>\n",
              "      <td>31.99</td>\n",
              "    </tr>\n",
              "    <tr>\n",
              "      <th>3</th>\n",
              "      <td>4</td>\n",
              "      <td>53.88</td>\n",
              "      <td>39.48</td>\n",
              "    </tr>\n",
              "    <tr>\n",
              "      <th>4</th>\n",
              "      <td>5</td>\n",
              "      <td>38.94</td>\n",
              "      <td>43.09</td>\n",
              "    </tr>\n",
              "  </tbody>\n",
              "</table>\n",
              "</div>"
            ],
            "text/plain": [
              "   Subj  DiffCol  Black\n",
              "0     1    39.64  37.53\n",
              "1     2    44.26  42.02\n",
              "2     3    33.84  31.99\n",
              "3     4    53.88  39.48\n",
              "4     5    38.94  43.09"
            ]
          },
          "metadata": {
            "tags": []
          },
          "execution_count": 21
        }
      ]
    },
    {
      "cell_type": "code",
      "metadata": {
        "id": "a0FBlthMbdJY"
      },
      "source": [
        "x = df['DiffCol']\n",
        "y = df['Black']\n",
        "x.name, y.name = 'DiffCol', 'Black'"
      ],
      "execution_count": 22,
      "outputs": []
    },
    {
      "cell_type": "code",
      "metadata": {
        "colab": {
          "base_uri": "https://localhost:8080/",
          "height": 265
        },
        "id": "sbJ5LzFQcJNG",
        "outputId": "4e191312-1a94-4a22-8612-3a5eb4bf07d2"
      },
      "source": [
        "two_histograms(x, y)"
      ],
      "execution_count": 23,
      "outputs": [
        {
          "output_type": "display_data",
          "data": {
            "image/png": "[encoded data removed]",
            "text/plain": [
              "<Figure size 432x288 with 1 Axes>"
            ]
          },
          "metadata": {
            "tags": []
          }
        }
      ]
    },
    {
      "cell_type": "code",
      "metadata": {
        "colab": {
          "base_uri": "https://localhost:8080/"
        },
        "id": "PqjqZoDRcK7n",
        "outputId": "9a121394-86a7-4784-f289-a35f98fe3135"
      },
      "source": [
        "res = stats.ttest_rel(x, y)\n",
        "print('p-value: ', res[1])"
      ],
      "execution_count": 27,
      "outputs": [
        {
          "output_type": "stream",
          "text": [
            "p-value:  0.0162416779538072\n"
          ],
          "name": "stdout"
        }
      ]
    },
    {
      "cell_type": "code",
      "metadata": {
        "colab": {
          "base_uri": "https://localhost:8080/"
        },
        "id": "7iEsvF3HcM6d",
        "outputId": "f68c37f1-2d4e-45a8-e158-4eec2955dd02"
      },
      "source": [
        "res = stats.fligner(x, y)\n",
        "print('p-value: ', res[1])\n",
        "#Гипотезу о равенстве дисперсий отвергаем"
      ],
      "execution_count": 28,
      "outputs": [
        {
          "output_type": "stream",
          "text": [
            "p-value:  0.0457148434681976\n"
          ],
          "name": "stdout"
        }
      ]
    },
    {
      "cell_type": "code",
      "metadata": {
        "colab": {
          "base_uri": "https://localhost:8080/"
        },
        "id": "lSS-oVoWch5y",
        "outputId": "ac494555-77c4-4ff6-9fc9-587ea2d9cab7"
      },
      "source": [
        "res = stats.ttest_ind(x, y, equal_var=False)\n",
        "print('p-value: ', res[1])\n",
        "#а если все таки не отвергаем?"
      ],
      "execution_count": 30,
      "outputs": [
        {
          "output_type": "stream",
          "text": [
            "p-value:  0.015244667999298047\n"
          ],
          "name": "stdout"
        }
      ]
    },
    {
      "cell_type": "code",
      "metadata": {
        "colab": {
          "base_uri": "https://localhost:8080/"
        },
        "id": "mtP4CvHxcy3m",
        "outputId": "26d80f83-5079-4f75-8a50-720b44505142"
      },
      "source": [
        "res = stats.ttest_ind(x, y, equal_var=True)\n",
        "print('p-value: ', res[1])"
      ],
      "execution_count": 32,
      "outputs": [
        {
          "output_type": "stream",
          "text": [
            "p-value:  0.015175237251894121\n"
          ],
          "name": "stdout"
        }
      ]
    },
    {
      "cell_type": "markdown",
      "metadata": {
        "id": "0elRgrGCeXNh"
      },
      "source": [
        "## Пример зависимости цены от площади\n"
      ]
    },
    {
      "cell_type": "code",
      "metadata": {
        "colab": {
          "base_uri": "https://localhost:8080/",
          "height": 204
        },
        "id": "8OEEcJs9dZsQ",
        "outputId": "aba728c5-85ef-4a00-e498-16fabf451d79"
      },
      "source": [
        "df = pd.read_csv('sample_data/Albuquerque Home Prices_data.txt', sep='\\t')\n",
        "df = df.replace(-9999, np.nan)\n",
        "df.head()"
      ],
      "execution_count": 34,
      "outputs": [
        {
          "output_type": "execute_result",
          "data": {
            "text/html": [
              "<div>\n",
              "<style scoped>\n",
              "    .dataframe tbody tr th:only-of-type {\n",
              "        vertical-align: middle;\n",
              "    }\n",
              "\n",
              "    .dataframe tbody tr th {\n",
              "        vertical-align: top;\n",
              "    }\n",
              "\n",
              "    .dataframe thead th {\n",
              "        text-align: right;\n",
              "    }\n",
              "</style>\n",
              "<table border=\"1\" class=\"dataframe\">\n",
              "  <thead>\n",
              "    <tr style=\"text-align: right;\">\n",
              "      <th></th>\n",
              "      <th>PRICE</th>\n",
              "      <th>SQFT</th>\n",
              "      <th>AGE</th>\n",
              "      <th>FEATS</th>\n",
              "      <th>NE</th>\n",
              "      <th>CUST</th>\n",
              "      <th>COR</th>\n",
              "      <th>TAX</th>\n",
              "    </tr>\n",
              "  </thead>\n",
              "  <tbody>\n",
              "    <tr>\n",
              "      <th>0</th>\n",
              "      <td>2050</td>\n",
              "      <td>2650</td>\n",
              "      <td>13.0</td>\n",
              "      <td>7</td>\n",
              "      <td>1</td>\n",
              "      <td>1</td>\n",
              "      <td>0</td>\n",
              "      <td>1639.0</td>\n",
              "    </tr>\n",
              "    <tr>\n",
              "      <th>1</th>\n",
              "      <td>2080</td>\n",
              "      <td>2600</td>\n",
              "      <td>NaN</td>\n",
              "      <td>4</td>\n",
              "      <td>1</td>\n",
              "      <td>1</td>\n",
              "      <td>0</td>\n",
              "      <td>1088.0</td>\n",
              "    </tr>\n",
              "    <tr>\n",
              "      <th>2</th>\n",
              "      <td>2150</td>\n",
              "      <td>2664</td>\n",
              "      <td>6.0</td>\n",
              "      <td>5</td>\n",
              "      <td>1</td>\n",
              "      <td>1</td>\n",
              "      <td>0</td>\n",
              "      <td>1193.0</td>\n",
              "    </tr>\n",
              "    <tr>\n",
              "      <th>3</th>\n",
              "      <td>2150</td>\n",
              "      <td>2921</td>\n",
              "      <td>3.0</td>\n",
              "      <td>6</td>\n",
              "      <td>1</td>\n",
              "      <td>1</td>\n",
              "      <td>0</td>\n",
              "      <td>1635.0</td>\n",
              "    </tr>\n",
              "    <tr>\n",
              "      <th>4</th>\n",
              "      <td>1999</td>\n",
              "      <td>2580</td>\n",
              "      <td>4.0</td>\n",
              "      <td>4</td>\n",
              "      <td>1</td>\n",
              "      <td>1</td>\n",
              "      <td>0</td>\n",
              "      <td>1732.0</td>\n",
              "    </tr>\n",
              "  </tbody>\n",
              "</table>\n",
              "</div>"
            ],
            "text/plain": [
              "   PRICE  SQFT   AGE  FEATS  NE  CUST  COR     TAX\n",
              "0   2050  2650  13.0      7   1     1    0  1639.0\n",
              "1   2080  2600   NaN      4   1     1    0  1088.0\n",
              "2   2150  2664   6.0      5   1     1    0  1193.0\n",
              "3   2150  2921   3.0      6   1     1    0  1635.0\n",
              "4   1999  2580   4.0      4   1     1    0  1732.0"
            ]
          },
          "metadata": {
            "tags": []
          },
          "execution_count": 34
        }
      ]
    },
    {
      "cell_type": "code",
      "metadata": {
        "colab": {
          "base_uri": "https://localhost:8080/",
          "height": 282
        },
        "id": "WhOd2WANdd2v",
        "outputId": "a961c761-83fb-49c4-b3e3-3d5e97d8692e"
      },
      "source": [
        "plt.scatter(df['PRICE'], df['SQFT'])"
      ],
      "execution_count": 35,
      "outputs": [
        {
          "output_type": "execute_result",
          "data": {
            "text/plain": [
              "<matplotlib.collections.PathCollection at 0x7f7b7d76e278>"
            ]
          },
          "metadata": {
            "tags": []
          },
          "execution_count": 35
        },
        {
          "output_type": "display_data",
          "data": {
            "image/png": "[encoded data removed]",
            "text/plain": [
              "<Figure size 432x288 with 1 Axes>"
            ]
          },
          "metadata": {
            "tags": []
          }
        }
      ]
    },
    {
      "cell_type": "code",
      "metadata": {
        "colab": {
          "base_uri": "https://localhost:8080/"
        },
        "id": "qstm76AxdlW7",
        "outputId": "e3d39392-9ab5-4401-b7ed-35aab9439a08"
      },
      "source": [
        "res = stats.pearsonr(df['PRICE'], df['SQFT'])\n",
        "print('p-value: ', res[1])"
      ],
      "execution_count": 37,
      "outputs": [
        {
          "output_type": "stream",
          "text": [
            "p-value:  5.146345707629025e-33\n"
          ],
          "name": "stdout"
        }
      ]
    }
  ]
}