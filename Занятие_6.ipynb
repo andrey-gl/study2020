{
  "nbformat": 4,
  "nbformat_minor": 0,
  "metadata": {
    "colab": {
      "name": "Занятие 6.ipynb",
      "provenance": [],
      "toc_visible": true,
      "authorship_tag": "ABX9TyN1qyXddP+fDfO1RffbdSn5",
      "include_colab_link": true
    },
    "kernelspec": {
      "name": "python3",
      "display_name": "Python 3"
    }
  },
  "cells": [
    {
      "cell_type": "markdown",
      "metadata": {
        "id": "view-in-github",
        "colab_type": "text"
      },
      "source": [
        "<a href=\"https://colab.research.google.com/github/andrey-gl/study2020/blob/master/%D0%97%D0%B0%D0%BD%D1%8F%D1%82%D0%B8%D0%B5_6.ipynb\" target=\"_parent\"><img src=\"https://colab.research.google.com/assets/colab-badge.svg\" alt=\"Open In Colab\"/></a>"
      ]
    },
    {
      "cell_type": "markdown",
      "metadata": {
        "id": "YTm8GACOBcT_"
      },
      "source": [
        "# Проверка статистичеких гипотез"
      ]
    },
    {
      "cell_type": "markdown",
      "metadata": {
        "id": "YxPqq0__4xKQ"
      },
      "source": [
        "**Определение.** Гипотезой ($H$) называется любое предположение о распределении наблюдений. \n",
        "\n",
        "**Определение.** Пусть дана выборка $\\mathbf{X} = (X_1, . . . , X_n)$, относительно которой выдвинуты критерии $H_1, ... , H_k$. Критерием $t(\\mathbf X)$ называется измеримое отображение из $t:\\mathbb R^n \\rightarrow (H_1, ...., H_k)$ из множества всех значений выборки в множество гипотез. Тогда ошибка $i$-го рода – это вероятность отвергнуть верную нипотезу $H_i$."
      ]
    },
    {
      "cell_type": "markdown",
      "metadata": {
        "id": "-w0l519t8_b0"
      },
      "source": [
        "Как правило, рассматриваются две гипотезы: $H_0$ - основная или нулевая гипотеза, $H_1$ - альтернативная гипотеза.\n",
        "\n",
        "В этой ситуации множество $\\mathbb R^n$ делится на две части. Та область, в которой отвергается нулевая гипотеза, называется критической областью или множеством.\n",
        "\n",
        "В большинстве случаев мы имеем дело с так называемыми критериями согласия, когда простая нулевая гипотеза $H_0$ проверяется относительно сложной альтернативы ($H_0$ – неверна). Итак, пусть дана выборка $\\mathbf{X} = (X_1, . . . , X_n)$ из распределения $F$. Проверется гипотеза $H_0 = (F=F_0)$ против альтернативы $H_0 = (F \\neq F_0)$. \n",
        "\n",
        "**Определение.** Пусть существует борелевская функция $T(\\mathbf X)$, такая то:\n",
        "1. Если $H_0$ верна, то $T(\\mathbf X) \\Rightarrow \\mathbb \\mu$, где $\\mu \\sim \\mathbb T$ – известное непрерывное распределение;\n",
        "2. Если $H_0$ неверна, то для любого $F_1 \\neq F_0$: $|T(\\mathbf X| \\stackrel{P}{\\longrightarrow} \\infty$ при $n \\rightarrow \\infty$.\n",
        "\n",
        "Для заданного уровня значимости $\\varepsilon$ определим $C$: $\\varepsilon = P(|\\mu| \\geq C)$\n",
        "\n",
        "$$ \\delta (\\mathbf X) = \\begin{cases}\n",
        "H_1, & |t(\\mathbf X)| < C, \\\\\n",
        "H_2, & |t(\\mathbf X)| \\geq C.\n",
        "\\end{cases}\n",
        "$$\n",
        "\n",
        "Данный критерий и называется критерием согласия.\n",
        "\n",
        "Отметим, что на практике поступают обратным образом. По данной реализации выборки вычисляется значение статистики критерия $t^* = T(\\mathbf x)$ и значение $p = P(|T(x)| \\geq |t^*|)$. Если $p \\leq \\varepsilon$, то мы отвергаем $H_0$, если $p > \\varepsilon$, то отвегаем $H_1$. В этом случае $p$ называется $p$-значением для данной выборки.\n",
        "\n"
      ]
    },
    {
      "cell_type": "markdown",
      "metadata": {
        "id": "LRe6WwBLeJM0"
      },
      "source": [
        "# Проверка статистичеких гипотез (Практика)"
      ]
    },
    {
      "cell_type": "code",
      "metadata": {
        "id": "OnIiEOmc6Pvn"
      },
      "source": [
        " # Подгружаем необходимые библиотеки\n",
        "import numpy as np\n",
        "import matplotlib\n",
        "import matplotlib.pyplot as plt\n",
        "from scipy import stats"
      ],
      "execution_count": null,
      "outputs": []
    },
    {
      "cell_type": "markdown",
      "metadata": {
        "id": "SN73O05UeMgT"
      },
      "source": [
        "##Пример. Гипотеза о среднем нормального распределения с известной дисперсией\n"
      ]
    },
    {
      "cell_type": "code",
      "metadata": {
        "colab": {
          "base_uri": "https://localhost:8080/"
        },
        "id": "nLL9xLf58yP3",
        "outputId": "3a819183-c85b-4bb8-8499-1a3710026519"
      },
      "source": [
        "n = 100\n",
        "a = 1\n",
        "sigma = 2\n",
        "x = np.random.normal(a, sigma, n) # генерируем выборку\n",
        "a0 = 1.2\n",
        "# Проверяется гипотеза H0 = (a = a0) против альтернативы H1 = (a не равно a0)\n",
        "t = n**0.5 * (x.mean() - a0) / sigma # статистика критерия\n",
        "\n",
        "p = 2 * (1 - stats.norm.cdf(np.abs(t))) # p-значение\n",
        "\n",
        "t, p\n",
        "\n",
        "# Видим, что в зависимости от того, как сгенерирована выборка, иногда критерий отклоняет гипотезу, иногда не отклоняет\n"
      ],
      "execution_count": null,
      "outputs": [
        {
          "output_type": "execute_result",
          "data": {
            "text/plain": [
              "(-0.49198223662934026, 0.6227319010593131)"
            ]
          },
          "metadata": {
            "tags": []
          },
          "execution_count": 54
        }
      ]
    },
    {
      "cell_type": "markdown",
      "metadata": {
        "id": "c29idVgRAuni"
      },
      "source": [
        "##Пример. Гипотеза о среднем нормального распределения с неизвестной дисперсией"
      ]
    },
    {
      "cell_type": "code",
      "metadata": {
        "colab": {
          "base_uri": "https://localhost:8080/"
        },
        "id": "vXULRWL0A21m",
        "outputId": "5b45eddf-699b-4152-b10e-4c0e4ccbe5cd"
      },
      "source": [
        "n = 100\n",
        "a = 1\n",
        "sigma = 2\n",
        "x = np.random.normal(a, sigma, n) # генерируем выборку\n",
        "a0 = 2\n",
        "# Проверяется гипотеза H0 = (a = a0) против альтернативы H1 = (a не равно a0)\n",
        "t = n**0.5 * (x.mean() - a0) / ((x.var() * n / (n-1))**0.5) # статистика критерия\n",
        "# Статистика критерия имеет распределение Сьюдента с n-1 степенями свободы\n",
        "p = 2 * (1 - stats.t.cdf(np.abs(t), n-1)) # p-значение\n",
        "\n",
        "t, p"
      ],
      "execution_count": null,
      "outputs": [
        {
          "output_type": "execute_result",
          "data": {
            "text/plain": [
              "(-4.499148297116019, 1.861081078935456e-05)"
            ]
          },
          "metadata": {
            "tags": []
          },
          "execution_count": 69
        }
      ]
    },
    {
      "cell_type": "code",
      "metadata": {
        "colab": {
          "base_uri": "https://localhost:8080/"
        },
        "id": "jdQxe8ezC27g",
        "outputId": "96b279d5-2f0e-41b7-d688-172beedd3189"
      },
      "source": [
        "# То же самое, но с использованием библиотеки stats\n",
        "stats.ttest_1samp(x, a0)\n",
        "# Значение статистики критерия и p-значение совпали с вычисленными ранее"
      ],
      "execution_count": null,
      "outputs": [
        {
          "output_type": "execute_result",
          "data": {
            "text/plain": [
              "Ttest_1sampResult(statistic=-4.499148297116019, pvalue=1.8610810789236063e-05)"
            ]
          },
          "metadata": {
            "tags": []
          },
          "execution_count": 70
        }
      ]
    },
    {
      "cell_type": "markdown",
      "metadata": {
        "id": "lmPVj0-bE-8m"
      },
      "source": [
        "##Пример. Критерий Стьюдента"
      ]
    },
    {
      "cell_type": "code",
      "metadata": {
        "colab": {
          "base_uri": "https://localhost:8080/"
        },
        "id": "7VZoUpt4FGkC",
        "outputId": "194dbfd0-ec24-45ac-e6eb-f5eda72f9a8e"
      },
      "source": [
        "n = 100\n",
        "m = 200\n",
        "a1 = 1\n",
        "a2 = 2\n",
        "sigma = 2\n",
        "x = np.random.normal(a1, sigma, n) # генерируем первую выборку\n",
        "y = np.random.normal(a2, sigma, m) # генерируем вторую выборку\n",
        "\n",
        "# Проверяется гипотеза H0 = (a1 = a2) против альтернативы H1 = (a1 не равно a2)\n",
        "t = ((n*m/(n+m))**0.5)*(x.mean()-y.mean())/(((n*x.var()+m*y.var())/(n+m-2))**0.5) # статистика критерия\n",
        "# Статистика критерия имеет распределение Сьюдента с n+m-2 степенями свободы\n",
        "p = 2 * (1 - stats.t.cdf(np.abs(t), n+m-2)) #p-значение\n",
        "\n",
        "t, p"
      ],
      "execution_count": null,
      "outputs": [
        {
          "output_type": "execute_result",
          "data": {
            "text/plain": [
              "(-5.743626454520005, 2.285198119622578e-08)"
            ]
          },
          "metadata": {
            "tags": []
          },
          "execution_count": 81
        }
      ]
    },
    {
      "cell_type": "code",
      "metadata": {
        "colab": {
          "base_uri": "https://localhost:8080/"
        },
        "id": "pY2FXB-TDjO9",
        "outputId": "6208f149-bb70-423a-d0b5-907f959ba625"
      },
      "source": [
        "stats.ttest_ind(x, y, equal_var=True)\n",
        "# Значение статистики критерия и p-значение совпали с вычисленными ранее"
      ],
      "execution_count": null,
      "outputs": [
        {
          "output_type": "execute_result",
          "data": {
            "text/plain": [
              "Ttest_indResult(statistic=-5.743626454520005, pvalue=2.2851981271658924e-08)"
            ]
          },
          "metadata": {
            "tags": []
          },
          "execution_count": 82
        }
      ]
    },
    {
      "cell_type": "markdown",
      "metadata": {
        "id": "HyK69KrJg6v-"
      },
      "source": [
        "#Однофакторный дисперсионный анализ"
      ]
    },
    {
      "cell_type": "markdown",
      "metadata": {
        "id": "aFRfE9YYnJV6"
      },
      "source": [
        "\n",
        "Пусть даны $k$ независимых выборок $\\mathbf{X}^1 = (X^1_1...X^1_{n_1})$, ..., $\\mathbf{X}^k = (X^k_1...X^k_{n_1})$, где $X^j_i \\sim N_{a_j, \\sigma^2}$. \n",
        "\n",
        "Проверяется основная гипотеза $H_0 = (a_1=....=a_k)$.\n",
        "\n",
        "Для каждой выборки вычислим выборочное среднее и выборочную дисперсию:\n",
        "\n",
        "$$\\overline{X}^j = \\frac{1}{n_j} \\sum_{i=1}^{n_j}X_i^j,  {S^2}^i = \\frac{1}{n_j} \\sum_{i=1}^{n_j} (X_i^j - \\overline{X}^j)^2$$.\n",
        "\n",
        "Положим $n = n_1 + ... + n_k$. Тогда:\n",
        "1. $\\overline{X} = \\frac{1}{n} \\sum \\limits_{i, j} X_i^j, S^2 = \\frac{1}{n} \\sum \\limits_{i, j} (X_i^j - \\overline{X})^2$ - общее выборочное среднее и общая выборочная дисперсия;\n",
        "2. $S_м^2 = \\frac{1}{n} \\sum \\limits_{j=1}^k n_j(\\overline{X}^j - \\overline{X})^2$ - межгрупповая дисперсия;\n",
        "3. $S_в^2 = \\frac{1}{n} \\sum \\limits_{j=1}^k \\sum \\limits_{i=1}^{n_j} (X_i^j - \\overline{X}^j)^2 $ - общая внутригрупповая дисперсия.\n",
        "\n",
        "Легко проверить, что:\n",
        "$$\\frac{nS^2}{\\sigma^2} = \\frac{nS_м^2}{\\sigma^2} + \\frac{nS_в^2}{\\sigma^2}$$ \n",
        "\n",
        "В этой соотношении $\\frac{nS^2}{\\sigma^2} \\sim H_{n-1}, \\frac{nS_м^2}{\\sigma^2} \\sim H_{k-1}, \\frac{nS_в^2}{\\sigma^2} \\sim H_{n-k}$.\n",
        "\n",
        "Построим статистику критерия следующим образом:\n",
        "\n",
        "$$T = \\frac{nS_м^2}{\\sigma^2(k-1)} \\frac{\\sigma^2(n-k)}{nS_в^2} \\sim F_{k-1, n-k}$$"
      ]
    },
    {
      "cell_type": "markdown",
      "metadata": {
        "id": "bkX7vP8AHfAn"
      },
      "source": [
        "##Пример. Однофакторный дисперсионный анализ"
      ]
    },
    {
      "cell_type": "code",
      "metadata": {
        "colab": {
          "base_uri": "https://localhost:8080/"
        },
        "id": "jHxDA5P03qDI",
        "outputId": "822b56bf-1c4e-4618-8cbf-fd24ba866f58"
      },
      "source": [
        "# Ннаши выборки\n",
        "x1 = np.array([1, 2, 5])\n",
        "x2 = np.array([2, 4, 2])\n",
        "x3 = np.array([6, 7, 9])\n",
        "\n",
        "# Выборка из средних\n",
        "m = np.array([x1.mean(),x2.mean(),x3.mean()])\n",
        "# Объединенная выборка\n",
        "x = np.vstack((x1, x2, x3))\n",
        " \n",
        "s = x.var() # общая выборочная диперсия\n",
        "sm = m.var() # межгрупповая дисперсия\n",
        "sb = (x1.var()*3 + x2.var()*3 + x3.var()*3)/9 # внутригрупповая дисперсия\n",
        "\n",
        "t = (sm/2)/(sb/6) # статистика критерия\n",
        "\n",
        "p = 1-stats.f.cdf(t, 2, 6) # p-значения, вычисленное по распределению Фишера\n",
        "\n",
        "t, p"
      ],
      "execution_count": null,
      "outputs": [
        {
          "output_type": "execute_result",
          "data": {
            "text/plain": [
              "(8.166666666666666, 0.01939068302949498)"
            ]
          },
          "metadata": {
            "tags": []
          },
          "execution_count": 3
        }
      ]
    },
    {
      "cell_type": "code",
      "metadata": {
        "colab": {
          "base_uri": "https://localhost:8080/"
        },
        "id": "pE6-E8fi39io",
        "outputId": "83f844fe-cdca-45a1-8ccf-73f60022f417"
      },
      "source": [
        "res = stats.f_oneway(x1, x2, x3)\n",
        "res\n",
        "# Значения, вычисленные вручную и с помощью библиотеки ожидаемо совпадают. Гипотезу о равенстве мат. ожиданий выборок отвергаем на урочне значимости 0.05."
      ],
      "execution_count": null,
      "outputs": [
        {
          "output_type": "execute_result",
          "data": {
            "text/plain": [
              "F_onewayResult(statistic=8.166666666666663, pvalue=0.01939068302949501)"
            ]
          },
          "metadata": {
            "tags": []
          },
          "execution_count": 8
        }
      ]
    }
  ]
}