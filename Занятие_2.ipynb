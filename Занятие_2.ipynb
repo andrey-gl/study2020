{
  "nbformat": 4,
  "nbformat_minor": 0,
  "metadata": {
    "colab": {
      "name": "Занятие 2.ipynb",
      "provenance": [],
      "authorship_tag": "ABX9TyPuzUrOnXFPws+GH4oF4Kti",
      "include_colab_link": true
    },
    "kernelspec": {
      "name": "python3",
      "display_name": "Python 3"
    }
  },
  "cells": [
    {
      "cell_type": "markdown",
      "metadata": {
        "id": "view-in-github",
        "colab_type": "text"
      },
      "source": [
        "<a href=\"https://colab.research.google.com/github/andrey-gl/study2020/blob/master/%D0%97%D0%B0%D0%BD%D1%8F%D1%82%D0%B8%D0%B5_2.ipynb\" target=\"_parent\"><img src=\"https://colab.research.google.com/assets/colab-badge.svg\" alt=\"Open In Colab\"/></a>"
      ]
    },
    {
      "cell_type": "markdown",
      "metadata": {
        "id": "KjT4BrArGVBr"
      },
      "source": [
        "#Распределения вероятностей"
      ]
    },
    {
      "cell_type": "markdown",
      "metadata": {
        "id": "65irJbsT8I6I"
      },
      "source": [
        "На практике при подсчете вероятностей чаще всего рассматриваются события, определяемые с помощью действительных чисел (или векторов, компоненты которых являются действительными числами). В этой связи важным объектом для изучения являются вероятностные меры, заданные на $(\\mathbb{R},\\mathcal{B}(\\mathbb{R}))$ и $(\\mathbb{R}^n,\\mathcal{B}(\\mathbb{R}^n))$.\n",
        "\n",
        "**Определение.** *Борелевской сигма-алгеброй* $\\mathcal{B}(\\mathbb{R})$ на прямой называется минимальная сигма-алгебра, содержащая все отрезки, полуинтервалы и интервалы действительной прямой $\\mathbb{R}.$\n",
        "\n",
        "**Определение.** Вероятностная мера ${\\sf P}$, заданная на $(\\mathbb{R},\\mathcal{B}(\\mathbb{R}))$, называется *распределением вероятностей*."
      ]
    },
    {
      "cell_type": "markdown",
      "metadata": {
        "id": "Y3uvLghg8WtZ"
      },
      "source": [
        "Оказывается, для задания распределения вероятностей достаточно задать вероятностную меру лишь на множествах $(-\\infty,x]$ для всех действительных $x$.\n",
        "\n",
        "**Определение.** Функция $F:\\mathbb{R}\\rightarrow[0,1]$, $F(x)={\\sf P}((-\\infty,x])$, называется *функцией распределения*, соответствующей распределению вероятностей ${\\sf P}$.\n",
        "\n",
        "**Свойства функции распределения:**\n",
        "\n",
        "1. $F(x)$ - неубывающая функция;\n",
        "2. $\\lim_{x\\rightarrow -\\infty}F(x)=0$,\n",
        "$\\lim_{x\\rightarrow+\\infty}F(x)=1$;\n",
        "3. $F(x)$ непрерывна справа и имеет пределы слева в каждой точке $x\\in\\mathbb{R}.$"
      ]
    },
    {
      "cell_type": "markdown",
      "metadata": {
        "id": "xe5XJZB-8pPc"
      },
      "source": [
        "**Теорема.** Пусть $F=F(x)$ – функция на числовой прямой $\\mathbb{R}$, удовлетворяющая свойствам 1-3. Тогда на $(\\mathbb{R},\\mathcal{B}(\\mathbb{R}))$ существует и притом единственное распределение вероятностей ${\\sf P}$ такое, что $F$ – соответствующая этому распределению функция распределения.\n",
        "\n",
        "Эта теорема оправдывает введение следующего понятия: всякая функция $F$, удовлетворяющая условиям 1-3, называется *функцией распределения на числовой прямой $\\mathbb{R}$.*"
      ]
    },
    {
      "cell_type": "markdown",
      "metadata": {
        "id": "Yh5znE3K87CJ"
      },
      "source": [
        "**Задача.** Пусть $F(x)$ - функция распределения, соответствующая распределению вероятностей ${\\sf P}$. Доказать равенство ${\\sf P}((a,b])=F(b)-F(a)$ для любых $-\\infty<a<b<\\infty$.\n",
        "\n",
        "**Решение.** В силу определения вероятностной меры ${\\sf P}((-\\infty,a])+{\\sf P}(a,b])={\\sf P}((-\\infty,b])$. В соответствии с определением функции распределения, $F(a)+{\\sf P}((a,b])=F(b)$. Окончательно получаем ${\\sf P}((a,b])=F(b)-F(a)$. $\\Box$"
      ]
    },
    {
      "cell_type": "markdown",
      "metadata": {
        "id": "SEs4-7Yb9LuG"
      },
      "source": [
        "Приведем простейшие примеры функций распределения:\n",
        "\n",
        "1. Пусть\n",
        "$$\n",
        "F(x)=\\left\\{%\n",
        "\\begin{array}{ll}\n",
        "    0, & \\hbox{$x<0$;} \\\\\n",
        "    x, & \\hbox{$0\\leq x\\leq 1$;} \\\\\n",
        "    1, & \\hbox{$x>1$.} \\\\\\end{array}%\n",
        "\\right.\n",
        "$$\n",
        "В этом случае соответствующее распределение вероятностей $\\lambda$ называют *мерой Лебега* на отрезке $[0,1]$. Ясно, что для любых $a<b\\in[0,1]$ выполнено $\\lambda((a,b))=\\lambda([a,b))=\\lambda((a,b] = \\lambda([a,b])=b-a$.\n",
        "\n",
        "2. Пусть \n",
        "$$\n",
        "F(x)=\\left\\{%\n",
        "\\begin{array}{ll}\n",
        "    0, & \\hbox{$x<c$;} \\\\\n",
        "    1, & \\hbox{$x\\geq c$.} \\\\\\end{array}%\n",
        "\\right.$$ \n",
        "Соответствующее распределение вероятностей:\n",
        "$${\\sf P}(A)=\\left\\{%\n",
        "\\begin{array}{ll}\n",
        "    0, & \\hbox{$c\\notin A$,} \\\\\n",
        "    1, & \\hbox{$c\\in    A$,} \\\\\\end{array}%\n",
        "\\right.$$ \n",
        "если $A\\in\\mathcal{B}(\\mathbb{R})$."
      ]
    },
    {
      "cell_type": "markdown",
      "metadata": {
        "id": "gleRLKw89z-o"
      },
      "source": [
        "Самые распространенные виды распределений - дискретное и абсолютно непрерывное распределения вероятностей.\n",
        "\n",
        "**Определение.** Последовательность $\\{p_n\\}_{n\\in\\mathbb{N}}$ называется *дискретным распределением вероятностей* на (не более чем счетном) множестве $X$, если $p_k={\\sf P}(\\{x_k\\})$, $X=\\{x_k k\\in\\mathbb{N}\\}$, $\\sum_k p_k=1$.\n",
        "\n",
        "Иными словами, в дискретном случае вся вероятность сосредоточена не более чем в счетном числе точек. Найдем функцию распределения дискретного распределения вероятностей $\\{p_n\\}_{n\\in\\mathbb{N}}$.\n",
        "Пусть $x\\in\\mathbb{R}$. Пусть, кроме того, $k\\in\\mathbb{N}$ - такое число, что $x\\in[x_{k-1},x_k)$, где $x_0=-\\infty$. Тогда $F(x)={\\sf P}((-\\infty,x])=\\sum_{i<k}{\\sf P}(\\{x_i\\})+{\\sf P}((-\\infty,x]\\setminus\\{x_i,i<k\\})=\\sum_{i<k}p_i$."
      ]
    },
    {
      "cell_type": "markdown",
      "metadata": {
        "id": "pIefGC85-MGD"
      },
      "source": [
        "Приведем важнейшие примеры дискретных распределений.\n",
        "\n",
        "1. Дискретное равномерное распределение вероятностей на множестве $\\{1,\\ldots,N\\}$} определяется следующим образом: $X=\\{1,\\ldots,N\\}$, $p_k=\\frac{1}{N},$ $k\\in\\{1,\\ldots,N\\}$.\n",
        "2. *Распределение Бернулли с параметром $p\\in(0,1)$*: $X = \\{0,1\\}$, ${\\sf P}(\\{0\\}) = 1-p,$ ${\\sf P}(\\{1\\}) = p$ (физическая модель – бросок несимметричной монеты).\n",
        "3. *Биномиальное распределение с параметрами $(n,p)$,* где $n\\in\\mathbb{N}$, $p\\in(0,1)$: $X=\\{0,1,\\ldots,n\\}$, ${\\sf P}(\\{k\\})=C_n^kp^k(1-p)^{n-k},$ $k\\in\\{0,1,\\ldots,n\\}$ (физическая модель – количество успехов в $n$ независимых испытаниях в схеме Бернулли).\n",
        "4. *Пуассоновское распределение с параметром $\\lambda>0$*: $X=\\mathbb{Z}_+$, ${\\sf P}(\\{k\\})=\\frac{\\lambda^k}{k!}e^{-\\lambda},$ $k\\in\\mathbb{Z}_+$ (физическая модель - $n$ независимых испытаний в схеме Бернулли с параметром $\\lambda/n$, где $n\\gg \\lambda$)."
      ]
    },
    {
      "cell_type": "markdown",
      "metadata": {
        "id": "r8jAfgHg-UYo"
      },
      "source": [
        "Разумеется, не менее важным предметом изучения являются меры, не являющиеся дискретными. Так, например, распределение цены акции не является дискретным, так как эта цена может принимать любые значения из некоторого континуального множества, причем вероятностная мера любого интервала из этого множества может быть ненулевой. Важным частным случаем таких распределений являются абсолютно непрерывные распределения.\n",
        "\n",
        "**Определение.** Пусть ${\\sf P}$ - распределение вероятностей, а $F$ - соответствующая функция распределения. Пусть существует такая неотрицательная функция $p(t),\\, t\\in\\mathbb{R}$, что $\\int\\limits_{\\mathbb{R}}p(t)dt=1$ и значения функции распределения $F$ определяются равенством $F(x)=\\int\\limits_{-\\infty}^xp(t)dt$. Тогда распределение ${\\sf P}$ называется *абсолютно непрерывным*, а функция $p$ называется *плотностью распределения* функции ${\\sf P}$, соответствующего функции распределения $F$.\n",
        "\n",
        "Можно показать, что любая такая функция $p(t)$, что $\\int\\limits_{\\mathbb{R}}p(t)dt=1,$ является плотностью некоторого распределения. В связи с этим любую такую функцию $p$ называют *плотностью*. Из формулы Ньютона-Лейбница следует, что если функцию распределения $F$ является дифференцируемой, то существует плотность $p(x)=F'(x)$.\n",
        "\n",
        "Следующая теорема помогает считать вероятности любых событий из $\\mathcal{B}(\\mathbb{R})$ с помощью плотности.\n",
        "\n",
        "**Теорема.** *Если $p(x)$ - плотность распределения вероятностей ${\\sf P}$, то для любого множества $B\\in\\mathcal{B}(\\mathbb{R})$ выполнено равенство ${\\sf P}(B)=\\int_B p(x)dx$.*"
      ]
    },
    {
      "cell_type": "markdown",
      "metadata": {
        "id": "El53ekIJFy-I"
      },
      "source": [
        "Приведем важнейшие примеры абсолютно непрерывных распределений.\n",
        "\n",
        "1. *Равномерное распределение на $[a,b]$* определяется следующим образом: $p(t)=\\frac{I_{[a,b]}(t)}{b-a}$.\n",
        "2. *Нормальное (гауссовское) распределение с параметрами $(a,\\sigma^2),$* где $a\\in\\mathbb{R}$, $\\sigma>0$: $p(t)=\\frac{1}{\\sqrt{2\\pi\\sigma^2}}e^{-\\frac{(t-a)^2}{2\\sigma^2}}$.\n",
        "3. *Гамма-распределение с параметрами $(\\alpha,\\beta),$* где $\\alpha>0$, $\\beta>0$: $p(t)=\\frac{\\alpha^{\\beta}t^{\\beta-1}}{\\Gamma(\\beta)}e^{-\\alpha t}I_{(0,\\infty)}(t)$.\n",
        "4. *Экспоненциальное распределение с параметром $\\lambda>0$*: $p(t)=\\lambda e^{-\\lambda t}I_{(0,\\infty)}(t)$.\n",
        "5. *Распределение Коши с параметром $\\theta>0$*: $p(t)=\\frac{\\theta}{\\pi(t^2+\\theta^2)}$.\n"
      ]
    },
    {
      "cell_type": "markdown",
      "metadata": {
        "id": "fPSV4cwq-kUg"
      },
      "source": [
        "**Задача.** Найдите функцию распределения экспоненциального распределения с параметром $\\lambda>0$.\n",
        "\n",
        "**Решение.** По определению\n",
        "$$F(x)=\\int_{-\\infty}^xp(t)dt=\\int_{0}^x\\lambda e^{-\\lambda t}dtI(x>0)=(1-e^{-\\lambda x})I(x>0). \\Box $$"
      ]
    },
    {
      "cell_type": "code",
      "metadata": {
        "id": "D5213EzqsxiS",
        "colab": {
          "base_uri": "https://localhost:8080/",
          "height": 281
        },
        "outputId": "33f45ce3-3609-4e9c-ff37-0a2b12e0bddd"
      },
      "source": [
        "# Генерация нормального распределения, построение гистограммы\n",
        "\n",
        "import numpy as np\n",
        "import matplotlib.pyplot as plt\n",
        "\n",
        "data = np.random.normal(size = 100000)\n",
        "\n",
        "fig, axs = plt.subplots(1, 2)\n",
        "\n",
        "axs[0].hist(data, bins=10)\n",
        "axs[0].set_title('n = 10')\n",
        "axs[1].hist(data, bins=100)\n",
        "axs[1].set_title('n = 100')\n",
        "\n",
        "plt.show()"
      ],
      "execution_count": null,
      "outputs": [
        {
          "output_type": "display_data",
          "data": {
            "image/png": "[encoded data removed]",
            "text/plain": [
              "<Figure size 432x288 with 2 Axes>"
            ]
          },
          "metadata": {
            "tags": [],
            "needs_background": "light"
          }
        }
      ]
    },
    {
      "cell_type": "markdown",
      "metadata": {
        "id": "Jn7fVsoUrL9a"
      },
      "source": [
        "#Многомерные распределения"
      ]
    },
    {
      "cell_type": "markdown",
      "metadata": {
        "id": "JgDmzUj9PUF2"
      },
      "source": [
        "Заметим, что, например, при нескольких подбрасываниях монетки для определения вероятностей событий недостаточно задать вероятностную меру на $\\mathcal{B}(\\mathbb{R})$. В этой связи борелевскую $\\sigma$-алгебру определяют на $\\mathbb{R}^n$.\n",
        "\n",
        "**Определение.** *Борелевской $\\sigma$-алгеброй $\\mathcal{B}(\\mathbb{R}^n)$* называется наименьшая $\\sigma$-алгебра, содержащая все множества вида $X_1\\times\\ldots\\times X_n$, где $X_i\\in\\mathcal{B}(\\mathbb{R})$.\n",
        "\n",
        "**Определение**. Пусть ${\\sf P}$ – вероятностная мера на $(\\mathbb{R}^n,\\mathcal{B}(\\mathbb{R}^n))$. Тогда она называется *распределением вероятностей на $\\mathbb{R}^n$*. Функция $F:\\mathbb{R}^n\\rightarrow[0,1]$, значения которой определяются равенством $F(x_1,\\ldots,x_n)={\\sf P}((-\\infty,x_1]\\times\\ldots\\times(-\\infty,x_n])$, называется *функцией распределения*, соответствующей распределению ${\\sf P}$."
      ]
    },
    {
      "cell_type": "markdown",
      "metadata": {
        "id": "rbdD42ptSS7w"
      },
      "source": [
        "Для формулировки теоремы о свойствах функции распределения введем некоторые обозначения. Пусть $\\mathbf{x}=(x_1,\\ldots,x_n)$, $\\mathbf{y}=(y_1,\\ldots,y_n)$, $x_i\\geq y_i$ для всех $i\\in\\{1,\\ldots,n\\}$. Тогда будем писать $\\mathbf{x}\\geq\\mathbf{y}$. Кроме того, множество $(-\\infty,x_1]\\times\\ldots\\times(-\\infty,x_n]$ обозначим $(-\\infty,\\mathbf{x}]$. Пусть, $\\mathbf{x}^1,\\mathbf{x}^2,\\ldots$\n",
        "– такая последовательность векторов в $\\mathbb{R}^n$, что $\\mathbf{x}^{k+1}\\geq\\mathbf{x}^k$ для всех $k\\in\\mathbb{N}$, $\\lim_{k\\rightarrow\\infty}x^k_i=x_i$ для всех $i\\in\\{1,\\ldots,n\\}$. В этом случае будем писать $\\mathbf{x}^k\\uparrow\\mathbf{x}$. Если же при прочих равных предположениях $\\mathbf{x}^{k+1}\\leq\\mathbf{x}^k$ для всех $k\\in\\mathbb{N}$, то $\\mathbf{x}^k\\downarrow\\mathbf{x}$."
      ]
    },
    {
      "cell_type": "markdown",
      "metadata": {
        "id": "3vqdauLHS5RY"
      },
      "source": [
        "**Свойства многомерной функции распределения:**\n",
        "\n",
        "1. Пусть $i\\in\\{1,\\ldots,n\\}$, $a_i<b_i$. Обозначим $\\Delta^i_{a_i,b_i}F(x_1,\\ldots,x_n)=F(x_1,\\ldots,x_{i-1},b_i,x_{i+1},\\ldots,x_n)-F(x_1,\\ldots,x_{i-1},a_i,x_{i+1},\\ldots,x_n)$. Тогда для любых\n",
        "$a_1<b_1,\\ldots,a_n<b_n$ $\\Delta^1_{a_1,b_1}\\ldots\\Delta^n_{a_n,b_n}F(x_1,\\ldots,x_n)\\geq 0$ (аналог неубывания).\n",
        "2. Справедливы равенства\n",
        "$$\n",
        "\\lim\\limits_{x_1\\rightarrow\\infty,\\ldots,x_n\\rightarrow\\infty} F(x_1,\\ldots,x_n)=1,\n",
        "$$\n",
        "$$\n",
        "\\forall i\\in\\{1,\\ldots,n\\} \\,\\,\\,\\,\\,  \\lim\\limits_{x_i\\rightarrow-\\infty} F(x_1,\\ldots,x_n)=0.\n",
        "$$\n",
        "3. Если $\\mathbf{x}^k\\downarrow\\mathbf{x}$, то $F(\\mathbf{x}^k)\\rightarrow F(\\mathbf{x})$ (аналог непрерывности справа)."
      ]
    },
    {
      "cell_type": "markdown",
      "metadata": {
        "id": "iJWWL2RZTDMf"
      },
      "source": [
        "**Теорема**. *Если функция $F:\\mathbb{R}^n\\rightarrow[0,1]$ удовлетворяет свойствам 1, 2 и 3, то существует единственное многомерное распределение ${\\sf P}$ такое, что $F$ является функцией распределения для ${\\sf P}$.*\n",
        "\n",
        "Эта теорема оправдывает введение следующего понятия: всякая функция $F$, удовлетворяющая условиям 1-3, называется *многомерной функцией распределения.*"
      ]
    },
    {
      "cell_type": "markdown",
      "metadata": {
        "id": "tB4U3pizrPYk"
      },
      "source": [
        "В многомерном случае также рассматривают дискретные и абсолютно непрерывные распределения вероятностей.\n",
        "\n",
        "**Определение.** Последовательность чисел $\\{p_k\\}_{k\\in\\mathbb{N}}$ называется *дискретным многомерным распределением вероятностей* на (не более чем счетном) множестве\n",
        "$X\\subset\\mathbb{R}^n$, если $p_k={\\sf P}(\\{\\mathbf{x}_k\\})$, $X=\\{\\mathbf{x}_k,k\\in\\mathbb{N}\\}$, $\\sum_k p_k=1$.\n",
        "\n",
        "**Определение.** Многомерное распределение с функцией распределения $F:\\mathbb{R}^n\\rightarrow[0,1]$ называется *абсолютно непрерывным*, если существует такая функция $p:\\mathbb{R}^n\\rightarrow\\mathbb{R}_+$, что\n",
        "$$\n",
        "F(x_1,\\ldots,x_n)=\\int\\limits_{-\\infty}^{x_1}\\ldots\\int\\limits_{-\\infty}^{x_n}p(t_1,\\ldots,t_n)dt_1\\ldots dt_n.\n",
        "$$\n",
        "Функция $p$ называется *плотностью распределения*."
      ]
    },
    {
      "cell_type": "markdown",
      "metadata": {
        "id": "xjVct7Ji0U5y"
      },
      "source": [
        "# Случайные величины"
      ]
    },
    {
      "cell_type": "markdown",
      "metadata": {
        "id": "-e6AHZyaTeLu"
      },
      "source": [
        "Как правило, результатом эксперимента является число. Так, например, при бросании игральной кости может выпасть одна из шести граней. То есть, при построении вероятностной модели множество элементарных событий будет содержать 6 элементов. Результатом подбрасывания будет служить число, принадлежащее множеству $\\{1,\\ldots,6\\}$. Таким образом, каждому событию соответствует некоторое число. Это и есть случайная величина.\n",
        "\n",
        "**Определение.** Пусть $\\Omega$ - некоторое множество, $\\mathcal{F}$ - $\\sigma$-алгебра на нем. Пусть, кроме того, $\\mathcal{E}$ - $\\sigma$-алгебра на некотором множестве $E$. Отображение $f:\\Omega\\rightarrow E$ называется *$\\mathcal{F}|\\mathcal{E}$-измеримым*, если для любого множества $B\\in\\mathcal{E}$ его прообраз $f^{-1}(B):=\\{\\omega\\in\\Omega:f(\\omega)\\in B\\}$ принадлежит $\\mathcal{F}$. Пары $(\\Omega,\\mathcal{F})$, $(E,\\mathcal{E})$ называются *измеримыми пространствами*. Если $(\\Omega,\\mathcal{F},{\\sf P})$ - вероятностное пространство, то $f$ называется *случайным элементом*.\n",
        "\n",
        "**Определение.** Если отображение $\\xi:\\Omega\\rightarrow \\mathbb{R}$ является $\\mathcal{F}|\\mathcal{B}(\\mathbb{R})$-измеримым, то оно называется *случайной величиной*. Если отображение $\\xi:\\Omega\\rightarrow \\mathbb{R}^n$ является $\\mathcal{F}|\\mathcal{B}(\\mathbb{R}^n)$-измеримым, то оно называется *случайным вектором*. Говорят также, что $\\xi$ является *$\\mathcal{F}$-измеримой случайной величиной* (*$\\mathcal{F}$-измеримым случайным вектором*).\n",
        "\n",
        "**Обозначения**:\n",
        "${\\sf P}(\\{\\omega:\\xi(\\omega)\\in B\\})={\\sf P}(\\xi\\in B)$, ${\\sf P}(\\{\\omega:\\xi(\\omega) < x\\})={\\sf P}(\\xi < x)$, ${\\sf P}(\\{\\omega:\\xi(\\omega) = x\\})={\\sf P}(\\xi = x)$, $\\mathcal{F}_{\\xi}=\\{\\xi^{-1}(B, B\\in\\mathcal{B}(\\mathbb{R}^n)\\}$."
      ]
    },
    {
      "cell_type": "markdown",
      "metadata": {
        "id": "42y4BcwqXDxO"
      },
      "source": [
        "Напомним, что функция $f:\\mathbb{R}^n\\rightarrow\\mathbb{R}^k$ называется *борелевской*, если она является $\\mathcal{B}(\\mathbb{R}^n)|\\mathcal{B}(\\mathbb{R}^k)$-измеримой. Справедлива следующая теорема.\n",
        "\n",
        "**Теорема.** Если $\\xi$ - $n$-мерный случайный вектор, $f:\\mathbb{R}^n\\rightarrow\\mathbb{R}^k$ – борелевская функция, то $\\eta=f(\\xi)$ – $k$-мерный случайный вектор.\n",
        "\n",
        "Из этого, в частности, следует, что если $\\xi,\\eta$ – случайные величины, то $\\xi+\\eta,$ $\\xi-\\eta,$ $\\xi\\eta$, $(\\xi/\\eta)I(\\eta\\neq 0)$ - тоже случайные величины.\n",
        "\n",
        "**Теорема (критерий измеримости).** Пусть $(\\Omega,\\mathcal{F})$, $(E,\\mathcal{E})$ - измеримые пространства. Функция $X:\\Omega\\rightarrow E$ является случайным элементом тогда и только тогда, когда существует система $\\mathcal{M}\\subseteq\\mathcal{E}$ такая, что $\\sigma(\\mathcal{M})=\\mathcal{E}$ и для любого $M\\in\\mathcal{M}$ его прообраз $X^{-1}(M)$ принадлежит $\\mathcal{F}$.\n",
        "\n",
        "**Следствие.** Функция $\\xi:\\Omega\\rightarrow\\mathbb{R}^n$, $\\xi=(\\xi_1,\\ldots,\\xi_n)$, является случайным вектором тогда и только тогда, когда $\\xi_1,\\ldots,\\xi_n$ - случайные величины.\n",
        "\n",
        "$\\triangleright$ Путь $\\xi$ - случайный вектор. Тогда для любых $i\\in\\{1,\\ldots,n\\},$ $B\\in\\mathcal{B}(\\mathbb{R})$ прообраз $\\xi^{-1}(\\mathbb{R}\\times\\ldots\\times\\mathbb{R}\\times \\underbrace{B}\\limits_i\\times\\mathbb{R}\\times\\ldots\\times\\mathbb{R})$ принадлежит $\\mathcal{F}$. Очевидно, $\\xi_i^{-1}(B)=\\xi^{-1}(\\mathbb{R}\\times\\ldots\\times\\mathbb{R}\\times \\underbrace{B}\\limits_i\\times\\mathbb{R}\\times\\ldots\\times\\mathbb{R})\\in\\mathcal{F}$. Следовательно, $\\xi_i$ - случайный величина. \n",
        "\n",
        "Пусть $\\xi_1,\\ldots,\\xi_n$ - случайные величины. Рассмотрим систему $\\mathcal{M}=\\{B_1\\times\\ldots\\times B_n, \\,\\, B_1,\\ldots,B_n\\in\\mathcal{B}(\\mathbb{R})\\}$ подмножеств в $\\mathbb{R}^n$. В силу определения борелевской $\\sigma$-алгебры, $\\sigma(\\mathcal{M})=\\mathcal{B}(\\mathbb{R}^n)$. Кроме того, для любого $B=B_1\\times\\ldots\\times B_n\\in\\mathcal{M}$ имеем $\\xi^{-1}(B)=\\bigcap\\limits_{i=1}^n\\xi^{-1}(B_i)\\in\\mathcal{F}$. По критерию измеримости $\\xi$ – случайный вектор. $\\triangleleft$"
      ]
    },
    {
      "cell_type": "markdown",
      "metadata": {
        "id": "ZZODEcEfX6he"
      },
      "source": [
        "Заметим, что свойство измеримости при определении случайных векторов необходимо для подсчета вероятностей свойств, связанных со значениями случайных векторов. Иными словами, нас интересуют\n",
        "вероятности ${\\sf P}(\\xi\\in B),$ $B\\in\\mathcal{B}(\\mathbb{R}^n)$. Легко доказать, что функция ${\\sf P}_{\\xi}:\\mathcal{B}(\\mathbb{R}^n)\\rightarrow[0,1]$, значения которой задаются равенством ${\\sf P}_{\\xi}(B)={\\sf P}(\\xi\\in B)$, является вероятностной мерой. В этой связи вводят следующие определения.\n",
        "\n",
        "**Определение.** Распределение вероятностей ${\\sf P}_{\\xi}$ называется *распределением случайного вектора (случайной величины) $\\xi$*. Функция распределения $F_{\\xi}$, соответствующая\n",
        "распределению ${\\sf P}_{\\xi},$ называется *функцией распределения случайного вектора (случайной величины) $\\xi$*. Иными словами, $F_{\\xi}(x)={\\sf P}(\\xi\\leq x)$. Если распределение\n",
        "${\\sf P}_{\\xi}$ является абсолютно непрерывным, то плотность распределения $p_{\\xi}$ называется *плотностью распределения случайного вектора (случайной величины) $\\xi$*. Случайный вектор (случайная величина) $\\xi$ в этом случае называется *абсолютно непрерывным*. Если распределение ${\\sf P}_{\\xi}$ является дискретным, то и случайный вектор (случайная величина) $\\xi$ называется *дискретным*."
      ]
    },
    {
      "cell_type": "markdown",
      "metadata": {
        "id": "w84Dpj89YKGV"
      },
      "source": [
        "Рассмотрим несколько примеров нахождения функций распределения и плотностей случайных величин.\n",
        "\n",
        "1. Пусть дискретная случайная величина $\\xi$ принимает с вероятностью $1/4$ каждое из значений $0,1,2,3$. Тогда функция распределения такой случайной величины будет равна $1/4I(0\\leq x < 1)+1/2I(1\\leq x< 2)+3/4I(2\\leq x< 3)+I(x\\geq 3)$.\n",
        "\n",
        "2. Пусть случайная величина $\\xi$ равна значению в точке, случайно выбранной на отрезке $[1,4]$ (см. {\\it геометрические вероятности}). Тогда случайная величина $\\xi$ является абсолютно непрерывной, ее функция распределения $F_{\\xi}(x)$ равна $\\frac{x-1}{3}I(1\\leq x<4)+I(x\\geq 4)$, а плотность $p_{\\xi}(x)=\\frac{I(1\\leq x\\leq 4)}{3}$."
      ]
    },
    {
      "cell_type": "markdown",
      "metadata": {
        "id": "qk95J2UXz1P8"
      },
      "source": [
        "**Задача.** Случайная величина $\\xi$ принимает значения в интервале $(a,b)$, где $-\\infty\\leq a<b\\leq\\infty$, и имеет плотность $f(x)$. Функция $\\varphi(x)$ – строго монотонная и дифференцируема на $(a,b)$, причем $\\varphi'(x)\\neq 0$ на $(a,b)$. Вычислите плотность случайной величины $\\eta=\\varphi(\\xi)$. Найдите плотность распределения $\\sqrt{\\xi},$ если $\\xi$ имеет экспоненциальное распределение с параметром $\\lambda.$\n",
        "\n",
        "**Решение.** Найдем функцию распределения случайной величины $\\eta$. Имеем $F_{\\eta}(x)={\\sf P}(\\eta\\leq x)={\\sf P}(\\xi\\leq\\varphi^{-1}(x))$, если $\\varphi$ возрастает, и\n",
        "$F_{\\eta}(x)={\\sf P}(\\xi\\geq\\varphi^{-1}(x))$, если $\\varphi$ убывает. Дифференцируя эти равенства, в первом случае получаем\n",
        "$$\n",
        "p_{\\eta}(x)=\\frac{p_{\\xi}(\\varphi^{-1}(x))}{\\varphi'(\\varphi^{-1}(x))} I(a<x<b),\n",
        "$$\n",
        "а во втором\n",
        "$$\n",
        "p_{\\eta}(x)=-\\frac{p_{\\xi}(\\varphi^{-1}(x))}{\\varphi'(\\varphi^{-1}(x))}  I(a<x<b).\n",
        "$$\n",
        "Пусть теперь $\\xi\\sim$ $Exp(\\lambda)$, а $\\varphi(x)=\\sqrt{x}$ - возрастающая на $(0,\\infty)$ функция. Тогда при $x>0$ имеем\n",
        "$$\n",
        "p_{\\sqrt{\\xi}}(x)=\\frac{p_{\\xi}(x^2)}{1/(2\\sqrt{x^2})}=2x\\lambda e^{-\\lambda x^2}.\n",
        "$$\n",
        "Окончательно, $p_{\\sqrt{\\xi}}(x)=2x\\lambda e^{-\\lambda x^2} I(x>0).$ $\\Box$\n"
      ]
    },
    {
      "cell_type": "markdown",
      "metadata": {
        "id": "8f8gA_gGwbam"
      },
      "source": [
        "**Задача.** Пусть функция распределения $F(x) = F_{\\xi}(x)$ непрерывна и всюду возрастает. Тогда случайная величина $\\mu = F(\\xi)$ имеет равномерное на отрезке $[0,1]$ распределение.\n",
        "\n",
        "**Решение.** Заметим, что $0 \\leq \\mu \\leq 1$,  $F_{\\mu}(x) = 0$ при $x \\leq 1$ и $F_{\\mu}(x) = 1$  при $x \\geq 1$. Поскольку $F(x)$ всюду возрастает, существует обратная функция и для $0 \\leq x \\leq 1$ имеем:\n",
        "\n",
        "$$\n",
        "F_{\\mu}(x) = P(\\mu < x) = P(F(\\xi) < x) =P(\\xi < F^{-1}(x)) = F(F^{-1}(x)) = x. \n",
        "$$\n",
        "\n",
        "Таким образом, $\\mu \\sim U(0,1)$. $\\Box$\n",
        "\n",
        "*Замечание.* В том случае, когда функция имеет участки постоянства, утверждение задачи остается верным. "
      ]
    },
    {
      "cell_type": "markdown",
      "metadata": {
        "id": "cYQ5eJ1jGc_v"
      },
      "source": [
        "#Независимость случайных величин и векторов\n"
      ]
    },
    {
      "cell_type": "markdown",
      "metadata": {
        "id": "i07nfIYiGWKc"
      },
      "source": [
        "**Определение** Случайные векторы $\\xi$ ($n$-мерный), $\\eta$ ($k$-мерный), заданные на одном и том же вероятностном пространстве $(\\Omega,\\mathcal{F},{\\sf P})$, называются независимыми (обозначается $\\xi\\perp\\eta$), если $\\forall B_1\\in\\mathcal{B}(\\mathbb{R}^n),B_2\\in\\mathcal{B}(\\mathbb{R}^k)$ справедливо равенство ${\\sf P}(\\xi\\in B_1,\\eta\\in B_2)={\\sf P}(\\xi\\in B_1){\\sf P}(\\eta\\in B_2).$\n",
        "\n",
        "Далее все определения будем давать для случайных величин для простоты обозначений, определения для случайных векторов аналогичны.\n",
        "\n",
        "**Определение.** Случайные величины $\\xi_1,\\ldots,\\xi_n$, заданные на одном и том же вероятностном пространстве $(\\Omega,\\mathcal{F},{\\sf P})$, называются *попарно независимыми*, если $\\forall i\\neq j\\in\\{1,\\ldots,n\\}$ случайные величины $\\xi_i$ и $\\xi_j$ независимы. Случайные величины $\\xi_1,\\ldots,\\xi_n$ *независимыми в совокупности* (или просто *независимы*), если $\\forall B_1,\\ldots,B_n\\in\\mathcal{B}(\\mathbb{R})$ ${\\sf P}(\\xi_1\\in B_1,\\ldots,\\xi_n\\in B_n)={\\sf P}(\\xi_1\\in B_1)\\ldots{\\sf P}(\\xi_n\\in B_n).$ Случайные величины из набора $\\{\\xi_{\\alpha}\\}_{\\alpha\\in\\mathcal{A}}$ называются *независимыми*, если для любого $n\\in\\mathbb{N}$ и любых $t_1,\\ldots,t_n\\in\\mathcal{A}$ случайные величины $\\xi_{t_1},\\ldots,\\xi_{t_n}$ независимы в совокупности.\n"
      ]
    },
    {
      "cell_type": "markdown",
      "metadata": {
        "id": "erT2hoD1WDi0"
      },
      "source": [
        "**Теорема (критерий независимости).** Случайные величины $\\xi_1,\\ldots,\\xi_n$ независимы в совокупности тогда и только тогда, когда для любого вектора $x=(x_1,\\ldots,x_n)\\in\\mathbb{R}^n$ справедливо равенство  $F_{\\xi}(x)=\\prod_{i=1}^nF_{\\xi_i}(x_i)$, где $\\xi=(\\xi_1,\\ldots,\\xi_n)$.\n",
        "\n",
        "**Теорема.** Пусть $\\xi=(\\xi_1,\\ldots,\\xi_{n_1})$, $\\eta=(\\eta_1,\\ldots,\\eta_{n_2})$ - независимые случайные векторы, причем $f:\\mathbb{R}^{n_1}\\rightarrow\\mathbb{R}^{k_1}$, $g:\\mathbb{R}^{n_2}\\rightarrow\\mathbb{R}^{k_2}$ – борелевские функции. Тогда векторы $f(\\xi),g(\\eta)$ независимы."
      ]
    }
  ]
}