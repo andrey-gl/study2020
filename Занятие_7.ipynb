{
  "nbformat": 4,
  "nbformat_minor": 0,
  "metadata": {
    "colab": {
      "name": "Занятие 7.ipynb",
      "provenance": [],
      "toc_visible": true,
      "authorship_tag": "ABX9TyPRpO4yGEJptATPn7nokRVL",
      "include_colab_link": true
    },
    "kernelspec": {
      "name": "python3",
      "display_name": "Python 3"
    }
  },
  "cells": [
    {
      "cell_type": "markdown",
      "metadata": {
        "id": "view-in-github",
        "colab_type": "text"
      },
      "source": [
        "<a href=\"https://colab.research.google.com/github/andrey-gl/study2020/blob/master/%D0%97%D0%B0%D0%BD%D1%8F%D1%82%D0%B8%D0%B5_7.ipynb\" target=\"_parent\"><img src=\"https://colab.research.google.com/assets/colab-badge.svg\" alt=\"Open In Colab\"/></a>"
      ]
    },
    {
      "cell_type": "markdown",
      "metadata": {
        "id": "inbZDbmV02IZ"
      },
      "source": [
        "#Модель линейной регрессии"
      ]
    },
    {
      "cell_type": "markdown",
      "metadata": {
        "id": "DgD9JXoE28Iz"
      },
      "source": [
        "Часто требуется выявить статистическую зависимость одних случайных величин от других. Для зависимых случайных величин имеет смысл рассмотреть математическое ожидание одной из них при фиксированном значении другой и выяснить, как влияет на среднее значение первой величины изменение значений второй.\n",
        "\n",
        "Пусть случайная величина $X$ зависит от случайного вектора $Z$:\n",
        "$$E(X|Z=z) = f(z)$$\n",
        "В этом случае функция $f(z)$ назвается линией регрессии. Обозначи $\\varepsilon = X - E(X|Z=z) = X - f(z)$ – ошибка регрессии. Про распределение $\\varepsilon$ обычно что-то предполагают, чтобы была возможность линию регрессии найти. В этом случае модель регресси можно переписать в виде: $X = f(z) + \\varepsilon$.\n",
        "\n",
        "Задачей регрессионно модели заключается в том, чтобы по значениям $X$ и $z$ в рамках предположения о распределении $\\varepsilon$ оценить функцию $f(z)$.\n",
        "\n",
        "Рассмотрим наиболее распространенный случай, когда функция $f(z)$ линейна."
      ]
    },
    {
      "cell_type": "markdown",
      "metadata": {
        "id": "OSW6jOIp4F5e"
      },
      "source": [
        "Итак, пусть наблюдение $X$ – случайный вектор из $\\mathbb{R}^n$, причем $X = Z \\theta + \\varepsilon$,\n",
        "где:\n",
        "1. $Z = (Z_1,\\ldots,Z_k)$ – набор факторов, каждый из которых есть вектор-столбец;\n",
        "2. $\\theta = (\\theta_1,\\ldots,\\theta_k)^{T}$ – набор параметров;\n",
        "3. $\\varepsilon$ – случайный вектор, такой что ${\\sf E}\\varepsilon = 0$, ${\\sf D}\\varepsilon = \\sigma^2 I_n$, где ${\\sf D}\\varepsilon$ – ковариационная матрица вектора $\\varepsilon$, $I_n$ – единичная диагональная матрица размера $n\\times n.$\n",
        "\n",
        "Задача стоит в оценивании $\\theta \\in \\mathbb R^k$.\n",
        "\n",
        "Поставленная задача оценивания вектора $\\theta$ решается с помощью метода наименьших квадратов. Оценка по методу наименьших квадратов равна\n",
        "$$\n",
        "\\hat\\theta=\\arg \\min\\limits_{\\theta} \\|X - Z\\theta\\|^2.\n",
        "$$"
      ]
    },
    {
      "cell_type": "markdown",
      "metadata": {
        "id": "MbcWQV0tHxxL"
      },
      "source": [
        "Выведем явную формулу для оценки $\\hat\\theta$:\n",
        "\n",
        "$$\n",
        "\\|X-Z\\theta\\|^2 = (X-Z\\theta)^T(X-Z\\theta) = X^TX - X^T Z\\theta - \\theta^T Z^T X+\\theta^T Z^T Z \\theta = X^T X - 2 X^T Z\\theta + \\theta^T (Z^TZ)\\theta.\n",
        "$$\n",
        "Продифференцируем полученное выражение по $\\theta_i$ для каждого $i\\in\\{1,\\ldots,k\\}$ и приравняем эти производные к нулю, чтобы найти искомый аргумент, при котором достигается минимум:\n",
        "$$\n",
        "-2(X^TZ)_i + 2(\\theta^T Z^TZ)_i = 0,\n",
        "$$\n",
        "$$\n",
        "X^TZ - \\theta^TZ^TZ = 0,\n",
        "$$\n",
        "$$\n",
        "\\widehat{\\theta} = (Z^TZ)^{-1}Z^T X.\n",
        "$$\n"
      ]
    },
    {
      "cell_type": "markdown",
      "metadata": {
        "id": "jy99et9bItZQ"
      },
      "source": [
        "Из свойства 1 легко получить значения вектора математических ожиданий и ковариационную матрицу оценки: ${\\sf E}_{\\theta,\\sigma^2} \\widehat{\\theta} = \\theta$, ${\\sf D}_{\\theta,\\sigma^2}\\widehat{\\theta} = \\sigma^2 (Z^T Z)^{-1}.$ Таким образом, оценка по методу наименьших квадратов является несмещенной."
      ]
    },
    {
      "cell_type": "code",
      "metadata": {
        "id": "4mtdyGt8OI67"
      },
      "source": [
        "import pandas as pd\n",
        "import numpy as np\n",
        "import matplotlib.pyplot as plt\n",
        "from sklearn.linear_model import LinearRegression"
      ],
      "execution_count": null,
      "outputs": []
    },
    {
      "cell_type": "code",
      "metadata": {
        "id": "bFNO_er1OHyc"
      },
      "source": [
        "#Generating data\n",
        "\n",
        "n = 100\n",
        "e1 = np.random.normal(0,0.4,n)\n",
        "x1 = np.random.normal(0,1,n)\n",
        "x2 = x1 + e1\n",
        "x3 = np.random.normal(0,1,n)\n",
        "\n",
        "e = np.random.normal(0,0.2,n)\n",
        "\n",
        "y0 = 0.2*x1 - 0.5*x2 + 0.4*x3 + e\n",
        "\n",
        "x = pd.DataFrame(data = np.transpose(np.array([x1, x2, x3])))\n",
        "y = pd.DataFrame(data = np.transpose(y0))"
      ],
      "execution_count": null,
      "outputs": []
    },
    {
      "cell_type": "code",
      "metadata": {
        "colab": {
          "base_uri": "https://localhost:8080/",
          "height": 133
        },
        "id": "ry4wIM60OX8u",
        "outputId": "033fa84f-865f-433e-ce1b-ab6a898082f0"
      },
      "source": [
        "x.corr()"
      ],
      "execution_count": null,
      "outputs": [
        {
          "output_type": "execute_result",
          "data": {
            "text/html": [
              "<div>\n",
              "<style scoped>\n",
              "    .dataframe tbody tr th:only-of-type {\n",
              "        vertical-align: middle;\n",
              "    }\n",
              "\n",
              "    .dataframe tbody tr th {\n",
              "        vertical-align: top;\n",
              "    }\n",
              "\n",
              "    .dataframe thead th {\n",
              "        text-align: right;\n",
              "    }\n",
              "</style>\n",
              "<table border=\"1\" class=\"dataframe\">\n",
              "  <thead>\n",
              "    <tr style=\"text-align: right;\">\n",
              "      <th></th>\n",
              "      <th>0</th>\n",
              "      <th>1</th>\n",
              "      <th>2</th>\n",
              "    </tr>\n",
              "  </thead>\n",
              "  <tbody>\n",
              "    <tr>\n",
              "      <th>0</th>\n",
              "      <td>1.000000</td>\n",
              "      <td>0.928723</td>\n",
              "      <td>0.070416</td>\n",
              "    </tr>\n",
              "    <tr>\n",
              "      <th>1</th>\n",
              "      <td>0.928723</td>\n",
              "      <td>1.000000</td>\n",
              "      <td>0.100718</td>\n",
              "    </tr>\n",
              "    <tr>\n",
              "      <th>2</th>\n",
              "      <td>0.070416</td>\n",
              "      <td>0.100718</td>\n",
              "      <td>1.000000</td>\n",
              "    </tr>\n",
              "  </tbody>\n",
              "</table>\n",
              "</div>"
            ],
            "text/plain": [
              "          0         1         2\n",
              "0  1.000000  0.928723  0.070416\n",
              "1  0.928723  1.000000  0.100718\n",
              "2  0.070416  0.100718  1.000000"
            ]
          },
          "metadata": {
            "tags": []
          },
          "execution_count": 6
        }
      ]
    },
    {
      "cell_type": "code",
      "metadata": {
        "id": "JEl3DhQbOgDl"
      },
      "source": [
        "lm = LinearRegression()"
      ],
      "execution_count": null,
      "outputs": []
    },
    {
      "cell_type": "code",
      "metadata": {
        "colab": {
          "base_uri": "https://localhost:8080/"
        },
        "id": "O9mYGF1MOjo-",
        "outputId": "0cd12702-86fe-43b6-e76f-e7991da14562"
      },
      "source": [
        "lm.fit(x, y)\n",
        "lm.coef_, lm.score(x, y)"
      ],
      "execution_count": null,
      "outputs": [
        {
          "output_type": "execute_result",
          "data": {
            "text/plain": [
              "(array([[ 0.1217202 , -0.45147588,  0.41968673]]), 0.8849710546071363)"
            ]
          },
          "metadata": {
            "tags": []
          },
          "execution_count": 8
        }
      ]
    },
    {
      "cell_type": "markdown",
      "metadata": {
        "id": "-h8ND4_OOvpC"
      },
      "source": [
        "##Многообразие линейных моделей"
      ]
    },
    {
      "cell_type": "markdown",
      "metadata": {
        "id": "pV9u5vOYO6Uc"
      },
      "source": [
        "Мы можем обобщить нашу линейную регрессию следующей моделью:\n",
        "$$X^* = Z^* \\theta + \\varepsilon,$$\n",
        "где $X^* = g_1(X), Z^* = g_2(Z)$ – некоторые произвольные функции.\n",
        "\n",
        "Таким образом, мы можем использовать модель линейной регрессии над в общем случае нелинейно преобразованными данными случайными величинами.\n",
        "\n",
        "Кроме того, в качестве факторов $Z_i$ мы можем неоднократно использовать преобразования исходных независимых фаторов. В том случае, когда преобразованая зависимая переменная является экспоненциальной, то речь идет о так называемой обощенной линейной модели (GLM).\n",
        "\n",
        "Модели также отличаются в зависимости от оптиизированного функционала.\n",
        "\n",
        "**Регуляризация.** Отельно следует упомянуть о так называемой регуляризации. \n"
      ]
    },
    {
      "cell_type": "code",
      "metadata": {
        "colab": {
          "base_uri": "https://localhost:8080/",
          "height": 191
        },
        "id": "zWMw4try9VTr",
        "outputId": "9f968bf4-bf39-4b10-c9ce-5261c5e43617"
      },
      "source": [
        "# загружаем файл с данными\n",
        "df = pd.read_csv(\"sample_data/regr1.csv\")\n",
        "# x - таблица с исходными данными факторов (x1, x2, x3)\n",
        "x = df.iloc[:,:-1]\n",
        "# y - таблица с исходными данными зависимой переменной\n",
        "y = df.iloc[:,-1]\n",
        "df.head()"
      ],
      "execution_count": null,
      "outputs": [
        {
          "output_type": "execute_result",
          "data": {
            "text/html": [
              "<div>\n",
              "<style scoped>\n",
              "    .dataframe tbody tr th:only-of-type {\n",
              "        vertical-align: middle;\n",
              "    }\n",
              "\n",
              "    .dataframe tbody tr th {\n",
              "        vertical-align: top;\n",
              "    }\n",
              "\n",
              "    .dataframe thead th {\n",
              "        text-align: right;\n",
              "    }\n",
              "</style>\n",
              "<table border=\"1\" class=\"dataframe\">\n",
              "  <thead>\n",
              "    <tr style=\"text-align: right;\">\n",
              "      <th></th>\n",
              "      <th>Unnamed: 0</th>\n",
              "      <th>x1</th>\n",
              "      <th>x2</th>\n",
              "      <th>x3</th>\n",
              "      <th>y</th>\n",
              "    </tr>\n",
              "  </thead>\n",
              "  <tbody>\n",
              "    <tr>\n",
              "      <th>0</th>\n",
              "      <td>0</td>\n",
              "      <td>17.486288</td>\n",
              "      <td>185.505167</td>\n",
              "      <td>0.0</td>\n",
              "      <td>161.600365</td>\n",
              "    </tr>\n",
              "    <tr>\n",
              "      <th>1</th>\n",
              "      <td>1</td>\n",
              "      <td>32.353509</td>\n",
              "      <td>182.540139</td>\n",
              "      <td>0.0</td>\n",
              "      <td>157.077034</td>\n",
              "    </tr>\n",
              "    <tr>\n",
              "      <th>2</th>\n",
              "      <td>2</td>\n",
              "      <td>20.629644</td>\n",
              "      <td>190.742210</td>\n",
              "      <td>0.0</td>\n",
              "      <td>155.571362</td>\n",
              "    </tr>\n",
              "    <tr>\n",
              "      <th>3</th>\n",
              "      <td>4</td>\n",
              "      <td>29.396574</td>\n",
              "      <td>169.742980</td>\n",
              "      <td>0.0</td>\n",
              "      <td>147.232886</td>\n",
              "    </tr>\n",
              "    <tr>\n",
              "      <th>4</th>\n",
              "      <td>5</td>\n",
              "      <td>19.673511</td>\n",
              "      <td>191.574909</td>\n",
              "      <td>0.0</td>\n",
              "      <td>149.530893</td>\n",
              "    </tr>\n",
              "  </tbody>\n",
              "</table>\n",
              "</div>"
            ],
            "text/plain": [
              "   Unnamed: 0         x1          x2   x3           y\n",
              "0           0  17.486288  185.505167  0.0  161.600365\n",
              "1           1  32.353509  182.540139  0.0  157.077034\n",
              "2           2  20.629644  190.742210  0.0  155.571362\n",
              "3           4  29.396574  169.742980  0.0  147.232886\n",
              "4           5  19.673511  191.574909  0.0  149.530893"
            ]
          },
          "metadata": {
            "tags": []
          },
          "execution_count": 25
        }
      ]
    },
    {
      "cell_type": "code",
      "metadata": {
        "colab": {
          "base_uri": "https://localhost:8080/"
        },
        "id": "S0jlgaiL-ANx",
        "outputId": "37cc6058-4dda-4aae-c56d-7228cf7240b3"
      },
      "source": [
        "lm = LinearRegression()\n",
        "# запускаем расчет параметров для указанных данных\n",
        "lm.fit(x, y)\n",
        "# и выведем параметры рассчитанной модели\n",
        "lm.coef_, lm.score(x, y)"
      ],
      "execution_count": null,
      "outputs": [
        {
          "output_type": "execute_result",
          "data": {
            "text/plain": [
              "(array([-1.27631893e-02,  6.94554429e-02,  7.13624013e-01,  2.20245599e+01]),\n",
              " 0.8527198548675538)"
            ]
          },
          "metadata": {
            "tags": []
          },
          "execution_count": 13
        }
      ]
    },
    {
      "cell_type": "code",
      "metadata": {
        "colab": {
          "base_uri": "https://localhost:8080/",
          "height": 265
        },
        "id": "Z1o9E_MzGoay",
        "outputId": "1292fd23-1f95-4e91-82cb-558a71a4bdea"
      },
      "source": [
        "plt.scatter(y, x['x1'])\n",
        "plt.show()"
      ],
      "execution_count": null,
      "outputs": [
        {
          "output_type": "display_data",
          "data": {
            "image/png": "[encoded data removed]",
            "text/plain": [
              "<Figure size 432x288 with 1 Axes>"
            ]
          },
          "metadata": {
            "tags": [],
            "needs_background": "light"
          }
        }
      ]
    },
    {
      "cell_type": "code",
      "metadata": {
        "colab": {
          "base_uri": "https://localhost:8080/",
          "height": 265
        },
        "id": "ALILUxN4G-Dr",
        "outputId": "364961df-477c-46b3-d1f8-675eec9e1f08"
      },
      "source": [
        "plt.scatter(y, x['x2'])\n",
        "plt.show()"
      ],
      "execution_count": null,
      "outputs": [
        {
          "output_type": "display_data",
          "data": {
            "image/png": "[encoded data removed]",
            "text/plain": [
              "<Figure size 432x288 with 1 Axes>"
            ]
          },
          "metadata": {
            "tags": [],
            "needs_background": "light"
          }
        }
      ]
    },
    {
      "cell_type": "code",
      "metadata": {
        "colab": {
          "base_uri": "https://localhost:8080/",
          "height": 265
        },
        "id": "b0_rGHxtHAL0",
        "outputId": "5f6caf70-0bc3-40c1-93c7-9d69f4fab4f2"
      },
      "source": [
        "plt.scatter(y, x['x3'])\n",
        "plt.show()"
      ],
      "execution_count": null,
      "outputs": [
        {
          "output_type": "display_data",
          "data": {
            "image/png": "[encoded data removed]",
            "text/plain": [
              "<Figure size 432x288 with 1 Axes>"
            ]
          },
          "metadata": {
            "tags": [],
            "needs_background": "light"
          }
        }
      ]
    },
    {
      "cell_type": "code",
      "metadata": {
        "colab": {
          "base_uri": "https://localhost:8080/",
          "height": 191
        },
        "id": "adkCpQ0Fdd7e",
        "outputId": "592a1195-85aa-4032-fdef-721324d0412a"
      },
      "source": [
        "x[\"x4\"] = x[\"x2\"] * x[\"x3\"] \n",
        "x.head()"
      ],
      "execution_count": null,
      "outputs": [
        {
          "output_type": "execute_result",
          "data": {
            "text/html": [
              "<div>\n",
              "<style scoped>\n",
              "    .dataframe tbody tr th:only-of-type {\n",
              "        vertical-align: middle;\n",
              "    }\n",
              "\n",
              "    .dataframe tbody tr th {\n",
              "        vertical-align: top;\n",
              "    }\n",
              "\n",
              "    .dataframe thead th {\n",
              "        text-align: right;\n",
              "    }\n",
              "</style>\n",
              "<table border=\"1\" class=\"dataframe\">\n",
              "  <thead>\n",
              "    <tr style=\"text-align: right;\">\n",
              "      <th></th>\n",
              "      <th>Unnamed: 0</th>\n",
              "      <th>x1</th>\n",
              "      <th>x2</th>\n",
              "      <th>x3</th>\n",
              "      <th>x4</th>\n",
              "    </tr>\n",
              "  </thead>\n",
              "  <tbody>\n",
              "    <tr>\n",
              "      <th>0</th>\n",
              "      <td>0</td>\n",
              "      <td>17.486288</td>\n",
              "      <td>185.505167</td>\n",
              "      <td>0.0</td>\n",
              "      <td>0.0</td>\n",
              "    </tr>\n",
              "    <tr>\n",
              "      <th>1</th>\n",
              "      <td>1</td>\n",
              "      <td>32.353509</td>\n",
              "      <td>182.540139</td>\n",
              "      <td>0.0</td>\n",
              "      <td>0.0</td>\n",
              "    </tr>\n",
              "    <tr>\n",
              "      <th>2</th>\n",
              "      <td>2</td>\n",
              "      <td>20.629644</td>\n",
              "      <td>190.742210</td>\n",
              "      <td>0.0</td>\n",
              "      <td>0.0</td>\n",
              "    </tr>\n",
              "    <tr>\n",
              "      <th>3</th>\n",
              "      <td>4</td>\n",
              "      <td>29.396574</td>\n",
              "      <td>169.742980</td>\n",
              "      <td>0.0</td>\n",
              "      <td>0.0</td>\n",
              "    </tr>\n",
              "    <tr>\n",
              "      <th>4</th>\n",
              "      <td>5</td>\n",
              "      <td>19.673511</td>\n",
              "      <td>191.574909</td>\n",
              "      <td>0.0</td>\n",
              "      <td>0.0</td>\n",
              "    </tr>\n",
              "  </tbody>\n",
              "</table>\n",
              "</div>"
            ],
            "text/plain": [
              "   Unnamed: 0         x1          x2   x3   x4\n",
              "0           0  17.486288  185.505167  0.0  0.0\n",
              "1           1  32.353509  182.540139  0.0  0.0\n",
              "2           2  20.629644  190.742210  0.0  0.0\n",
              "3           4  29.396574  169.742980  0.0  0.0\n",
              "4           5  19.673511  191.574909  0.0  0.0"
            ]
          },
          "metadata": {
            "tags": []
          },
          "execution_count": 34
        }
      ]
    },
    {
      "cell_type": "code",
      "metadata": {
        "colab": {
          "base_uri": "https://localhost:8080/"
        },
        "id": "9Ei23YuWduU4",
        "outputId": "756afd68-4834-4911-b6e8-9384073edeba"
      },
      "source": [
        "lm = LinearRegression()\n",
        "# запускаем расчет параметров для указанных данных\n",
        "lm.fit(x, y)\n",
        "# и выведем параметры рассчитанной модели\n",
        "lm.coef_, lm.score(x, y)"
      ],
      "execution_count": null,
      "outputs": [
        {
          "output_type": "execute_result",
          "data": {
            "text/plain": [
              "(array([-1.00422541e-02,  1.61544479e-02,  4.77649028e-01, -6.57178581e+01,\n",
              "         4.95203284e-01]), 0.9106777847467751)"
            ]
          },
          "metadata": {
            "tags": []
          },
          "execution_count": 35
        }
      ]
    },
    {
      "cell_type": "markdown",
      "metadata": {
        "id": "SPbSCLzl6qU9"
      },
      "source": [
        "#Методы машинного обучения"
      ]
    },
    {
      "cell_type": "markdown",
      "metadata": {
        "id": "cPJqnOF2JP_x"
      },
      "source": [
        "https://novator.io/kejsy/fakticheskaya-raznitsa-mezhdu-statistikoj-i-mashinnym-obucheniem\n",
        "\n",
        "1. Обучение с учителем — для каждого прецедента задаётся пара «ситуация, требуемое решение».\n",
        "2. Обучение без учителя — для каждого прецедента задаётся только «ситуация», требуется сгруппировать объекты в кластеры, используя данные о попарном сходстве объектов, и/или понизить размерность данных.\n",
        "3. Обучение с подкреплением — для каждого прецедента имеется пара «ситуация, принятое решение»."
      ]
    },
    {
      "cell_type": "markdown",
      "metadata": {
        "id": "CyaPtjuVDnNF"
      },
      "source": [
        "## Пример. Прогноз погоды"
      ]
    },
    {
      "cell_type": "code",
      "metadata": {
        "id": "IXRkIvoxDz9a"
      },
      "source": [
        "import numpy as np\n",
        "import pandas as pd\n",
        "import matplotlib.pyplot as plt\n",
        "import seaborn as sns\n",
        "from sklearn.model_selection import train_test_split\n",
        "from sklearn.linear_model import LinearRegression\n"
      ],
      "execution_count": null,
      "outputs": []
    },
    {
      "cell_type": "code",
      "metadata": {
        "colab": {
          "base_uri": "https://localhost:8080/",
          "height": 288
        },
        "id": "FCaun3jHD8qz",
        "outputId": "9bd028d4-8cbd-4d64-be87-8672979996fd"
      },
      "source": [
        "df=pd.read_csv('sample_data/weatherHistory.csv')\n",
        "df.head()"
      ],
      "execution_count": null,
      "outputs": [
        {
          "output_type": "execute_result",
          "data": {
            "text/html": [
              "<div>\n",
              "<style scoped>\n",
              "    .dataframe tbody tr th:only-of-type {\n",
              "        vertical-align: middle;\n",
              "    }\n",
              "\n",
              "    .dataframe tbody tr th {\n",
              "        vertical-align: top;\n",
              "    }\n",
              "\n",
              "    .dataframe thead th {\n",
              "        text-align: right;\n",
              "    }\n",
              "</style>\n",
              "<table border=\"1\" class=\"dataframe\">\n",
              "  <thead>\n",
              "    <tr style=\"text-align: right;\">\n",
              "      <th></th>\n",
              "      <th>Formatted Date</th>\n",
              "      <th>Summary</th>\n",
              "      <th>Precip Type</th>\n",
              "      <th>Temperature (C)</th>\n",
              "      <th>Apparent Temperature (C)</th>\n",
              "      <th>Humidity</th>\n",
              "      <th>Wind Speed (km/h)</th>\n",
              "      <th>Wind Bearing (degrees)</th>\n",
              "      <th>Visibility (km)</th>\n",
              "      <th>Loud Cover</th>\n",
              "      <th>Pressure (millibars)</th>\n",
              "      <th>Daily Summary</th>\n",
              "    </tr>\n",
              "  </thead>\n",
              "  <tbody>\n",
              "    <tr>\n",
              "      <th>0</th>\n",
              "      <td>2006-04-01 00:00:00.000 +0200</td>\n",
              "      <td>Partly Cloudy</td>\n",
              "      <td>rain</td>\n",
              "      <td>9.472222</td>\n",
              "      <td>7.388889</td>\n",
              "      <td>0.89</td>\n",
              "      <td>14.1197</td>\n",
              "      <td>251.0</td>\n",
              "      <td>15.8263</td>\n",
              "      <td>0.0</td>\n",
              "      <td>1015.13</td>\n",
              "      <td>Partly cloudy throughout the day.</td>\n",
              "    </tr>\n",
              "    <tr>\n",
              "      <th>1</th>\n",
              "      <td>2006-04-01 01:00:00.000 +0200</td>\n",
              "      <td>Partly Cloudy</td>\n",
              "      <td>rain</td>\n",
              "      <td>9.355556</td>\n",
              "      <td>7.227778</td>\n",
              "      <td>0.86</td>\n",
              "      <td>14.2646</td>\n",
              "      <td>259.0</td>\n",
              "      <td>15.8263</td>\n",
              "      <td>0.0</td>\n",
              "      <td>1015.63</td>\n",
              "      <td>Partly cloudy throughout the day.</td>\n",
              "    </tr>\n",
              "    <tr>\n",
              "      <th>2</th>\n",
              "      <td>2006-04-01 02:00:00.000 +0200</td>\n",
              "      <td>Mostly Cloudy</td>\n",
              "      <td>rain</td>\n",
              "      <td>9.377778</td>\n",
              "      <td>9.377778</td>\n",
              "      <td>0.89</td>\n",
              "      <td>3.9284</td>\n",
              "      <td>204.0</td>\n",
              "      <td>14.9569</td>\n",
              "      <td>0.0</td>\n",
              "      <td>1015.94</td>\n",
              "      <td>Partly cloudy throughout the day.</td>\n",
              "    </tr>\n",
              "    <tr>\n",
              "      <th>3</th>\n",
              "      <td>2006-04-01 03:00:00.000 +0200</td>\n",
              "      <td>Partly Cloudy</td>\n",
              "      <td>rain</td>\n",
              "      <td>8.288889</td>\n",
              "      <td>5.944444</td>\n",
              "      <td>0.83</td>\n",
              "      <td>14.1036</td>\n",
              "      <td>269.0</td>\n",
              "      <td>15.8263</td>\n",
              "      <td>0.0</td>\n",
              "      <td>1016.41</td>\n",
              "      <td>Partly cloudy throughout the day.</td>\n",
              "    </tr>\n",
              "    <tr>\n",
              "      <th>4</th>\n",
              "      <td>2006-04-01 04:00:00.000 +0200</td>\n",
              "      <td>Mostly Cloudy</td>\n",
              "      <td>rain</td>\n",
              "      <td>8.755556</td>\n",
              "      <td>6.977778</td>\n",
              "      <td>0.83</td>\n",
              "      <td>11.0446</td>\n",
              "      <td>259.0</td>\n",
              "      <td>15.8263</td>\n",
              "      <td>0.0</td>\n",
              "      <td>1016.51</td>\n",
              "      <td>Partly cloudy throughout the day.</td>\n",
              "    </tr>\n",
              "  </tbody>\n",
              "</table>\n",
              "</div>"
            ],
            "text/plain": [
              "                  Formatted Date  ...                      Daily Summary\n",
              "0  2006-04-01 00:00:00.000 +0200  ...  Partly cloudy throughout the day.\n",
              "1  2006-04-01 01:00:00.000 +0200  ...  Partly cloudy throughout the day.\n",
              "2  2006-04-01 02:00:00.000 +0200  ...  Partly cloudy throughout the day.\n",
              "3  2006-04-01 03:00:00.000 +0200  ...  Partly cloudy throughout the day.\n",
              "4  2006-04-01 04:00:00.000 +0200  ...  Partly cloudy throughout the day.\n",
              "\n",
              "[5 rows x 12 columns]"
            ]
          },
          "metadata": {
            "tags": []
          },
          "execution_count": 5
        }
      ]
    },
    {
      "cell_type": "code",
      "metadata": {
        "id": "rDGIC1XHEGw2"
      },
      "source": [
        "df['Formatted Date']=pd.to_datetime(df['Formatted Date'],utc=True)\n",
        "df['year']=df['Formatted Date'].dt.year\n",
        "df['month']=df['Formatted Date'].dt.month\n",
        "df['day']=df['Formatted Date'].dt.day"
      ],
      "execution_count": null,
      "outputs": []
    },
    {
      "cell_type": "code",
      "metadata": {
        "id": "GtTMQmjoEKiZ"
      },
      "source": [
        "df.rename(columns={'Temperature (C)':'Temperature','Apparent Temperature (C)':'Apparent Temperature'},inplace=True)\n",
        "del df['Loud Cover']"
      ],
      "execution_count": null,
      "outputs": []
    },
    {
      "cell_type": "code",
      "metadata": {
        "colab": {
          "base_uri": "https://localhost:8080/",
          "height": 288
        },
        "id": "Ke1vqeatEOmv",
        "outputId": "c155008d-b94c-41d3-8a9d-fc0be1ed8f29"
      },
      "source": [
        "df.head()"
      ],
      "execution_count": null,
      "outputs": [
        {
          "output_type": "execute_result",
          "data": {
            "text/html": [
              "<div>\n",
              "<style scoped>\n",
              "    .dataframe tbody tr th:only-of-type {\n",
              "        vertical-align: middle;\n",
              "    }\n",
              "\n",
              "    .dataframe tbody tr th {\n",
              "        vertical-align: top;\n",
              "    }\n",
              "\n",
              "    .dataframe thead th {\n",
              "        text-align: right;\n",
              "    }\n",
              "</style>\n",
              "<table border=\"1\" class=\"dataframe\">\n",
              "  <thead>\n",
              "    <tr style=\"text-align: right;\">\n",
              "      <th></th>\n",
              "      <th>Formatted Date</th>\n",
              "      <th>Summary</th>\n",
              "      <th>Precip Type</th>\n",
              "      <th>Temperature</th>\n",
              "      <th>Apparent Temperature</th>\n",
              "      <th>Humidity</th>\n",
              "      <th>Wind Speed (km/h)</th>\n",
              "      <th>Wind Bearing (degrees)</th>\n",
              "      <th>Visibility (km)</th>\n",
              "      <th>Pressure (millibars)</th>\n",
              "      <th>Daily Summary</th>\n",
              "      <th>year</th>\n",
              "      <th>month</th>\n",
              "      <th>day</th>\n",
              "    </tr>\n",
              "  </thead>\n",
              "  <tbody>\n",
              "    <tr>\n",
              "      <th>0</th>\n",
              "      <td>2006-03-31 22:00:00+00:00</td>\n",
              "      <td>Partly Cloudy</td>\n",
              "      <td>rain</td>\n",
              "      <td>9.472222</td>\n",
              "      <td>7.388889</td>\n",
              "      <td>0.89</td>\n",
              "      <td>14.1197</td>\n",
              "      <td>251.0</td>\n",
              "      <td>15.8263</td>\n",
              "      <td>1015.13</td>\n",
              "      <td>Partly cloudy throughout the day.</td>\n",
              "      <td>2006</td>\n",
              "      <td>3</td>\n",
              "      <td>31</td>\n",
              "    </tr>\n",
              "    <tr>\n",
              "      <th>1</th>\n",
              "      <td>2006-03-31 23:00:00+00:00</td>\n",
              "      <td>Partly Cloudy</td>\n",
              "      <td>rain</td>\n",
              "      <td>9.355556</td>\n",
              "      <td>7.227778</td>\n",
              "      <td>0.86</td>\n",
              "      <td>14.2646</td>\n",
              "      <td>259.0</td>\n",
              "      <td>15.8263</td>\n",
              "      <td>1015.63</td>\n",
              "      <td>Partly cloudy throughout the day.</td>\n",
              "      <td>2006</td>\n",
              "      <td>3</td>\n",
              "      <td>31</td>\n",
              "    </tr>\n",
              "    <tr>\n",
              "      <th>2</th>\n",
              "      <td>2006-04-01 00:00:00+00:00</td>\n",
              "      <td>Mostly Cloudy</td>\n",
              "      <td>rain</td>\n",
              "      <td>9.377778</td>\n",
              "      <td>9.377778</td>\n",
              "      <td>0.89</td>\n",
              "      <td>3.9284</td>\n",
              "      <td>204.0</td>\n",
              "      <td>14.9569</td>\n",
              "      <td>1015.94</td>\n",
              "      <td>Partly cloudy throughout the day.</td>\n",
              "      <td>2006</td>\n",
              "      <td>4</td>\n",
              "      <td>1</td>\n",
              "    </tr>\n",
              "    <tr>\n",
              "      <th>3</th>\n",
              "      <td>2006-04-01 01:00:00+00:00</td>\n",
              "      <td>Partly Cloudy</td>\n",
              "      <td>rain</td>\n",
              "      <td>8.288889</td>\n",
              "      <td>5.944444</td>\n",
              "      <td>0.83</td>\n",
              "      <td>14.1036</td>\n",
              "      <td>269.0</td>\n",
              "      <td>15.8263</td>\n",
              "      <td>1016.41</td>\n",
              "      <td>Partly cloudy throughout the day.</td>\n",
              "      <td>2006</td>\n",
              "      <td>4</td>\n",
              "      <td>1</td>\n",
              "    </tr>\n",
              "    <tr>\n",
              "      <th>4</th>\n",
              "      <td>2006-04-01 02:00:00+00:00</td>\n",
              "      <td>Mostly Cloudy</td>\n",
              "      <td>rain</td>\n",
              "      <td>8.755556</td>\n",
              "      <td>6.977778</td>\n",
              "      <td>0.83</td>\n",
              "      <td>11.0446</td>\n",
              "      <td>259.0</td>\n",
              "      <td>15.8263</td>\n",
              "      <td>1016.51</td>\n",
              "      <td>Partly cloudy throughout the day.</td>\n",
              "      <td>2006</td>\n",
              "      <td>4</td>\n",
              "      <td>1</td>\n",
              "    </tr>\n",
              "  </tbody>\n",
              "</table>\n",
              "</div>"
            ],
            "text/plain": [
              "             Formatted Date        Summary Precip Type  ...  year  month  day\n",
              "0 2006-03-31 22:00:00+00:00  Partly Cloudy        rain  ...  2006      3   31\n",
              "1 2006-03-31 23:00:00+00:00  Partly Cloudy        rain  ...  2006      3   31\n",
              "2 2006-04-01 00:00:00+00:00  Mostly Cloudy        rain  ...  2006      4    1\n",
              "3 2006-04-01 01:00:00+00:00  Partly Cloudy        rain  ...  2006      4    1\n",
              "4 2006-04-01 02:00:00+00:00  Mostly Cloudy        rain  ...  2006      4    1\n",
              "\n",
              "[5 rows x 14 columns]"
            ]
          },
          "metadata": {
            "tags": []
          },
          "execution_count": 8
        }
      ]
    },
    {
      "cell_type": "code",
      "metadata": {
        "colab": {
          "base_uri": "https://localhost:8080/",
          "height": 293
        },
        "id": "HXusmMcrEYpb",
        "outputId": "313d1ec4-c3b6-4448-ed8c-2820f839bb03"
      },
      "source": [
        "df.describe()"
      ],
      "execution_count": null,
      "outputs": [
        {
          "output_type": "execute_result",
          "data": {
            "text/html": [
              "<div>\n",
              "<style scoped>\n",
              "    .dataframe tbody tr th:only-of-type {\n",
              "        vertical-align: middle;\n",
              "    }\n",
              "\n",
              "    .dataframe tbody tr th {\n",
              "        vertical-align: top;\n",
              "    }\n",
              "\n",
              "    .dataframe thead th {\n",
              "        text-align: right;\n",
              "    }\n",
              "</style>\n",
              "<table border=\"1\" class=\"dataframe\">\n",
              "  <thead>\n",
              "    <tr style=\"text-align: right;\">\n",
              "      <th></th>\n",
              "      <th>Temperature</th>\n",
              "      <th>Apparent Temperature</th>\n",
              "      <th>Humidity</th>\n",
              "      <th>Wind Speed (km/h)</th>\n",
              "      <th>Wind Bearing (degrees)</th>\n",
              "      <th>Visibility (km)</th>\n",
              "      <th>Pressure (millibars)</th>\n",
              "      <th>year</th>\n",
              "      <th>month</th>\n",
              "      <th>day</th>\n",
              "    </tr>\n",
              "  </thead>\n",
              "  <tbody>\n",
              "    <tr>\n",
              "      <th>count</th>\n",
              "      <td>96453.000000</td>\n",
              "      <td>96453.000000</td>\n",
              "      <td>96453.000000</td>\n",
              "      <td>96453.000000</td>\n",
              "      <td>96453.000000</td>\n",
              "      <td>96453.000000</td>\n",
              "      <td>96453.000000</td>\n",
              "      <td>96453.00000</td>\n",
              "      <td>96453.000000</td>\n",
              "      <td>96453.000000</td>\n",
              "    </tr>\n",
              "    <tr>\n",
              "      <th>mean</th>\n",
              "      <td>11.932678</td>\n",
              "      <td>10.855029</td>\n",
              "      <td>0.734899</td>\n",
              "      <td>10.810640</td>\n",
              "      <td>187.509232</td>\n",
              "      <td>10.347325</td>\n",
              "      <td>1003.235956</td>\n",
              "      <td>2011.00029</td>\n",
              "      <td>6.523001</td>\n",
              "      <td>15.727100</td>\n",
              "    </tr>\n",
              "    <tr>\n",
              "      <th>std</th>\n",
              "      <td>9.551546</td>\n",
              "      <td>10.696847</td>\n",
              "      <td>0.195473</td>\n",
              "      <td>6.913571</td>\n",
              "      <td>107.383428</td>\n",
              "      <td>4.192123</td>\n",
              "      <td>116.969906</td>\n",
              "      <td>3.16216</td>\n",
              "      <td>3.448501</td>\n",
              "      <td>8.802216</td>\n",
              "    </tr>\n",
              "    <tr>\n",
              "      <th>min</th>\n",
              "      <td>-21.822222</td>\n",
              "      <td>-27.716667</td>\n",
              "      <td>0.000000</td>\n",
              "      <td>0.000000</td>\n",
              "      <td>0.000000</td>\n",
              "      <td>0.000000</td>\n",
              "      <td>0.000000</td>\n",
              "      <td>2005.00000</td>\n",
              "      <td>1.000000</td>\n",
              "      <td>1.000000</td>\n",
              "    </tr>\n",
              "    <tr>\n",
              "      <th>25%</th>\n",
              "      <td>4.688889</td>\n",
              "      <td>2.311111</td>\n",
              "      <td>0.600000</td>\n",
              "      <td>5.828200</td>\n",
              "      <td>116.000000</td>\n",
              "      <td>8.339800</td>\n",
              "      <td>1011.900000</td>\n",
              "      <td>2008.00000</td>\n",
              "      <td>4.000000</td>\n",
              "      <td>8.000000</td>\n",
              "    </tr>\n",
              "    <tr>\n",
              "      <th>50%</th>\n",
              "      <td>12.000000</td>\n",
              "      <td>12.000000</td>\n",
              "      <td>0.780000</td>\n",
              "      <td>9.965900</td>\n",
              "      <td>180.000000</td>\n",
              "      <td>10.046400</td>\n",
              "      <td>1016.450000</td>\n",
              "      <td>2011.00000</td>\n",
              "      <td>7.000000</td>\n",
              "      <td>16.000000</td>\n",
              "    </tr>\n",
              "    <tr>\n",
              "      <th>75%</th>\n",
              "      <td>18.838889</td>\n",
              "      <td>18.838889</td>\n",
              "      <td>0.890000</td>\n",
              "      <td>14.135800</td>\n",
              "      <td>290.000000</td>\n",
              "      <td>14.812000</td>\n",
              "      <td>1021.090000</td>\n",
              "      <td>2014.00000</td>\n",
              "      <td>10.000000</td>\n",
              "      <td>23.000000</td>\n",
              "    </tr>\n",
              "    <tr>\n",
              "      <th>max</th>\n",
              "      <td>39.905556</td>\n",
              "      <td>39.344444</td>\n",
              "      <td>1.000000</td>\n",
              "      <td>63.852600</td>\n",
              "      <td>359.000000</td>\n",
              "      <td>16.100000</td>\n",
              "      <td>1046.380000</td>\n",
              "      <td>2016.00000</td>\n",
              "      <td>12.000000</td>\n",
              "      <td>31.000000</td>\n",
              "    </tr>\n",
              "  </tbody>\n",
              "</table>\n",
              "</div>"
            ],
            "text/plain": [
              "        Temperature  Apparent Temperature  ...         month           day\n",
              "count  96453.000000          96453.000000  ...  96453.000000  96453.000000\n",
              "mean      11.932678             10.855029  ...      6.523001     15.727100\n",
              "std        9.551546             10.696847  ...      3.448501      8.802216\n",
              "min      -21.822222            -27.716667  ...      1.000000      1.000000\n",
              "25%        4.688889              2.311111  ...      4.000000      8.000000\n",
              "50%       12.000000             12.000000  ...      7.000000     16.000000\n",
              "75%       18.838889             18.838889  ...     10.000000     23.000000\n",
              "max       39.905556             39.344444  ...     12.000000     31.000000\n",
              "\n",
              "[8 rows x 10 columns]"
            ]
          },
          "metadata": {
            "tags": []
          },
          "execution_count": 9
        }
      ]
    },
    {
      "cell_type": "code",
      "metadata": {
        "colab": {
          "base_uri": "https://localhost:8080/",
          "height": 265
        },
        "id": "YTOkEyoEEjl8",
        "outputId": "6c0e4512-57cd-4ebc-9a8d-c37b9031ebf8"
      },
      "source": [
        "plt.hist(df['Temperature'], bins = 50)\n",
        "plt.show()"
      ],
      "execution_count": null,
      "outputs": [
        {
          "output_type": "display_data",
          "data": {
            "image/png": "[encoded data removed]",
            "text/plain": [
              "<Figure size 432x288 with 1 Axes>"
            ]
          },
          "metadata": {
            "tags": [],
            "needs_background": "light"
          }
        }
      ]
    },
    {
      "cell_type": "code",
      "metadata": {
        "colab": {
          "base_uri": "https://localhost:8080/",
          "height": 441
        },
        "id": "ybYAc0afE5-F",
        "outputId": "043b4546-a93f-4451-fdfd-e2f6a5a48b6a"
      },
      "source": [
        "sns.jointplot(x='Temperature',y='Humidity',data=df,kind='hex')\n",
        "plt.show()"
      ],
      "execution_count": null,
      "outputs": [
        {
          "output_type": "display_data",
          "data": {
            "image/png": "[encoded data removed]",
            "text/plain": [
              "<Figure size 432x432 with 3 Axes>"
            ]
          },
          "metadata": {
            "tags": [],
            "needs_background": "light"
          }
        }
      ]
    },
    {
      "cell_type": "code",
      "metadata": {
        "colab": {
          "base_uri": "https://localhost:8080/",
          "height": 720
        },
        "id": "6TTMWfPJFDJh",
        "outputId": "1d34b30b-2c6a-4af3-d29b-833756c0d1d3"
      },
      "source": [
        "plt.figure(figsize=(10,10))\n",
        "ax=sns.heatmap(df.corr(),annot=True)\n",
        "ax.set_ylim(11,0)"
      ],
      "execution_count": null,
      "outputs": [
        {
          "output_type": "execute_result",
          "data": {
            "text/plain": [
              "(11.0, 0.0)"
            ]
          },
          "metadata": {
            "tags": []
          },
          "execution_count": 17
        },
        {
          "output_type": "display_data",
          "data": {
            "image/png": "[encoded data removed]",
            "text/plain": [
              "<Figure size 720x720 with 2 Axes>"
            ]
          },
          "metadata": {
            "tags": [],
            "needs_background": "light"
          }
        }
      ]
    },
    {
      "cell_type": "code",
      "metadata": {
        "id": "6-QBMhUrFR9d"
      },
      "source": [
        "x=df.iloc[:,4:10]\n",
        "y=df.iloc[:,3]\n",
        "x_train,x_test,y_train,y_test= train_test_split(x,y,test_size=0.2,random_state=100)\n"
      ],
      "execution_count": null,
      "outputs": []
    },
    {
      "cell_type": "code",
      "metadata": {
        "colab": {
          "base_uri": "https://localhost:8080/"
        },
        "id": "XZOo4XIHFjRl",
        "outputId": "4fd2010b-e04d-45ef-b160-56b177c4ce33"
      },
      "source": [
        "y.head()"
      ],
      "execution_count": null,
      "outputs": [
        {
          "output_type": "execute_result",
          "data": {
            "text/plain": [
              "0    9.472222\n",
              "1    9.355556\n",
              "2    9.377778\n",
              "3    8.288889\n",
              "4    8.755556\n",
              "Name: Temperature, dtype: float64"
            ]
          },
          "metadata": {
            "tags": []
          },
          "execution_count": 23
        }
      ]
    },
    {
      "cell_type": "code",
      "metadata": {
        "colab": {
          "base_uri": "https://localhost:8080/",
          "height": 191
        },
        "id": "I3rNwOmcFrvI",
        "outputId": "7a2d7740-6802-4583-f0c1-5fd159f0aa25"
      },
      "source": [
        "x.head()"
      ],
      "execution_count": null,
      "outputs": [
        {
          "output_type": "execute_result",
          "data": {
            "text/html": [
              "<div>\n",
              "<style scoped>\n",
              "    .dataframe tbody tr th:only-of-type {\n",
              "        vertical-align: middle;\n",
              "    }\n",
              "\n",
              "    .dataframe tbody tr th {\n",
              "        vertical-align: top;\n",
              "    }\n",
              "\n",
              "    .dataframe thead th {\n",
              "        text-align: right;\n",
              "    }\n",
              "</style>\n",
              "<table border=\"1\" class=\"dataframe\">\n",
              "  <thead>\n",
              "    <tr style=\"text-align: right;\">\n",
              "      <th></th>\n",
              "      <th>Apparent Temperature</th>\n",
              "      <th>Humidity</th>\n",
              "      <th>Wind Speed (km/h)</th>\n",
              "      <th>Wind Bearing (degrees)</th>\n",
              "      <th>Visibility (km)</th>\n",
              "      <th>Pressure (millibars)</th>\n",
              "    </tr>\n",
              "  </thead>\n",
              "  <tbody>\n",
              "    <tr>\n",
              "      <th>0</th>\n",
              "      <td>7.388889</td>\n",
              "      <td>0.89</td>\n",
              "      <td>14.1197</td>\n",
              "      <td>251.0</td>\n",
              "      <td>15.8263</td>\n",
              "      <td>1015.13</td>\n",
              "    </tr>\n",
              "    <tr>\n",
              "      <th>1</th>\n",
              "      <td>7.227778</td>\n",
              "      <td>0.86</td>\n",
              "      <td>14.2646</td>\n",
              "      <td>259.0</td>\n",
              "      <td>15.8263</td>\n",
              "      <td>1015.63</td>\n",
              "    </tr>\n",
              "    <tr>\n",
              "      <th>2</th>\n",
              "      <td>9.377778</td>\n",
              "      <td>0.89</td>\n",
              "      <td>3.9284</td>\n",
              "      <td>204.0</td>\n",
              "      <td>14.9569</td>\n",
              "      <td>1015.94</td>\n",
              "    </tr>\n",
              "    <tr>\n",
              "      <th>3</th>\n",
              "      <td>5.944444</td>\n",
              "      <td>0.83</td>\n",
              "      <td>14.1036</td>\n",
              "      <td>269.0</td>\n",
              "      <td>15.8263</td>\n",
              "      <td>1016.41</td>\n",
              "    </tr>\n",
              "    <tr>\n",
              "      <th>4</th>\n",
              "      <td>6.977778</td>\n",
              "      <td>0.83</td>\n",
              "      <td>11.0446</td>\n",
              "      <td>259.0</td>\n",
              "      <td>15.8263</td>\n",
              "      <td>1016.51</td>\n",
              "    </tr>\n",
              "  </tbody>\n",
              "</table>\n",
              "</div>"
            ],
            "text/plain": [
              "   Apparent Temperature  Humidity  ...  Visibility (km)  Pressure (millibars)\n",
              "0              7.388889      0.89  ...          15.8263               1015.13\n",
              "1              7.227778      0.86  ...          15.8263               1015.63\n",
              "2              9.377778      0.89  ...          14.9569               1015.94\n",
              "3              5.944444      0.83  ...          15.8263               1016.41\n",
              "4              6.977778      0.83  ...          15.8263               1016.51\n",
              "\n",
              "[5 rows x 6 columns]"
            ]
          },
          "metadata": {
            "tags": []
          },
          "execution_count": 24
        }
      ]
    },
    {
      "cell_type": "code",
      "metadata": {
        "colab": {
          "base_uri": "https://localhost:8080/"
        },
        "id": "XtTvJObcGipV",
        "outputId": "652535b4-96e3-46ea-fc27-c09117a0de65"
      },
      "source": [
        "lm = LinearRegression()\n",
        "lm.fit(x_train,y_train)"
      ],
      "execution_count": null,
      "outputs": [
        {
          "output_type": "execute_result",
          "data": {
            "text/plain": [
              "LinearRegression(copy_X=True, fit_intercept=True, n_jobs=None, normalize=False)"
            ]
          },
          "metadata": {
            "tags": []
          },
          "execution_count": 28
        }
      ]
    },
    {
      "cell_type": "code",
      "metadata": {
        "colab": {
          "base_uri": "https://localhost:8080/"
        },
        "id": "wuY3yrNCGtk7",
        "outputId": "81fde37b-dcb3-4746-fa90-7aadcf641ff5"
      },
      "source": [
        "lm.coef_"
      ],
      "execution_count": null,
      "outputs": [
        {
          "output_type": "execute_result",
          "data": {
            "text/plain": [
              "array([ 8.72392601e-01, -1.42064163e+00,  7.96256781e-02, -4.03335514e-04,\n",
              "        8.23561737e-03, -2.03445199e-04])"
            ]
          },
          "metadata": {
            "tags": []
          },
          "execution_count": 26
        }
      ]
    },
    {
      "cell_type": "code",
      "metadata": {
        "id": "lPI9D0rQG5SE"
      },
      "source": [
        "prd=lm.predict(x_test)"
      ],
      "execution_count": null,
      "outputs": []
    },
    {
      "cell_type": "code",
      "metadata": {
        "id": "On_JreHyG7-w"
      },
      "source": [
        "prd=lm.predict(x_test)\n"
      ],
      "execution_count": null,
      "outputs": []
    }
  ]
}