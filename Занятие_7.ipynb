{
  "nbformat": 4,
  "nbformat_minor": 0,
  "metadata": {
    "colab": {
      "name": "Занятие 7.ipynb",
      "provenance": [],
      "authorship_tag": "ABX9TyOE4iXGCqgyIxYxj73SSD3L",
      "include_colab_link": true
    },
    "kernelspec": {
      "name": "python3",
      "display_name": "Python 3"
    }
  },
  "cells": [
    {
      "cell_type": "markdown",
      "metadata": {
        "id": "view-in-github",
        "colab_type": "text"
      },
      "source": [
        "<a href=\"https://colab.research.google.com/github/andrey-gl/study2020/blob/master/%D0%97%D0%B0%D0%BD%D1%8F%D1%82%D0%B8%D0%B5_7.ipynb\" target=\"_parent\"><img src=\"https://colab.research.google.com/assets/colab-badge.svg\" alt=\"Open In Colab\"/></a>"
      ]
    },
    {
      "cell_type": "markdown",
      "metadata": {
        "id": "HyK69KrJg6v-"
      },
      "source": [
        "#Дисперсионный анализ"
      ]
    },
    {
      "cell_type": "markdown",
      "metadata": {
        "id": "aFRfE9YYnJV6"
      },
      "source": [
        "\n",
        "Пусть даны $k$ независимых выборок $\\mathbf{X}^1 = (X^1_1...X^1_{n_1})$, ..., $\\mathbf{X}^k = (X^k_1...X^k_{n_1})$, где $X^j_i \\sim N_{a_j, \\sigma^2}$. \n",
        "\n",
        "Проверяется основная гипотеза $H_0 = (a_1=....=a_k)$.\n",
        "\n",
        "Для каждой выборки вычислим выборочное среднее и выборочную дисперсию:\n",
        "\n",
        "$$\\overline{X}^j = \\frac{1}{n_j} \\sum_{i=1}^{n_j}X_i^j,  {S^2}^i = \\frac{1}{n_j} \\sum_{i=1}^{n_j} (X_i^j - \\overline{X}^j)^2$$.\n",
        "\n",
        "Положим $n = n_1 + ... + n_k$. Тогда:\n",
        "1. $\\overline{X} = \\frac{1}{n} \\sum \\limits_{i, j} X_i^j, S^2 = \\frac{1}{n} \\sum \\limits_{i, j} (X_i^j - \\overline{X})^2$ - общее выборочное среднее и общая выборочная дисперсия;\n",
        "2. $S_м^2 = \\frac{1}{n} \\sum \\limits_{j=1}^k n_j(\\overline{X}^j - \\overline{X})^2$ - межгрупповая дисперсия;\n",
        "3. $S_в^2 = \\frac{1}{n} \\sum \\limits_{j=1}^k \\sum \\limits_{i=1}^{n_j} (X_i^j - \\overline{X}^j)^2 $ - общая внутригрупповая дисперсия.\n",
        "\n",
        "Легко проверить, что:\n",
        "$$\\frac{nS^2}{\\sigma^2} = \\frac{nS_м^2}{\\sigma^2} + \\frac{nS_в^2}{\\sigma^2}$$ \n",
        "\n",
        "В этой соотношении $\\frac{nS^2}{\\sigma^2} \\sim H_{n-1}, \\frac{nS_м^2}{\\sigma^2} \\sim H_{k-1}, \\frac{nS_в^2}{\\sigma^2} \\sim H_{n-k}$.\n",
        "\n",
        "Построим статистику критерия следующим образом:\n",
        "\n",
        "$$T = \\frac{nS_м^2}{\\sigma^2(k-1)} \\frac{\\sigma^2(n-k)}{nS_в^2} \\sim F_{k-1, n-k}$$"
      ]
    },
    {
      "cell_type": "code",
      "metadata": {
        "colab": {
          "base_uri": "https://localhost:8080/"
        },
        "id": "jHxDA5P03qDI",
        "outputId": "84ee5669-5047-4a79-c3d1-1bd376631205"
      },
      "source": [
        "import numpy as np\n",
        "import scipy.stats as stats\n",
        "\n",
        "x1 = np.array([1, 2, 5])\n",
        "x2 = np.array([2, 4, 2])\n",
        "x3 = np.array([9, 9, 9])\n",
        "\n",
        "m = np.array([x1.mean(),x2.mean(),x3.mean()])\n",
        "x = np.vstack((x1, x2, x3))\n",
        "\n",
        "s = x.var()*9\n",
        "sm = m.var()*9\n",
        "sb = x1.var()*3 + x2.var()*3 + x3.var()*3\n",
        "\n",
        "F = (sm/2)/(sb/6)\n",
        "\n",
        "1-stats.f.cdf(F, 2, 6)\n",
        "\n",
        "\n",
        "F, 1-stats.f.cdf(F, 2, 6), stats.f_oneway(x1, x2, x3)\n"
      ],
      "execution_count": 86,
      "outputs": [
        {
          "output_type": "execute_result",
          "data": {
            "text/plain": [
              "(21.235294117647058,\n",
              " 0.001896788378982106,\n",
              " F_onewayResult(statistic=21.23529411764707, pvalue=0.001896788378982122))"
            ]
          },
          "metadata": {
            "tags": []
          },
          "execution_count": 86
        }
      ]
    },
    {
      "cell_type": "markdown",
      "metadata": {
        "id": "inbZDbmV02IZ"
      },
      "source": [
        "#Линейная регрессия"
      ]
    },
    {
      "cell_type": "markdown",
      "metadata": {
        "id": "CtFWSL1b05Tu"
      },
      "source": [
        "Рассмотрим связь двух случайных величин: $Y = a + bX$, где $X = (X_1...X_n)$ и $Y = (Y_1...Y_n)$. \n",
        "\n",
        "Метод наименьших квадратов: $RSS = \\sum \\limits_i (Y_i - (a+bX_i))^2$ минимизируем.\n",
        "\n",
        "Коэффициент детерминации: $R^2 = 1 - \\frac{\\frac{1}{n} \\sum \\limits_i(Y_i - (a + bX_i))^2}{\\frac{1}{n} \\sum \\limits_i(Y_i - \\overline{Y})^2}$."
      ]
    },
    {
      "cell_type": "code",
      "metadata": {
        "id": "-mp7SDqh763r"
      },
      "source": [
        "import pandas as pd\n",
        "import numpy as np\n",
        "import matplotlib\n",
        "import matplotlib.pyplot as plt\n",
        "matplotlib.style.use('ggplot')"
      ],
      "execution_count": 1,
      "outputs": []
    },
    {
      "cell_type": "code",
      "metadata": {
        "id": "XAjfCatv79F_"
      },
      "source": [
        "df = pd.read_csv('sample_data/Albuquerque Home Prices.txt', sep='\\t')\n",
        "df = df.replace(-9999, np.nan)"
      ],
      "execution_count": 2,
      "outputs": []
    },
    {
      "cell_type": "code",
      "metadata": {
        "colab": {
          "base_uri": "https://localhost:8080/",
          "height": 195
        },
        "id": "noq_RZiD7_hl",
        "outputId": "67371886-b6ce-4f0b-ad98-adf52e1bb1c6"
      },
      "source": [
        "df.head()"
      ],
      "execution_count": 3,
      "outputs": [
        {
          "output_type": "execute_result",
          "data": {
            "text/html": [
              "<div>\n",
              "<style scoped>\n",
              "    .dataframe tbody tr th:only-of-type {\n",
              "        vertical-align: middle;\n",
              "    }\n",
              "\n",
              "    .dataframe tbody tr th {\n",
              "        vertical-align: top;\n",
              "    }\n",
              "\n",
              "    .dataframe thead th {\n",
              "        text-align: right;\n",
              "    }\n",
              "</style>\n",
              "<table border=\"1\" class=\"dataframe\">\n",
              "  <thead>\n",
              "    <tr style=\"text-align: right;\">\n",
              "      <th></th>\n",
              "      <th>PRICE</th>\n",
              "      <th>SQFT</th>\n",
              "      <th>AGE</th>\n",
              "      <th>FEATS</th>\n",
              "      <th>NE</th>\n",
              "      <th>CUST</th>\n",
              "      <th>COR</th>\n",
              "      <th>TAX</th>\n",
              "    </tr>\n",
              "  </thead>\n",
              "  <tbody>\n",
              "    <tr>\n",
              "      <th>0</th>\n",
              "      <td>2050</td>\n",
              "      <td>2650</td>\n",
              "      <td>13.0</td>\n",
              "      <td>7</td>\n",
              "      <td>1</td>\n",
              "      <td>1</td>\n",
              "      <td>0</td>\n",
              "      <td>1639.0</td>\n",
              "    </tr>\n",
              "    <tr>\n",
              "      <th>1</th>\n",
              "      <td>2080</td>\n",
              "      <td>2600</td>\n",
              "      <td>NaN</td>\n",
              "      <td>4</td>\n",
              "      <td>1</td>\n",
              "      <td>1</td>\n",
              "      <td>0</td>\n",
              "      <td>1088.0</td>\n",
              "    </tr>\n",
              "    <tr>\n",
              "      <th>2</th>\n",
              "      <td>2150</td>\n",
              "      <td>2664</td>\n",
              "      <td>6.0</td>\n",
              "      <td>5</td>\n",
              "      <td>1</td>\n",
              "      <td>1</td>\n",
              "      <td>0</td>\n",
              "      <td>1193.0</td>\n",
              "    </tr>\n",
              "    <tr>\n",
              "      <th>3</th>\n",
              "      <td>2150</td>\n",
              "      <td>2921</td>\n",
              "      <td>3.0</td>\n",
              "      <td>6</td>\n",
              "      <td>1</td>\n",
              "      <td>1</td>\n",
              "      <td>0</td>\n",
              "      <td>1635.0</td>\n",
              "    </tr>\n",
              "    <tr>\n",
              "      <th>4</th>\n",
              "      <td>1999</td>\n",
              "      <td>2580</td>\n",
              "      <td>4.0</td>\n",
              "      <td>4</td>\n",
              "      <td>1</td>\n",
              "      <td>1</td>\n",
              "      <td>0</td>\n",
              "      <td>1732.0</td>\n",
              "    </tr>\n",
              "  </tbody>\n",
              "</table>\n",
              "</div>"
            ],
            "text/plain": [
              "   PRICE  SQFT   AGE  FEATS  NE  CUST  COR     TAX\n",
              "0   2050  2650  13.0      7   1     1    0  1639.0\n",
              "1   2080  2600   NaN      4   1     1    0  1088.0\n",
              "2   2150  2664   6.0      5   1     1    0  1193.0\n",
              "3   2150  2921   3.0      6   1     1    0  1635.0\n",
              "4   1999  2580   4.0      4   1     1    0  1732.0"
            ]
          },
          "metadata": {
            "tags": []
          },
          "execution_count": 3
        }
      ]
    },
    {
      "cell_type": "code",
      "metadata": {
        "colab": {
          "base_uri": "https://localhost:8080/"
        },
        "id": "u0gmseJg8Bzk",
        "outputId": "bbcb5b86-2e83-4c50-8896-ef12e86825a6"
      },
      "source": [
        "print('Rows in the data frame: {0}'.format(len(df)))\n",
        "print('Rows without NAN: {0}'.format(len(df.dropna(how='any'))))"
      ],
      "execution_count": 5,
      "outputs": [
        {
          "output_type": "stream",
          "text": [
            "Rows in the data frame: 117\n",
            "Rows without NAN: 66\n"
          ],
          "name": "stdout"
        }
      ]
    },
    {
      "cell_type": "code",
      "metadata": {
        "colab": {
          "base_uri": "https://localhost:8080/"
        },
        "id": "-wjUCGsp8Dq1",
        "outputId": "b152ff99-5236-4898-e11e-26670a2790dc"
      },
      "source": [
        "df.apply(lambda x: sum(x.isnull()), axis=0)"
      ],
      "execution_count": 6,
      "outputs": [
        {
          "output_type": "execute_result",
          "data": {
            "text/plain": [
              "PRICE     0\n",
              "SQFT      0\n",
              "AGE      49\n",
              "FEATS     0\n",
              "NE        0\n",
              "CUST      0\n",
              "COR       0\n",
              "TAX      10\n",
              "dtype: int64"
            ]
          },
          "metadata": {
            "tags": []
          },
          "execution_count": 6
        }
      ]
    },
    {
      "cell_type": "code",
      "metadata": {
        "id": "k5maNetL8FTt"
      },
      "source": [
        "del df['AGE']"
      ],
      "execution_count": 7,
      "outputs": []
    },
    {
      "cell_type": "code",
      "metadata": {
        "colab": {
          "base_uri": "https://localhost:8080/",
          "height": 265
        },
        "id": "trEyU5PG8GuJ",
        "outputId": "ca31a087-7402-4f3e-e0fd-f41da3047bf4"
      },
      "source": [
        "df['TAX'].hist()\n",
        "plt.show()"
      ],
      "execution_count": 8,
      "outputs": [
        {
          "output_type": "display_data",
          "data": {
            "image/png": "[encoded data removed]",
            "text/plain": [
              "<Figure size 432x288 with 1 Axes>"
            ]
          },
          "metadata": {
            "tags": [],
            "needs_background": "light"
          }
        }
      ]
    },
    {
      "cell_type": "code",
      "metadata": {
        "id": "YKyXbtFE8JTN"
      },
      "source": [
        "df['TAX'] = df['TAX'].fillna(df['TAX'].mean())"
      ],
      "execution_count": 9,
      "outputs": []
    },
    {
      "cell_type": "code",
      "metadata": {
        "colab": {
          "base_uri": "https://localhost:8080/"
        },
        "id": "TSGfgQWp8MZ9",
        "outputId": "16da24ea-cc17-467c-a8c6-2ba0191f9d29"
      },
      "source": [
        "len(df.dropna())"
      ],
      "execution_count": 10,
      "outputs": [
        {
          "output_type": "execute_result",
          "data": {
            "text/plain": [
              "117"
            ]
          },
          "metadata": {
            "tags": []
          },
          "execution_count": 10
        }
      ]
    },
    {
      "cell_type": "code",
      "metadata": {
        "id": "LQfliH6s_iuz"
      },
      "source": [
        "from sklearn.linear_model import LinearRegression"
      ],
      "execution_count": 11,
      "outputs": []
    },
    {
      "cell_type": "code",
      "metadata": {
        "id": "jwty_Pld_oHX"
      },
      "source": [
        "X = df.drop('PRICE', axis=1)\n",
        "y = df['PRICE']"
      ],
      "execution_count": 13,
      "outputs": []
    },
    {
      "cell_type": "code",
      "metadata": {
        "colab": {
          "base_uri": "https://localhost:8080/"
        },
        "id": "nC74DtIb_rnC",
        "outputId": "4c005fa0-db23-4afd-a2ca-f1f7eb853f9f"
      },
      "source": [
        "model = LinearRegression()\n",
        "model.fit(X, y)"
      ],
      "execution_count": 14,
      "outputs": [
        {
          "output_type": "execute_result",
          "data": {
            "text/plain": [
              "LinearRegression(copy_X=True, fit_intercept=True, n_jobs=None, normalize=False)"
            ]
          },
          "metadata": {
            "tags": []
          },
          "execution_count": 14
        }
      ]
    },
    {
      "cell_type": "code",
      "metadata": {
        "colab": {
          "base_uri": "https://localhost:8080/"
        },
        "id": "-ix0OQcv_vLx",
        "outputId": "526f2afb-4bac-4c18-ed00-fa07ace4c285"
      },
      "source": [
        "print('R^2: {0}'.format(model.score(X, y)))"
      ],
      "execution_count": 15,
      "outputs": [
        {
          "output_type": "stream",
          "text": [
            "R^2: 0.8022436103807492\n"
          ],
          "name": "stdout"
        }
      ]
    },
    {
      "cell_type": "code",
      "metadata": {
        "colab": {
          "base_uri": "https://localhost:8080/",
          "height": 254
        },
        "id": "jLb71MoL_wcR",
        "outputId": "50c36554-1322-4783-c0f7-a8a9f2215fe5"
      },
      "source": [
        "coef = pd.DataFrame(zip(['intercept'] + X.columns.tolist(), [model.intercept_] + model.coef_.tolist()),\n",
        "                    columns=['predictor', 'coef'])\n",
        "coef"
      ],
      "execution_count": 16,
      "outputs": [
        {
          "output_type": "execute_result",
          "data": {
            "text/html": [
              "<div>\n",
              "<style scoped>\n",
              "    .dataframe tbody tr th:only-of-type {\n",
              "        vertical-align: middle;\n",
              "    }\n",
              "\n",
              "    .dataframe tbody tr th {\n",
              "        vertical-align: top;\n",
              "    }\n",
              "\n",
              "    .dataframe thead th {\n",
              "        text-align: right;\n",
              "    }\n",
              "</style>\n",
              "<table border=\"1\" class=\"dataframe\">\n",
              "  <thead>\n",
              "    <tr style=\"text-align: right;\">\n",
              "      <th></th>\n",
              "      <th>predictor</th>\n",
              "      <th>coef</th>\n",
              "    </tr>\n",
              "  </thead>\n",
              "  <tbody>\n",
              "    <tr>\n",
              "      <th>0</th>\n",
              "      <td>intercept</td>\n",
              "      <td>83.175919</td>\n",
              "    </tr>\n",
              "    <tr>\n",
              "      <th>1</th>\n",
              "      <td>SQFT</td>\n",
              "      <td>0.291978</td>\n",
              "    </tr>\n",
              "    <tr>\n",
              "      <th>2</th>\n",
              "      <td>FEATS</td>\n",
              "      <td>12.176743</td>\n",
              "    </tr>\n",
              "    <tr>\n",
              "      <th>3</th>\n",
              "      <td>NE</td>\n",
              "      <td>8.011604</td>\n",
              "    </tr>\n",
              "    <tr>\n",
              "      <th>4</th>\n",
              "      <td>CUST</td>\n",
              "      <td>133.014342</td>\n",
              "    </tr>\n",
              "    <tr>\n",
              "      <th>5</th>\n",
              "      <td>COR</td>\n",
              "      <td>-65.800841</td>\n",
              "    </tr>\n",
              "    <tr>\n",
              "      <th>6</th>\n",
              "      <td>TAX</td>\n",
              "      <td>0.541942</td>\n",
              "    </tr>\n",
              "  </tbody>\n",
              "</table>\n",
              "</div>"
            ],
            "text/plain": [
              "   predictor        coef\n",
              "0  intercept   83.175919\n",
              "1       SQFT    0.291978\n",
              "2      FEATS   12.176743\n",
              "3         NE    8.011604\n",
              "4       CUST  133.014342\n",
              "5        COR  -65.800841\n",
              "6        TAX    0.541942"
            ]
          },
          "metadata": {
            "tags": []
          },
          "execution_count": 16
        }
      ]
    },
    {
      "cell_type": "code",
      "metadata": {
        "colab": {
          "base_uri": "https://localhost:8080/",
          "height": 254
        },
        "id": "pkrSMEqv_6kP",
        "outputId": "9aa8e39d-1a1a-472e-bb83-bc9a3bc957eb"
      },
      "source": [
        "from scipy import stats\n",
        "\n",
        "def regression_coef(model, X, y):\n",
        "    coef = pd.DataFrame(zip(['intercept'] + X.columns.tolist(), [model.intercept_] + model.coef_.tolist()),\n",
        "                    columns=['predictor', 'coef'])\n",
        "    X1 = np.append(np.ones((len(X),1)), X, axis=1)\n",
        "    b = np.append(model.intercept_, model.coef_)\n",
        "    MSE = np.sum((model.predict(X) - y) ** 2, axis=0) / float(X.shape[0] - X.shape[1])\n",
        "    var_b = MSE * (np.linalg.inv(np.dot(X1.T, X1)).diagonal())\n",
        "    sd_b = np.sqrt(var_b)\n",
        "    t = b / sd_b\n",
        "    coef['pvalue'] = [2 * (1 - stats.t.cdf(np.abs(i), (len(X1) - 1))) for i in t]\n",
        "    return coef\n",
        "regression_coef(model, X, y)"
      ],
      "execution_count": 17,
      "outputs": [
        {
          "output_type": "execute_result",
          "data": {
            "text/html": [
              "<div>\n",
              "<style scoped>\n",
              "    .dataframe tbody tr th:only-of-type {\n",
              "        vertical-align: middle;\n",
              "    }\n",
              "\n",
              "    .dataframe tbody tr th {\n",
              "        vertical-align: top;\n",
              "    }\n",
              "\n",
              "    .dataframe thead th {\n",
              "        text-align: right;\n",
              "    }\n",
              "</style>\n",
              "<table border=\"1\" class=\"dataframe\">\n",
              "  <thead>\n",
              "    <tr style=\"text-align: right;\">\n",
              "      <th></th>\n",
              "      <th>predictor</th>\n",
              "      <th>coef</th>\n",
              "      <th>pvalue</th>\n",
              "    </tr>\n",
              "  </thead>\n",
              "  <tbody>\n",
              "    <tr>\n",
              "      <th>0</th>\n",
              "      <td>intercept</td>\n",
              "      <td>83.175919</td>\n",
              "      <td>1.895059e-01</td>\n",
              "    </tr>\n",
              "    <tr>\n",
              "      <th>1</th>\n",
              "      <td>SQFT</td>\n",
              "      <td>0.291978</td>\n",
              "      <td>2.580075e-06</td>\n",
              "    </tr>\n",
              "    <tr>\n",
              "      <th>2</th>\n",
              "      <td>FEATS</td>\n",
              "      <td>12.176743</td>\n",
              "      <td>3.419172e-01</td>\n",
              "    </tr>\n",
              "    <tr>\n",
              "      <th>3</th>\n",
              "      <td>NE</td>\n",
              "      <td>8.011604</td>\n",
              "      <td>8.190403e-01</td>\n",
              "    </tr>\n",
              "    <tr>\n",
              "      <th>4</th>\n",
              "      <td>CUST</td>\n",
              "      <td>133.014342</td>\n",
              "      <td>3.454095e-03</td>\n",
              "    </tr>\n",
              "    <tr>\n",
              "      <th>5</th>\n",
              "      <td>COR</td>\n",
              "      <td>-65.800841</td>\n",
              "      <td>1.168611e-01</td>\n",
              "    </tr>\n",
              "    <tr>\n",
              "      <th>6</th>\n",
              "      <td>TAX</td>\n",
              "      <td>0.541942</td>\n",
              "      <td>4.972770e-07</td>\n",
              "    </tr>\n",
              "  </tbody>\n",
              "</table>\n",
              "</div>"
            ],
            "text/plain": [
              "   predictor        coef        pvalue\n",
              "0  intercept   83.175919  1.895059e-01\n",
              "1       SQFT    0.291978  2.580075e-06\n",
              "2      FEATS   12.176743  3.419172e-01\n",
              "3         NE    8.011604  8.190403e-01\n",
              "4       CUST  133.014342  3.454095e-03\n",
              "5        COR  -65.800841  1.168611e-01\n",
              "6        TAX    0.541942  4.972770e-07"
            ]
          },
          "metadata": {
            "tags": []
          },
          "execution_count": 17
        }
      ]
    },
    {
      "cell_type": "code",
      "metadata": {
        "colab": {
          "base_uri": "https://localhost:8080/",
          "height": 254
        },
        "id": "SFZV9YE1_9bD",
        "outputId": "6e46d192-47eb-4af6-e457-ec686e7dda6b"
      },
      "source": [
        "df.corr()"
      ],
      "execution_count": 18,
      "outputs": [
        {
          "output_type": "execute_result",
          "data": {
            "text/html": [
              "<div>\n",
              "<style scoped>\n",
              "    .dataframe tbody tr th:only-of-type {\n",
              "        vertical-align: middle;\n",
              "    }\n",
              "\n",
              "    .dataframe tbody tr th {\n",
              "        vertical-align: top;\n",
              "    }\n",
              "\n",
              "    .dataframe thead th {\n",
              "        text-align: right;\n",
              "    }\n",
              "</style>\n",
              "<table border=\"1\" class=\"dataframe\">\n",
              "  <thead>\n",
              "    <tr style=\"text-align: right;\">\n",
              "      <th></th>\n",
              "      <th>PRICE</th>\n",
              "      <th>SQFT</th>\n",
              "      <th>FEATS</th>\n",
              "      <th>NE</th>\n",
              "      <th>CUST</th>\n",
              "      <th>COR</th>\n",
              "      <th>TAX</th>\n",
              "    </tr>\n",
              "  </thead>\n",
              "  <tbody>\n",
              "    <tr>\n",
              "      <th>PRICE</th>\n",
              "      <td>1.000000</td>\n",
              "      <td>0.844795</td>\n",
              "      <td>0.420272</td>\n",
              "      <td>0.167840</td>\n",
              "      <td>0.555292</td>\n",
              "      <td>-0.079293</td>\n",
              "      <td>0.844889</td>\n",
              "    </tr>\n",
              "    <tr>\n",
              "      <th>SQFT</th>\n",
              "      <td>0.844795</td>\n",
              "      <td>1.000000</td>\n",
              "      <td>0.394925</td>\n",
              "      <td>0.145030</td>\n",
              "      <td>0.520102</td>\n",
              "      <td>0.040528</td>\n",
              "      <td>0.832674</td>\n",
              "    </tr>\n",
              "    <tr>\n",
              "      <th>FEATS</th>\n",
              "      <td>0.420272</td>\n",
              "      <td>0.394925</td>\n",
              "      <td>1.000000</td>\n",
              "      <td>0.190016</td>\n",
              "      <td>0.241964</td>\n",
              "      <td>-0.041547</td>\n",
              "      <td>0.419473</td>\n",
              "    </tr>\n",
              "    <tr>\n",
              "      <th>NE</th>\n",
              "      <td>0.167840</td>\n",
              "      <td>0.145030</td>\n",
              "      <td>0.190016</td>\n",
              "      <td>1.000000</td>\n",
              "      <td>0.043033</td>\n",
              "      <td>-0.077336</td>\n",
              "      <td>0.189230</td>\n",
              "    </tr>\n",
              "    <tr>\n",
              "      <th>CUST</th>\n",
              "      <td>0.555292</td>\n",
              "      <td>0.520102</td>\n",
              "      <td>0.241964</td>\n",
              "      <td>0.043033</td>\n",
              "      <td>1.000000</td>\n",
              "      <td>-0.003994</td>\n",
              "      <td>0.444906</td>\n",
              "    </tr>\n",
              "    <tr>\n",
              "      <th>COR</th>\n",
              "      <td>-0.079293</td>\n",
              "      <td>0.040528</td>\n",
              "      <td>-0.041547</td>\n",
              "      <td>-0.077336</td>\n",
              "      <td>-0.003994</td>\n",
              "      <td>1.000000</td>\n",
              "      <td>-0.058329</td>\n",
              "    </tr>\n",
              "    <tr>\n",
              "      <th>TAX</th>\n",
              "      <td>0.844889</td>\n",
              "      <td>0.832674</td>\n",
              "      <td>0.419473</td>\n",
              "      <td>0.189230</td>\n",
              "      <td>0.444906</td>\n",
              "      <td>-0.058329</td>\n",
              "      <td>1.000000</td>\n",
              "    </tr>\n",
              "  </tbody>\n",
              "</table>\n",
              "</div>"
            ],
            "text/plain": [
              "          PRICE      SQFT     FEATS        NE      CUST       COR       TAX\n",
              "PRICE  1.000000  0.844795  0.420272  0.167840  0.555292 -0.079293  0.844889\n",
              "SQFT   0.844795  1.000000  0.394925  0.145030  0.520102  0.040528  0.832674\n",
              "FEATS  0.420272  0.394925  1.000000  0.190016  0.241964 -0.041547  0.419473\n",
              "NE     0.167840  0.145030  0.190016  1.000000  0.043033 -0.077336  0.189230\n",
              "CUST   0.555292  0.520102  0.241964  0.043033  1.000000 -0.003994  0.444906\n",
              "COR   -0.079293  0.040528 -0.041547 -0.077336 -0.003994  1.000000 -0.058329\n",
              "TAX    0.844889  0.832674  0.419473  0.189230  0.444906 -0.058329  1.000000"
            ]
          },
          "metadata": {
            "tags": []
          },
          "execution_count": 18
        }
      ]
    },
    {
      "cell_type": "code",
      "metadata": {
        "colab": {
          "base_uri": "https://localhost:8080/",
          "height": 153
        },
        "id": "XgA5cJIRAD9l",
        "outputId": "c348cd0c-74d1-4c7d-be26-058bbb552615"
      },
      "source": [
        "X = df[['SQFT', 'CUST']]\n",
        "model.fit(X, y)\n",
        "print(model.score(X, y))\n",
        "regression_coef(model, X, y)"
      ],
      "execution_count": 20,
      "outputs": [
        {
          "output_type": "stream",
          "text": [
            "0.7320966420178658\n"
          ],
          "name": "stdout"
        },
        {
          "output_type": "execute_result",
          "data": {
            "text/html": [
              "<div>\n",
              "<style scoped>\n",
              "    .dataframe tbody tr th:only-of-type {\n",
              "        vertical-align: middle;\n",
              "    }\n",
              "\n",
              "    .dataframe tbody tr th {\n",
              "        vertical-align: top;\n",
              "    }\n",
              "\n",
              "    .dataframe thead th {\n",
              "        text-align: right;\n",
              "    }\n",
              "</style>\n",
              "<table border=\"1\" class=\"dataframe\">\n",
              "  <thead>\n",
              "    <tr style=\"text-align: right;\">\n",
              "      <th></th>\n",
              "      <th>predictor</th>\n",
              "      <th>coef</th>\n",
              "      <th>pvalue</th>\n",
              "    </tr>\n",
              "  </thead>\n",
              "  <tbody>\n",
              "    <tr>\n",
              "      <th>0</th>\n",
              "      <td>intercept</td>\n",
              "      <td>114.134824</td>\n",
              "      <td>0.082734</td>\n",
              "    </tr>\n",
              "    <tr>\n",
              "      <th>1</th>\n",
              "      <td>SQFT</td>\n",
              "      <td>0.553635</td>\n",
              "      <td>0.000000</td>\n",
              "    </tr>\n",
              "    <tr>\n",
              "      <th>2</th>\n",
              "      <td>CUST</td>\n",
              "      <td>142.859931</td>\n",
              "      <td>0.005787</td>\n",
              "    </tr>\n",
              "  </tbody>\n",
              "</table>\n",
              "</div>"
            ],
            "text/plain": [
              "   predictor        coef    pvalue\n",
              "0  intercept  114.134824  0.082734\n",
              "1       SQFT    0.553635  0.000000\n",
              "2       CUST  142.859931  0.005787"
            ]
          },
          "metadata": {
            "tags": []
          },
          "execution_count": 20
        }
      ]
    },
    {
      "cell_type": "code",
      "metadata": {
        "id": "4IfTClt5AF7o"
      },
      "source": [
        ""
      ],
      "execution_count": null,
      "outputs": []
    }
  ]
}